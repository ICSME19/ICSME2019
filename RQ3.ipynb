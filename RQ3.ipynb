{
 "cells": [
  {
   "cell_type": "code",
   "execution_count": 318,
   "metadata": {},
   "outputs": [],
   "source": [
    "import pandas as pd\n",
    "import matplotlib.pyplot as plt\n",
    "import seaborn as sns\n",
    "import numpy as np\n",
    "from scipy.stats import norm\n",
    "from sklearn.preprocessing import StandardScaler\n",
    "from scipy import stats\n",
    "import warnings\n",
    "import re, datetime\n",
    "from lifelines import KaplanMeierFitter\n",
    "from datetime import date, timedelta"
   ]
  },
  {
   "cell_type": "code",
   "execution_count": 327,
   "metadata": {},
   "outputs": [],
   "source": [
    "dict1={\n",
    "\"4.3\" : \"26-6-2013 20:00:00\" ,\n",
    "\"4.4\" :  \"25-6-2014 12:15:00\" ,\n",
    "\"4.5\" : \"24-6-2015 20:00:00\" ,\n",
    "\"4.6\" :\"22-6-2016 11:00:00\",\n",
    "\"4.7\" :  \"28-6-2017 09:50:00\"\n",
    "}"
   ]
  },
  {
   "cell_type": "code",
   "execution_count": 328,
   "metadata": {},
   "outputs": [],
   "source": [
    "arr=[\n",
    "\"4.4\" ,\n",
    "\"4.5\" ,\n",
    "\"4.6\"  ,\n",
    "\"4.7\",\n",
    "\"4.8\" \n",
    "]"
   ]
  },
  {
   "cell_type": "code",
   "execution_count": 369,
   "metadata": {},
   "outputs": [],
   "source": [
    "dates=[\n",
    "    \"26-6-2013\" ,\n",
    " \"25-6-2014\" ,\n",
    " \"24-6-2015\" ,\n",
    "\"22-6-2016\",\n",
    "  \"28-6-2017\",\n",
    "  \"27-6-2018\",\n",
    " \"27-6-2019\"\n",
    "]"
   ]
  },
  {
   "cell_type": "code",
   "execution_count": 329,
   "metadata": {},
   "outputs": [],
   "source": [
    "def keepVal(activity):\n",
    "    if activity=='NEW'or activity=='Assignee':\n",
    "        return 1\n",
    "    return 0"
   ]
  },
  {
   "cell_type": "code",
   "execution_count": 330,
   "metadata": {},
   "outputs": [],
   "source": [
    "dX=pd.read_csv('db\\\\EC3.csv')\n"
   ]
  },
  {
   "cell_type": "code",
   "execution_count": 331,
   "metadata": {},
   "outputs": [],
   "source": [
    "#read the CSV file\n",
    "df=pd.read_csv('db\\\\EC3.csv')\n",
    "\n",
    "df['creation_ts']=pd.to_datetime(df['creation_ts'])"
   ]
  },
  {
   "cell_type": "code",
   "execution_count": 332,
   "metadata": {},
   "outputs": [],
   "source": [
    "df = df[df['creation_ts']>='01-01-2013 00:00:00']"
   ]
  },
  {
   "cell_type": "code",
   "execution_count": 333,
   "metadata": {},
   "outputs": [],
   "source": [
    "allD=df"
   ]
  },
  {
   "cell_type": "code",
   "execution_count": 334,
   "metadata": {},
   "outputs": [
    {
     "data": {
      "text/plain": [
       "21638"
      ]
     },
     "execution_count": 334,
     "metadata": {},
     "output_type": "execute_result"
    }
   ],
   "source": [
    "len(df.bug_id.unique())"
   ]
  },
  {
   "cell_type": "code",
   "execution_count": 335,
   "metadata": {},
   "outputs": [],
   "source": [
    "df['keep']=df.apply(lambda x : keepVal(x['activity']), axis=1)\n",
    "df = df[df['keep']==1]\n",
    "df = df[['When', 'Who', 'activity', 'bug_id', 'bug_severity', 'bug_status',\n",
    "       'creation_ts', 'resolution', 'version']]"
   ]
  },
  {
   "cell_type": "code",
   "execution_count": 336,
   "metadata": {},
   "outputs": [],
   "source": [
    "df1=df\n",
    "df2=df"
   ]
  },
  {
   "cell_type": "code",
   "execution_count": 337,
   "metadata": {},
   "outputs": [],
   "source": [
    "df2=df2.groupby(by='bug_id', as_index=False).agg({'activity': pd.Series.nunique})\n",
    "df2 = df2[df2['activity']!=2]"
   ]
  },
  {
   "cell_type": "code",
   "execution_count": 338,
   "metadata": {},
   "outputs": [],
   "source": [
    "dfList = df2['bug_id'].tolist()"
   ]
  },
  {
   "cell_type": "code",
   "execution_count": 339,
   "metadata": {},
   "outputs": [],
   "source": [
    "gap =allD[~allD.bug_id.isin(dfList)]"
   ]
  },
  {
   "cell_type": "code",
   "execution_count": 340,
   "metadata": {},
   "outputs": [],
   "source": [
    "df=gap"
   ]
  },
  {
   "cell_type": "code",
   "execution_count": 341,
   "metadata": {},
   "outputs": [
    {
     "name": "stderr",
     "output_type": "stream",
     "text": [
      "C:\\Users\\zeinab\\Anaconda3\\lib\\site-packages\\ipykernel_launcher.py:1: SettingWithCopyWarning: \n",
      "A value is trying to be set on a copy of a slice from a DataFrame.\n",
      "Try using .loc[row_indexer,col_indexer] = value instead\n",
      "\n",
      "See the caveats in the documentation: http://pandas.pydata.org/pandas-docs/stable/indexing.html#indexing-view-versus-copy\n",
      "  \"\"\"Entry point for launching an IPython kernel.\n",
      "C:\\Users\\zeinab\\Anaconda3\\lib\\site-packages\\ipykernel_launcher.py:2: SettingWithCopyWarning: \n",
      "A value is trying to be set on a copy of a slice from a DataFrame.\n",
      "Try using .loc[row_indexer,col_indexer] = value instead\n",
      "\n",
      "See the caveats in the documentation: http://pandas.pydata.org/pandas-docs/stable/indexing.html#indexing-view-versus-copy\n",
      "  \n"
     ]
    }
   ],
   "source": [
    "df['When']=pd.to_datetime(df['When'])\n",
    "df['creation_ts']=pd.to_datetime(df['creation_ts'])"
   ]
  },
  {
   "cell_type": "code",
   "execution_count": 342,
   "metadata": {},
   "outputs": [],
   "source": [
    "xData=pd.DataFrame()\n",
    "id_before_release=0\n",
    "id_after_release=0\n",
    "id_RBRB=0\n",
    "id_RBFB=0\n",
    "id_RBRA=0\n",
    "id_RBFA=0\n",
    "id_RARA=0\n",
    "id_RAFA=0\n",
    "c= -1\n",
    "for x in dict1:\n",
    "    data=pd.DataFrame()\n",
    "    c=c+1\n",
    "    for i in range(12):\n",
    "        start_date = dict1[x]\n",
    "        #print(start_date)\n",
    "        date_time_obj = datetime.datetime.strptime(start_date, '%d-%m-%Y %H:%M:%S')\n",
    "        #print('st',date_time_obj)\n",
    "        k=date_time_obj + timedelta(30*i)\n",
    "        l=date_time_obj + timedelta(30*(i+1))\n",
    "        \n",
    "        version= x\n",
    "        #print('version', x)\n",
    "        #print(i,k,l)\n",
    "   # print(x,dict[x])\n",
    "    #mask = (df['creation_ts'] > start_date) & (df['creation_ts'] <= end_date) & ((\"4.4.1\"==df['version'])  | (\"4.4\"==df['version']))\n",
    "    #mask = (df['creation_ts'] > start_date) & (df['creation_ts'] <= end_date) & (\"4.4\"==df['version'])\n",
    "        mask= (version==df['version'])  \n",
    "    #the bug before release \n",
    "   # maskp = (version==df['version'])  & (df['creation_ts'] < start_date)\n",
    "    #the bug after release \n",
    "        #maskp = (version==df['version'])  & (df['creation_ts'] >= k)  & (df['creation_ts'] <= l)\n",
    "        #maskp =  (df['creation_ts'] >= k)  & (df['creation_ts'] <= l)\n",
    "      \n",
    "        #maskp = (df['version'] != arr[c]) & (df['creation_ts'] >= k)  & (df['creation_ts'] <= l)\n",
    "        #maskp = (df['version'] == version) & \n",
    "        maskp =(df['creation_ts'] >= k)  & (df['creation_ts'] <= l)\n",
    "        #maskpp = (version==df['version'])  & (df['creation_ts'] >= start_date)  & (df['creation_ts'] > k)\n",
    "\n",
    "\n",
    "\n",
    "\n",
    "        dff = df.loc[mask]\n",
    "        dffp = df.loc[maskp]\n",
    "       # dffpp = df.loc[maskpp]\n",
    "\n",
    "        id_RF=dffp.bug_id.unique()\n",
    "       # id_RS=dffpp.bug_id.unique()\n",
    "\n",
    "    \n",
    "        TOTAL=len(id_RF)\n",
    "        data=pd.DataFrame({\"version\": [version] , \"total\":[ TOTAL] , 'id_RF':[id_RF], \"month\":i+1 \n",
    "  # , 'id_RS':[id_RS]\n",
    "  \n",
    "            \n",
    "   })\n",
    "    \n",
    "\n",
    "        xData=xData.append(data)"
   ]
  },
  {
   "cell_type": "code",
   "execution_count": 346,
   "metadata": {},
   "outputs": [],
   "source": [
    "#xData"
   ]
  },
  {
   "cell_type": "code",
   "execution_count": 347,
   "metadata": {},
   "outputs": [
    {
     "name": "stderr",
     "output_type": "stream",
     "text": [
      "C:\\Users\\zeinab\\Anaconda3\\lib\\site-packages\\ipykernel_launcher.py:9: SettingWithCopyWarning: \n",
      "A value is trying to be set on a copy of a slice from a DataFrame.\n",
      "Try using .loc[row_indexer,col_indexer] = value instead\n",
      "\n",
      "See the caveats in the documentation: http://pandas.pydata.org/pandas-docs/stable/indexing.html#indexing-view-versus-copy\n",
      "  if __name__ == '__main__':\n"
     ]
    }
   ],
   "source": [
    "counter=0\n",
    "total=pd.DataFrame()\n",
    "data=pd.DataFrame()\n",
    "for index, row in xData.iterrows():\n",
    "    df3=df[df.bug_id.isin(row['id_RF'])]\n",
    "   # print(len(row['id_RAFA']))\n",
    "    version=row['version']\n",
    "    month=row['month']\n",
    "    df3['keep']=df3.apply(lambda x : keepVal(x['activity']), axis=1)\n",
    "    df3 = df3[df3['keep']==1]\n",
    "    df3 = df3[['When', 'activity', 'bug_id']]\n",
    "\n",
    "    df3['When']=pd.to_datetime(df3['When'])\n",
    "    #print (df3.groupby('bug_id').groups)\n",
    "    df3=df3.groupby(['bug_id','activity'])['When'].min().reset_index()\n",
    "    df3['diff'] = df3.groupby('bug_id')['When'].transform(lambda x: (x.max()-x.min()).days)\n",
    "    df3=df3.groupby('bug_id').first().reset_index()\n",
    "    df3= df3[['bug_id',\n",
    "     'When',\n",
    "     'diff']]\n",
    "    df3['month'] = row['month']\n",
    "    df3['version'] = row['version']\n",
    "    counter=counter+1\n",
    "    total=total.append(df3)\n",
    "    if counter==12 :\n",
    "        total.to_csv('RQ3\\\\aEclipse-RF_'+str(version)+'.csv',index=False)\n",
    "        counter=0\n",
    "        total=pd.DataFrame()\n",
    "    \n",
    "#fg=tData[0]"
   ]
  },
  {
   "cell_type": "code",
   "execution_count": 348,
   "metadata": {},
   "outputs": [],
   "source": [
    "draft1 = pd.read_csv('RQ3\\\\aEclipse-RF_4.3.csv')\n",
    "draft2 = pd.read_csv('RQ3\\\\aEclipse-RF_4.4.csv')\n",
    "draft3 = pd.read_csv('RQ3\\\\aEclipse-RF_4.5.csv')\n",
    "draft4 = pd.read_csv('RQ3\\\\aEclipse-RF_4.6.csv')\n",
    "draft5 = pd.read_csv('RQ3\\\\aEclipse-RF_4.7.csv')\n",
    "#draft6 = pd.read_csv('RQ3\\\\aEclipse-RF_4.8.csv')"
   ]
  },
  {
   "cell_type": "code",
   "execution_count": 349,
   "metadata": {},
   "outputs": [],
   "source": [
    "allx=[draft1,draft2,draft3,draft4,draft5]"
   ]
  },
  {
   "cell_type": "code",
   "execution_count": 234,
   "metadata": {},
   "outputs": [
    {
     "data": {
      "text/plain": [
       "3.25"
      ]
     },
     "execution_count": 234,
     "metadata": {},
     "output_type": "execute_result"
    }
   ],
   "source": [
    "x=draft3[draft3['month']==8]\n",
    "x['diff'].quantile(.75)"
   ]
  },
  {
   "cell_type": "code",
   "execution_count": 132,
   "metadata": {},
   "outputs": [
    {
     "data": {
      "text/plain": [
       "98.0"
      ]
     },
     "execution_count": 132,
     "metadata": {},
     "output_type": "execute_result"
    }
   ],
   "source": [
    "x=draft3[draft3['month']==5]\n",
    "x['diff'].quantile(.75)"
   ]
  },
  {
   "cell_type": "code",
   "execution_count": 196,
   "metadata": {},
   "outputs": [
    {
     "data": {
      "text/html": [
       "<div>\n",
       "<style scoped>\n",
       "    .dataframe tbody tr th:only-of-type {\n",
       "        vertical-align: middle;\n",
       "    }\n",
       "\n",
       "    .dataframe tbody tr th {\n",
       "        vertical-align: top;\n",
       "    }\n",
       "\n",
       "    .dataframe thead th {\n",
       "        text-align: right;\n",
       "    }\n",
       "</style>\n",
       "<table border=\"1\" class=\"dataframe\">\n",
       "  <thead>\n",
       "    <tr style=\"text-align: right;\">\n",
       "      <th></th>\n",
       "      <th>c1</th>\n",
       "      <th>c2</th>\n",
       "      <th>c3</th>\n",
       "    </tr>\n",
       "  </thead>\n",
       "  <tbody>\n",
       "    <tr>\n",
       "      <th>0</th>\n",
       "      <td>4</td>\n",
       "      <td>5</td>\n",
       "      <td>6</td>\n",
       "    </tr>\n",
       "    <tr>\n",
       "      <th>1</th>\n",
       "      <td>4</td>\n",
       "      <td>5</td>\n",
       "      <td>6</td>\n",
       "    </tr>\n",
       "  </tbody>\n",
       "</table>\n",
       "</div>"
      ],
      "text/plain": [
       "  c1 c2 c3\n",
       "0  4  5  6\n",
       "1  4  5  6"
      ]
     },
     "execution_count": 196,
     "metadata": {},
     "output_type": "execute_result"
    }
   ],
   "source": [
    "cols = ['c1', 'c2', 'c3']\n",
    "df2 = pd.DataFrame(columns=cols, index=range(2))\n",
    "for a in range(2):\n",
    "    df2.loc[a].c1 = 4\n",
    "    df2.loc[a].c2 = 5\n",
    "    df2.loc[a].c3 = 6\n",
    "df2"
   ]
  },
  {
   "cell_type": "code",
   "execution_count": 191,
   "metadata": {},
   "outputs": [],
   "source": [
    "#dd = pd.DataFrame(columns=['1','2','3','4','5','6','7','8','9','10','11','12'])"
   ]
  },
  {
   "cell_type": "code",
   "execution_count": 240,
   "metadata": {},
   "outputs": [],
   "source": [
    "cols = ['1','2','3','4','5','6','7','8','9','10','11','12']\n",
    "dd = pd.DataFrame(columns=cols, index=range(12))\n"
   ]
  },
  {
   "cell_type": "code",
   "execution_count": 255,
   "metadata": {},
   "outputs": [
    {
     "name": "stdout",
     "output_type": "stream",
     "text": [
      "[7.0, 4.75, 4.0, 2.0, 3.0, 1.0, 4.0, 2.0, 3.0, 3.0, 3.0, 4.0, 0]\n",
      "[4.0, 2.0, 3.0, 5.0, 3.0, 2.0, 2.0, 2.0, 4.0, 183.25, 160.0, 82.0, 0]\n",
      "[73.0, 98.25, 104.0, 91.0, 171.25, 27.25, 6.0, 3.25, 8.0, 1.0, 2.0, 4.0, 0]\n",
      "[4.75, 6.0, 5.0, 9.0, 20.75, 7.0, 1.0, 3.0, 3.0, 2.0, 0.0, 5.0, 0]\n",
      "[4.25, 12.0, 5.75, 6.0, 3.0, 7.75, 4.0, 5.5, 5.0, 2.0, 2.0, 5.0, 0]\n"
     ]
    }
   ],
   "source": [
    "\n",
    "dd=pd.DataFrame()\n",
    "c=0\n",
    "for j in allx:\n",
    "    rem=[0]\n",
    "    for i in range(12):\n",
    "        x=j[j['month']==i+1]\n",
    "        g=x['diff'].quantile(.75)\n",
    "        dd.loc[c,i+1] = g\n",
    "        \n",
    "        rem.insert(i,g)\n",
    "    c=c+1\n",
    "    #print(rem)   \n",
    "\n",
    "#df = pd.DataFrame(columns=g, index=['x','y','z'])"
   ]
  },
  {
   "cell_type": "code",
   "execution_count": 374,
   "metadata": {},
   "outputs": [
    {
     "name": "stdout",
     "output_type": "stream",
     "text": [
      "2013-06-26 00:00:00\n"
     ]
    }
   ],
   "source": [
    "date_time_obj = datetime.datetime.strptime(dates[0], '%d-%m-%Y')\n",
    "print(date_time_obj)"
   ]
  },
  {
   "cell_type": "code",
   "execution_count": 375,
   "metadata": {},
   "outputs": [
    {
     "name": "stdout",
     "output_type": "stream",
     "text": [
      "[7.0, 4.75, 4.0, 2.0, 3.0, 1.0, 4.0, 2.0, 3.0, 3.0, 3.0, 4.0, 0]\n",
      "[4.0, 2.0, 3.0, 5.0, 3.0, 2.0, 2.0, 2.0, 4.0, 183.25, 160.0, 82.0, 0]\n",
      "[73.0, 98.25, 104.0, 91.0, 171.25, 27.25, 6.0, 3.25, 8.0, 1.0, 2.0, 4.0, 0]\n",
      "[4.75, 6.0, 5.0, 9.0, 20.75, 7.0, 1.0, 3.0, 3.0, 2.0, 0.0, 5.0, 0]\n",
      "[4.25, 12.0, 5.75, 6.0, 3.0, 7.75, 4.0, 5.5, 5.0, 2.0, 2.0, 5.0, 0]\n"
     ]
    }
   ],
   "source": [
    "\n",
    "dd=pd.DataFrame()\n",
    "c=0\n",
    "for j in allx:\n",
    "    rem=[0]\n",
    "    date_time_obj = datetime.datetime.strptime(dates[c], '%d-%m-%Y')\n",
    "    for i in range(12):\n",
    "        k=date_time_obj + timedelta(30*i)\n",
    "        x=j[j['month']==i+1]\n",
    "        g=x['diff'].quantile(.75)\n",
    "        dd.loc[0,k] = g\n",
    "        \n",
    "        rem.insert(i,g)\n",
    "    c=c+1\n",
    "   # print(rem)   \n",
    "\n"
   ]
  },
  {
   "cell_type": "code",
   "execution_count": 376,
   "metadata": {},
   "outputs": [
    {
     "data": {
      "text/html": [
       "<div>\n",
       "<style scoped>\n",
       "    .dataframe tbody tr th:only-of-type {\n",
       "        vertical-align: middle;\n",
       "    }\n",
       "\n",
       "    .dataframe tbody tr th {\n",
       "        vertical-align: top;\n",
       "    }\n",
       "\n",
       "    .dataframe thead th {\n",
       "        text-align: right;\n",
       "    }\n",
       "</style>\n",
       "<table border=\"1\" class=\"dataframe\">\n",
       "  <thead>\n",
       "    <tr style=\"text-align: right;\">\n",
       "      <th></th>\n",
       "      <th>2013-06-26 00:00:00</th>\n",
       "      <th>2013-07-26 00:00:00</th>\n",
       "      <th>2013-08-25 00:00:00</th>\n",
       "      <th>2013-09-24 00:00:00</th>\n",
       "      <th>2013-10-24 00:00:00</th>\n",
       "      <th>2013-11-23 00:00:00</th>\n",
       "      <th>2013-12-23 00:00:00</th>\n",
       "      <th>2014-01-22 00:00:00</th>\n",
       "      <th>2014-02-21 00:00:00</th>\n",
       "      <th>2014-03-23 00:00:00</th>\n",
       "      <th>...</th>\n",
       "      <th>2017-08-27 00:00:00</th>\n",
       "      <th>2017-09-26 00:00:00</th>\n",
       "      <th>2017-10-26 00:00:00</th>\n",
       "      <th>2017-11-25 00:00:00</th>\n",
       "      <th>2017-12-25 00:00:00</th>\n",
       "      <th>2018-01-24 00:00:00</th>\n",
       "      <th>2018-02-23 00:00:00</th>\n",
       "      <th>2018-03-25 00:00:00</th>\n",
       "      <th>2018-04-24 00:00:00</th>\n",
       "      <th>2018-05-24 00:00:00</th>\n",
       "    </tr>\n",
       "  </thead>\n",
       "  <tbody>\n",
       "    <tr>\n",
       "      <th>0</th>\n",
       "      <td>7.0</td>\n",
       "      <td>4.75</td>\n",
       "      <td>4.0</td>\n",
       "      <td>2.0</td>\n",
       "      <td>3.0</td>\n",
       "      <td>1.0</td>\n",
       "      <td>4.0</td>\n",
       "      <td>2.0</td>\n",
       "      <td>3.0</td>\n",
       "      <td>3.0</td>\n",
       "      <td>...</td>\n",
       "      <td>5.75</td>\n",
       "      <td>6.0</td>\n",
       "      <td>3.0</td>\n",
       "      <td>7.75</td>\n",
       "      <td>4.0</td>\n",
       "      <td>5.5</td>\n",
       "      <td>5.0</td>\n",
       "      <td>2.0</td>\n",
       "      <td>2.0</td>\n",
       "      <td>5.0</td>\n",
       "    </tr>\n",
       "  </tbody>\n",
       "</table>\n",
       "<p>1 rows × 60 columns</p>\n",
       "</div>"
      ],
      "text/plain": [
       "   2013-06-26  2013-07-26  2013-08-25  2013-09-24  2013-10-24  2013-11-23  \\\n",
       "0         7.0        4.75         4.0         2.0         3.0         1.0   \n",
       "\n",
       "   2013-12-23  2014-01-22  2014-02-21  2014-03-23     ...      2017-08-27  \\\n",
       "0         4.0         2.0         3.0         3.0     ...            5.75   \n",
       "\n",
       "   2017-09-26  2017-10-26  2017-11-25  2017-12-25  2018-01-24  2018-02-23  \\\n",
       "0         6.0         3.0        7.75         4.0         5.5         5.0   \n",
       "\n",
       "   2018-03-25  2018-04-24  2018-05-24  \n",
       "0         2.0         2.0         5.0  \n",
       "\n",
       "[1 rows x 60 columns]"
      ]
     },
     "execution_count": 376,
     "metadata": {},
     "output_type": "execute_result"
    }
   ],
   "source": [
    "dd"
   ]
  },
  {
   "cell_type": "code",
   "execution_count": 377,
   "metadata": {},
   "outputs": [
    {
     "data": {
      "text/plain": [
       "<matplotlib.axes._subplots.AxesSubplot at 0x1e8666591d0>"
      ]
     },
     "execution_count": 377,
     "metadata": {},
     "output_type": "execute_result"
    },
    {
     "data": {
      "image/png": "[encoded data removed]",
      "text/plain": [
       "<Figure size 432x288 with 1 Axes>"
      ]
     },
     "metadata": {},
     "output_type": "display_data"
    }
   ],
   "source": [
    "import matplotlib.pyplot as plt\n",
    "import pandas as pd\n",
    "\n",
    "#for i in range(5):\n",
    "row = dd.iloc[0]\n",
    "row.plot(kind='line')"
   ]
  },
  {
   "cell_type": "code",
   "execution_count": 173,
   "metadata": {},
   "outputs": [
    {
     "data": {
      "image/png": "[encoded data removed]",
      "text/plain": [
       "<Figure size 432x288 with 1 Axes>"
      ]
     },
     "metadata": {},
     "output_type": "display_data"
    }
   ],
   "source": [
    "import seaborn as sns\n",
    "sns.set(style=\"whitegrid\")\n",
    "ax = sns.boxenplot(x=draft1['month'], y=draft1['diff'])\n"
   ]
  },
  {
   "cell_type": "code",
   "execution_count": 174,
   "metadata": {},
   "outputs": [
    {
     "data": {
      "image/png": "[encoded data removed]",
      "text/plain": [
       "<Figure size 432x288 with 1 Axes>"
      ]
     },
     "metadata": {},
     "output_type": "display_data"
    }
   ],
   "source": [
    "sns.set(style=\"whitegrid\")\n",
    "ax = sns.boxenplot(x=draft2['month'], y=draft2['diff'])\n",
    "\n",
    "#4.4"
   ]
  },
  {
   "cell_type": "code",
   "execution_count": 175,
   "metadata": {},
   "outputs": [
    {
     "data": {
      "image/png": "[encoded data removed]",
      "text/plain": [
       "<Figure size 432x288 with 1 Axes>"
      ]
     },
     "metadata": {},
     "output_type": "display_data"
    }
   ],
   "source": [
    "sns.set(style=\"whitegrid\")\n",
    "ax = sns.boxenplot(x=draft3['month'], y=draft3['diff'])\n",
    "\n",
    "#4.5\n"
   ]
  },
  {
   "cell_type": "code",
   "execution_count": 176,
   "metadata": {},
   "outputs": [
    {
     "data": {
      "image/png": "[encoded data removed]",
      "text/plain": [
       "<Figure size 432x288 with 1 Axes>"
      ]
     },
     "metadata": {},
     "output_type": "display_data"
    }
   ],
   "source": [
    "sns.set(style=\"whitegrid\")\n",
    "ax = sns.boxenplot(x=draft4['month'], y=draft4['diff'])\n",
    "#4.6\n"
   ]
  },
  {
   "cell_type": "code",
   "execution_count": 177,
   "metadata": {},
   "outputs": [
    {
     "data": {
      "image/png": "[encoded data removed]",
      "text/plain": [
       "<Figure size 432x288 with 1 Axes>"
      ]
     },
     "metadata": {},
     "output_type": "display_data"
    }
   ],
   "source": [
    "sns.set(style=\"whitegrid\")\n",
    "ax = sns.boxenplot(x=draft5['month'], y=draft5['diff'])\n",
    "\n"
   ]
  },
  {
   "cell_type": "code",
   "execution_count": 43,
   "metadata": {},
   "outputs": [
    {
     "data": {
      "image/png": "[encoded data removed]",
      "text/plain": [
       "<Figure size 432x288 with 5 Axes>"
      ]
     },
     "metadata": {},
     "output_type": "display_data"
    }
   ],
   "source": [
    "kmf = KaplanMeierFitter()\n",
    "\n",
    "draft1 = pd.read_csv('db\\\\aEclipse-RF_4.3.csv')\n",
    "draft2 = pd.read_csv('db\\\\aEclipse-RS_4.3.csv')\n",
    "data1=['4.3',draft1,draft2]\n",
    "draft3 = pd.read_csv('db\\\\aEclipse-RF_4.4.csv')\n",
    "draft4 = pd.read_csv('db\\\\aEclipse-RS_4.4.csv')\n",
    "data2=['4.4',draft3,draft4]\n",
    "draft5 = pd.read_csv('db\\\\aEclipse-RF_4.5.csv')\n",
    "draft6 = pd.read_csv('db\\\\aEclipse-RS_4.5.csv')\n",
    "data3=['4.5',draft5,draft6]\n",
    "draft7 = pd.read_csv('db\\\\aEclipse-RF_4.6.csv')\n",
    "draft8 = pd.read_csv('db\\\\aEclipse-RS_4.6.csv')\n",
    "data4=['4.6',draft7,draft8]\n",
    "draft9 = pd.read_csv('db\\\\aEclipse-RF_4.7.csv')\n",
    "draft10 = pd.read_csv('db\\\\aEclipse-RS_4.7.csv')\n",
    "data5=['4.7',draft9,draft10]\n",
    "allf=[data1,data2,data3,data4,data5]\n",
    "time=['RF','RS']\n",
    "for i,file in enumerate(allf):\n",
    "    ax = plt.subplot(2, 3, i+1)\n",
    "    for j,dat in enumerate(file):\n",
    "        if j==0:\n",
    "            version=dat\n",
    "        else:\n",
    "            T = dat[\"diff\"]\n",
    "            E = dat[\"done\"]\n",
    "            kmf.fit( T, E, label=time[j-1])\n",
    "            kmf.plot(ax=ax, ci_force_lines=True)\n",
    "    plt.title(version)\n",
    "    plt.xlim(0, 265)\n",
    "    if i==0:\n",
    "        plt.ylabel('triaging time over releases')\n",
    "plt.tight_layout()"
   ]
  }
 ],
 "metadata": {
  "kernelspec": {
   "display_name": "Python 3",
   "language": "python",
   "name": "python3"
  },
  "language_info": {
   "codemirror_mode": {
    "name": "ipython",
    "version": 3
   },
   "file_extension": ".py",
   "mimetype": "text/x-python",
   "name": "python",
   "nbconvert_exporter": "python",
   "pygments_lexer": "ipython3",
   "version": "3.6.8"
  }
 },
 "nbformat": 4,
 "nbformat_minor": 2
}
