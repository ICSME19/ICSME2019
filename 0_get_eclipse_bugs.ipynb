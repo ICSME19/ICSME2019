{
 "cells": [
  {
   "cell_type": "code",
   "execution_count": 1,
   "metadata": {},
   "outputs": [],
   "source": [
    "import requests\n",
    "import json\n",
    "import time\n",
    "import os\n",
    "import pandas as pd\n",
    "import requests\n",
    "from pandas.io.json import json_normalize\n",
    "import csv"
   ]
  },
  {
   "cell_type": "markdown",
   "metadata": {},
   "source": [
    "### Information\n",
    "\n",
    "Input files:\n",
    "None\n",
    "\n",
    "Output files:\n",
    "raw_data/all_eclipse_bugs_full.csv\n",
    "raw_data/bug_dependencies.csv\n"
   ]
  },
  {
   "cell_type": "code",
   "execution_count": 2,
   "metadata": {},
   "outputs": [],
   "source": [
    "complete_dataset_file_name = 'raw_data/all_eclipse_bugs_full.csv'\n",
    "bug_dependencies_file = './raw_data/bug_dependencies.csv'"
   ]
  },
  {
   "cell_type": "code",
   "execution_count": null,
   "metadata": {},
   "outputs": [],
   "source": [
    "user_name = 'zainab.ab.k7@gmail.com'\n",
    "passw = 'wRc6BA7MHXqNeQQ'\n",
    "r = requests.get('https://bugs.eclipse.org/bugs/rest/login?login='+user_name+'&password='+passw)"
   ]
  },
  {
   "cell_type": "code",
   "execution_count": null,
   "metadata": {},
   "outputs": [],
   "source": [
    "#inititally it was a string variable - we need to convert it to a dictionary\n",
    "token_var = json.loads(r.text)\n",
    "token_var = token_var['token']\n",
    "token_var"
   ]
  },
  {
   "cell_type": "code",
   "execution_count": 3,
   "metadata": {},
   "outputs": [],
   "source": [
    "#https://bugzilla.readthedocs.io/en/5.0/api/core/v1/bug.html#search-bugs\n",
    "products = ['Platform', 'JDT', 'PDE','E4','Incubator','Equinox']\n"
   ]
  },
  {
   "cell_type": "code",
   "execution_count": null,
   "metadata": {},
   "outputs": [],
   "source": [
    "for product in products:\n",
    "    offset = 0\n",
    "    limit = 1000\n",
    "\n",
    "    while True:\n",
    "        target_file = 'raw_data/json/eclipse_bugs_product='+str(product)+'_offset='+str(offset)+'.json'\n",
    "        if not os.path.exists(target_file):\n",
    "            link = 'https://bugs.eclipse.org/bugs/rest/bug?product='+product+'&limit='+str(limit)+'&offset='+str(offset)+'&token='+token_var\n",
    "            ff = requests.get(link)\n",
    "            plat_bugs = ff.text\n",
    "            jsonarray = json.loads(plat_bugs)\n",
    "            jsonarray = jsonarray['bugs']\n",
    "            if len(str(jsonarray))==0 or len(jsonarray)==0:\n",
    "                break\n",
    "\n",
    "            with open(target_file, 'w') as outfile:\n",
    "                json.dump(jsonarray, outfile)\n",
    "\n",
    "        offset+=limit\n",
    "    time.sleep(1)"
   ]
  },
  {
   "cell_type": "code",
   "execution_count": 4,
   "metadata": {},
   "outputs": [
    {
     "name": "stdout",
     "output_type": "stream",
     "text": [
      "Platform\n"
     ]
    },
    {
     "name": "stderr",
     "output_type": "stream",
     "text": [
      "/anaconda3/lib/python3.7/site-packages/pandas/core/frame.py:6211: FutureWarning: Sorting because non-concatenation axis is not aligned. A future version\n",
      "of pandas will change to not sort by default.\n",
      "\n",
      "To accept the future behavior, pass 'sort=False'.\n",
      "\n",
      "To retain the current behavior and silence the warning, pass 'sort=True'.\n",
      "\n",
      "  sort=sort)\n"
     ]
    },
    {
     "name": "stdout",
     "output_type": "stream",
     "text": [
      "JDT\n",
      "PDE\n",
      "E4\n",
      "Incubator\n",
      "Equinox\n"
     ]
    }
   ],
   "source": [
    "#Get the bugs of all products without any version field constraints\n",
    "if os.path.exists(complete_dataset_file_name):\n",
    "    df_all = pd.read_csv(complete_dataset_file_name,index_col=False)\n",
    "else:\n",
    "    df_all = pd.DataFrame()\n",
    "    \n",
    "    df_depends_on = pd.DataFrame()\n",
    "    \n",
    "    path_to_json = 'raw_data/json'\n",
    "\n",
    "    results = pd.DataFrame()\n",
    "  \n",
    "    for product in products:\n",
    "        print(product)\n",
    "        json_files = [pos_json for pos_json in os.listdir(path_to_json) if pos_json.endswith('.json')]\n",
    "        json_files = [x for x in json_files if '_product='+product in x and '_offset'  in x]\n",
    "\n",
    "\n",
    "        for file in json_files:\n",
    "            with open('raw_data/json/'+file) as f:\n",
    "                data = json.load(f)\n",
    "            \n",
    "            norm = json_normalize(data)\n",
    "            bug_depends_on = norm[['id','depends_on']]\n",
    "            bug_depends_on  = (\n",
    "                bug_depends_on\n",
    "                .depends_on.apply(pd.Series)\n",
    "                .merge(bug_depends_on, left_index = True, right_index = True)\n",
    "                .drop([\"depends_on\"], axis = 1)\n",
    "                .melt(id_vars = ['id'], value_name = \"depends_on\")\n",
    "                .drop(['variable'],axis=1)\n",
    "                .dropna()\n",
    "            )\n",
    "            \n",
    "            df_depends_on = df_depends_on.append(bug_depends_on,ignore_index=True)\n",
    "\n",
    "            df_all = df_all.append(norm,ignore_index=True)\n",
    "            \n",
    "    #export the files\n",
    "    df_all.to_csv(complete_dataset_file_name,index=False,quoting=csv.QUOTE_NONNUMERIC)\n",
    "    df_depends_on.to_csv(bug_dependencies_file,index=False,quoting=csv.QUOTE_NONNUMERIC)"
   ]
  }
 ],
 "metadata": {
  "kernelspec": {
   "display_name": "Python 3",
   "language": "python",
   "name": "python3"
  },
  "language_info": {
   "codemirror_mode": {
    "name": "ipython",
    "version": 3
   },
   "file_extension": ".py",
   "mimetype": "text/x-python",
   "name": "python",
   "nbconvert_exporter": "python",
   "pygments_lexer": "ipython3",
   "version": "3.7.1"
  }
 },
 "nbformat": 4,
 "nbformat_minor": 2
}
