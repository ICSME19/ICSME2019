{
 "cells": [
  {
   "cell_type": "code",
   "execution_count": 1,
   "metadata": {},
   "outputs": [],
   "source": [
    "import pandas as pd\n",
    "import os\n",
    "import json\n",
    "import csv\n",
    "import re, datetime\n",
    "import matplotlib.pyplot as plt\n",
    "import seaborn as sns\n",
    "from datetime import date, timedelta\n",
    "\n",
    "from lifelines import KaplanMeierFitter\n",
    "\n",
    "from global_functions import *"
   ]
  },
  {
   "cell_type": "code",
   "execution_count": 2,
   "metadata": {},
   "outputs": [],
   "source": [
    "#newCase\n",
    "def NewCase(dfx):\n",
    "    dfN = dfx\n",
    "    if dfN.empty==False:\n",
    "        dfN['added']='NEW'\n",
    "        dfN['removed']=''\n",
    "        dfN=dfN.drop_duplicates(subset='id', keep=\"last\")\n",
    "        dfN['what']=dfN.apply(lambda x: 'status',axis=1)\n",
    "        dfN['when']=dfN.apply(lambda x: pd.to_datetime(x['creation_time']),axis=1)\n",
    "        dfN['who']=dfN.apply(lambda x: '',axis=1)\n",
    "    dfN = dfN[['id','added',  'removed', 'what', 'when', 'who']]    \n",
    "    return dfN\n"
   ]
  },
  {
   "cell_type": "code",
   "execution_count": 3,
   "metadata": {},
   "outputs": [],
   "source": [
    "#return the activity\n",
    "def return_activity_as(x):\n",
    "    if x['what']=='status':\n",
    "        return x['added']\n",
    "    return''"
   ]
  },
  {
   "cell_type": "code",
   "execution_count": 4,
   "metadata": {},
   "outputs": [],
   "source": [
    "#keep only changes in status\n",
    "def keep_status(x):\n",
    "    if x['what']=='status':\n",
    "        return 1\n",
    "    return 0"
   ]
  },
  {
   "cell_type": "code",
   "execution_count": 5,
   "metadata": {},
   "outputs": [
    {
     "name": "stdout",
     "output_type": "stream",
     "text": [
      "138445\n"
     ]
    },
    {
     "data": {
      "text/html": [
       "<div>\n",
       "<style scoped>\n",
       "    .dataframe tbody tr th:only-of-type {\n",
       "        vertical-align: middle;\n",
       "    }\n",
       "\n",
       "    .dataframe tbody tr th {\n",
       "        vertical-align: top;\n",
       "    }\n",
       "\n",
       "    .dataframe thead th {\n",
       "        text-align: right;\n",
       "    }\n",
       "</style>\n",
       "<table border=\"1\" class=\"dataframe\">\n",
       "  <thead>\n",
       "    <tr style=\"text-align: right;\">\n",
       "      <th></th>\n",
       "      <th>id</th>\n",
       "      <th>release</th>\n",
       "      <th>Product</th>\n",
       "      <th>creation_time</th>\n",
       "      <th>version</th>\n",
       "      <th>resolution</th>\n",
       "      <th>is_assigned</th>\n",
       "      <th>is_resolved</th>\n",
       "      <th>is_fixed</th>\n",
       "      <th>first_assignment_date</th>\n",
       "      <th>...</th>\n",
       "      <th>last_resolved_date</th>\n",
       "      <th>first_fixed_date</th>\n",
       "      <th>last_fixed_date</th>\n",
       "      <th>time_assign_diff</th>\n",
       "      <th>time_resolve_diff</th>\n",
       "      <th>time_fix_diff</th>\n",
       "      <th>min_release</th>\n",
       "      <th>max_release</th>\n",
       "      <th>min_release_before_version_field</th>\n",
       "      <th>min_release_after_version_field</th>\n",
       "    </tr>\n",
       "  </thead>\n",
       "  <tbody>\n",
       "    <tr>\n",
       "      <th>0</th>\n",
       "      <td>475361</td>\n",
       "      <td>4.5</td>\n",
       "      <td>Platform</td>\n",
       "      <td>2015-08-19 10:50:25</td>\n",
       "      <td>4.5</td>\n",
       "      <td>FIXED</td>\n",
       "      <td>0</td>\n",
       "      <td>1</td>\n",
       "      <td>1</td>\n",
       "      <td>NaN</td>\n",
       "      <td>...</td>\n",
       "      <td>2015-08-19 11:53:03</td>\n",
       "      <td>2015-08-19 11:53:03</td>\n",
       "      <td>2015-08-19 11:53:03</td>\n",
       "      <td>NaN</td>\n",
       "      <td>0.0</td>\n",
       "      <td>0.0</td>\n",
       "      <td>4.5</td>\n",
       "      <td>4.5</td>\n",
       "      <td>False</td>\n",
       "      <td>False</td>\n",
       "    </tr>\n",
       "    <tr>\n",
       "      <th>1</th>\n",
       "      <td>475365</td>\n",
       "      <td>4.6</td>\n",
       "      <td>Platform</td>\n",
       "      <td>2015-08-19 11:34:37</td>\n",
       "      <td>4.6</td>\n",
       "      <td>FIXED</td>\n",
       "      <td>0</td>\n",
       "      <td>1</td>\n",
       "      <td>1</td>\n",
       "      <td>NaN</td>\n",
       "      <td>...</td>\n",
       "      <td>2015-08-26 14:29:30</td>\n",
       "      <td>2015-08-26 14:29:30</td>\n",
       "      <td>2015-08-26 14:29:30</td>\n",
       "      <td>NaN</td>\n",
       "      <td>0.0</td>\n",
       "      <td>0.0</td>\n",
       "      <td>4.6</td>\n",
       "      <td>4.6</td>\n",
       "      <td>False</td>\n",
       "      <td>False</td>\n",
       "    </tr>\n",
       "  </tbody>\n",
       "</table>\n",
       "<p>2 rows × 22 columns</p>\n",
       "</div>"
      ],
      "text/plain": [
       "       id  release   Product       creation_time version resolution  \\\n",
       "0  475361      4.5  Platform 2015-08-19 10:50:25     4.5      FIXED   \n",
       "1  475365      4.6  Platform 2015-08-19 11:34:37     4.6      FIXED   \n",
       "\n",
       "   is_assigned  is_resolved  is_fixed first_assignment_date  \\\n",
       "0            0            1         1                   NaN   \n",
       "1            0            1         1                   NaN   \n",
       "\n",
       "                ...                  last_resolved_date     first_fixed_date  \\\n",
       "0               ...                 2015-08-19 11:53:03  2015-08-19 11:53:03   \n",
       "1               ...                 2015-08-26 14:29:30  2015-08-26 14:29:30   \n",
       "\n",
       "       last_fixed_date time_assign_diff time_resolve_diff  time_fix_diff  \\\n",
       "0  2015-08-19 11:53:03              NaN               0.0            0.0   \n",
       "1  2015-08-26 14:29:30              NaN               0.0            0.0   \n",
       "\n",
       "   min_release  max_release  min_release_before_version_field  \\\n",
       "0          4.5          4.5                             False   \n",
       "1          4.6          4.6                             False   \n",
       "\n",
       "   min_release_after_version_field  \n",
       "0                            False  \n",
       "1                            False  \n",
       "\n",
       "[2 rows x 22 columns]"
      ]
     },
     "execution_count": 5,
     "metadata": {},
     "output_type": "execute_result"
    }
   ],
   "source": [
    "#Load data\n",
    "#use os.sep to get the separator based on the operating system so as not to have issues running the script in other operating systems\n",
    "df = pd.read_csv('.'+os.sep+'data'+os.sep+'bugs_info.zip',index_col=False,compression='zip')\n",
    "df_history = pd.read_csv('.'+os.sep+'data'+os.sep+'bug_history.zip',index_col=False,compression='zip')\n",
    "df_history= trans_to_datetime(df_history,['when'])\n",
    "df= trans_to_datetime(df,['creation_time'])\n",
    "print(len(df.id.unique()))\n",
    "df.head(n=2)"
   ]
  },
  {
   "cell_type": "code",
   "execution_count": 6,
   "metadata": {},
   "outputs": [],
   "source": [
    "df=df[['id','creation_time']]"
   ]
  },
  {
   "cell_type": "code",
   "execution_count": 7,
   "metadata": {},
   "outputs": [
    {
     "name": "stderr",
     "output_type": "stream",
     "text": [
      "C:\\Users\\zeinab\\Anaconda3\\lib\\site-packages\\pandas\\core\\frame.py:6211: FutureWarning: Sorting because non-concatenation axis is not aligned. A future version\n",
      "of pandas will change to not sort by default.\n",
      "\n",
      "To accept the future behavior, pass 'sort=False'.\n",
      "\n",
      "To retain the current behavior and silence the warning, pass 'sort=True'.\n",
      "\n",
      "  sort=sort)\n"
     ]
    }
   ],
   "source": [
    "#create the new status\n",
    "dfN=NewCase(df.copy())\n",
    "result = df_history.append(dfN).reset_index(drop=True)"
   ]
  },
  {
   "cell_type": "code",
   "execution_count": 8,
   "metadata": {},
   "outputs": [],
   "source": [
    "result.loc[result['added'] == 'ASSIGNED ASSIGNED', 'added'] = 'ASSIGNED'\n",
    "result.loc[result['removed'] == 'ASSIGNED ASSIGNED', 'removed'] = 'ASSIGNED'\n",
    "result.loc[result['added'] == 'NEW NEW', 'added'] = 'NEW'\n",
    "result.loc[result['removed'] == 'NEW NEW', 'removed'] = 'NEW'"
   ]
  },
  {
   "cell_type": "code",
   "execution_count": 9,
   "metadata": {},
   "outputs": [],
   "source": [
    "result.to_csv('./data/process-mining/FINALwNEW.zip',index=False,compression='zip')"
   ]
  },
  {
   "cell_type": "code",
   "execution_count": 10,
   "metadata": {},
   "outputs": [
    {
     "data": {
      "text/plain": [
       "138445"
      ]
     },
     "execution_count": 10,
     "metadata": {},
     "output_type": "execute_result"
    }
   ],
   "source": [
    "len(result.id.unique())"
   ]
  },
  {
   "cell_type": "markdown",
   "metadata": {},
   "source": [
    "# WITHOUT ASSIGNED_TO"
   ]
  },
  {
   "cell_type": "code",
   "execution_count": 11,
   "metadata": {},
   "outputs": [
    {
     "name": "stderr",
     "output_type": "stream",
     "text": [
      "C:\\Users\\zeinab\\Anaconda3\\lib\\site-packages\\IPython\\core\\interactiveshell.py:3020: DtypeWarning: Columns (2,5) have mixed types. Specify dtype option on import or set low_memory=False.\n",
      "  interactivity=interactivity, compiler=compiler, result=result)\n"
     ]
    }
   ],
   "source": [
    "result=pd.read_csv('./data/process-mining/FINALwNEW.zip',index_col=False,compression='zip')"
   ]
  },
  {
   "cell_type": "code",
   "execution_count": 12,
   "metadata": {},
   "outputs": [
    {
     "data": {
      "text/html": [
       "<div>\n",
       "<style scoped>\n",
       "    .dataframe tbody tr th:only-of-type {\n",
       "        vertical-align: middle;\n",
       "    }\n",
       "\n",
       "    .dataframe tbody tr th {\n",
       "        vertical-align: top;\n",
       "    }\n",
       "\n",
       "    .dataframe thead th {\n",
       "        text-align: right;\n",
       "    }\n",
       "</style>\n",
       "<table border=\"1\" class=\"dataframe\">\n",
       "  <thead>\n",
       "    <tr style=\"text-align: right;\">\n",
       "      <th></th>\n",
       "      <th>added</th>\n",
       "      <th>id</th>\n",
       "      <th>removed</th>\n",
       "      <th>what</th>\n",
       "      <th>when</th>\n",
       "      <th>who</th>\n",
       "    </tr>\n",
       "  </thead>\n",
       "  <tbody>\n",
       "    <tr>\n",
       "      <th>0</th>\n",
       "      <td>platform-help-inbox@eclipse.org</td>\n",
       "      <td>100001</td>\n",
       "      <td>pde-ui-inbox@eclipse.org</td>\n",
       "      <td>assigned_to</td>\n",
       "      <td>2005-06-14 16:16:00</td>\n",
       "      <td>wassim.melhem@gmail.com</td>\n",
       "    </tr>\n",
       "    <tr>\n",
       "      <th>1</th>\n",
       "      <td>Help</td>\n",
       "      <td>100001</td>\n",
       "      <td>UI</td>\n",
       "      <td>component</td>\n",
       "      <td>2005-06-14 16:16:00</td>\n",
       "      <td>wassim.melhem@gmail.com</td>\n",
       "    </tr>\n",
       "    <tr>\n",
       "      <th>2</th>\n",
       "      <td>Platform</td>\n",
       "      <td>100001</td>\n",
       "      <td>PDE</td>\n",
       "      <td>product</td>\n",
       "      <td>2005-06-14 16:16:00</td>\n",
       "      <td>wassim.melhem@gmail.com</td>\n",
       "    </tr>\n",
       "    <tr>\n",
       "      <th>3</th>\n",
       "      <td>konradk@ca.ibm.com</td>\n",
       "      <td>100001</td>\n",
       "      <td>NaN</td>\n",
       "      <td>cc</td>\n",
       "      <td>2005-06-14 17:17:31</td>\n",
       "      <td>konradk@ca.ibm.com</td>\n",
       "    </tr>\n",
       "    <tr>\n",
       "      <th>4</th>\n",
       "      <td>dejan@ca.ibm.com</td>\n",
       "      <td>100001</td>\n",
       "      <td>platform-help-inbox@eclipse.org</td>\n",
       "      <td>assigned_to</td>\n",
       "      <td>2005-06-14 17:17:31</td>\n",
       "      <td>konradk@ca.ibm.com</td>\n",
       "    </tr>\n",
       "  </tbody>\n",
       "</table>\n",
       "</div>"
      ],
      "text/plain": [
       "                             added      id                          removed  \\\n",
       "0  platform-help-inbox@eclipse.org  100001         pde-ui-inbox@eclipse.org   \n",
       "1                             Help  100001                               UI   \n",
       "2                         Platform  100001                              PDE   \n",
       "3               konradk@ca.ibm.com  100001                              NaN   \n",
       "4                 dejan@ca.ibm.com  100001  platform-help-inbox@eclipse.org   \n",
       "\n",
       "          what                 when                      who  \n",
       "0  assigned_to  2005-06-14 16:16:00  wassim.melhem@gmail.com  \n",
       "1    component  2005-06-14 16:16:00  wassim.melhem@gmail.com  \n",
       "2      product  2005-06-14 16:16:00  wassim.melhem@gmail.com  \n",
       "3           cc  2005-06-14 17:17:31       konradk@ca.ibm.com  \n",
       "4  assigned_to  2005-06-14 17:17:31       konradk@ca.ibm.com  "
      ]
     },
     "execution_count": 12,
     "metadata": {},
     "output_type": "execute_result"
    }
   ],
   "source": [
    "result.head()"
   ]
  },
  {
   "cell_type": "code",
   "execution_count": 13,
   "metadata": {},
   "outputs": [],
   "source": [
    "result['keep']=result.apply(lambda x: keep_status(x),axis=1)"
   ]
  },
  {
   "cell_type": "code",
   "execution_count": 14,
   "metadata": {},
   "outputs": [],
   "source": [
    "result=result[result['keep']==1]\n",
    "result.drop(columns=['keep'])\n",
    "result['activity']=result.apply(lambda x: return_activity_as(x),axis=1)"
   ]
  },
  {
   "cell_type": "code",
   "execution_count": 15,
   "metadata": {},
   "outputs": [],
   "source": [
    "result=result[['id','activity','when','who']]"
   ]
  },
  {
   "cell_type": "code",
   "execution_count": 16,
   "metadata": {},
   "outputs": [],
   "source": [
    " result['when'] = pd.to_datetime(result['when'])"
   ]
  },
  {
   "cell_type": "code",
   "execution_count": 17,
   "metadata": {},
   "outputs": [],
   "source": [
    "result.to_csv('./data/process-mining/disco_all.zip',index=False,compression='zip')"
   ]
  },
  {
   "cell_type": "code",
   "execution_count": null,
   "metadata": {},
   "outputs": [],
   "source": []
  },
  {
   "cell_type": "markdown",
   "metadata": {},
   "source": [
    "# rolling rleases"
   ]
  },
  {
   "cell_type": "code",
   "execution_count": null,
   "metadata": {},
   "outputs": [],
   "source": [
    "roll=pd.read_csv('./data/bugs_info.zip',index_col=False,compression='zip')"
   ]
  },
  {
   "cell_type": "code",
   "execution_count": null,
   "metadata": {},
   "outputs": [],
   "source": [
    "len(roll.id.unique())"
   ]
  },
  {
   "cell_type": "code",
   "execution_count": null,
   "metadata": {},
   "outputs": [],
   "source": [
    "roll['release'] = roll.apply(lambda x : str(assign_to_closest_minor(x['version'])), axis=1)\n",
    "roll['release'] = roll['release'].astype(str)"
   ]
  },
  {
   "cell_type": "code",
   "execution_count": null,
   "metadata": {},
   "outputs": [],
   "source": [
    "release_rolling=['4.9','4.10']\n"
   ]
  },
  {
   "cell_type": "code",
   "execution_count": null,
   "metadata": {},
   "outputs": [],
   "source": [
    "roll_id=roll[(roll['release']=='4.8')].id.unique()"
   ]
  },
  {
   "cell_type": "code",
   "execution_count": null,
   "metadata": {},
   "outputs": [],
   "source": [
    "rolling=result.copy()\n",
    "rolling=rolling[~rolling['id'].isin(roll_id)]\n",
    "rolling.head()"
   ]
  },
  {
   "cell_type": "code",
   "execution_count": null,
   "metadata": {},
   "outputs": [],
   "source": []
  },
  {
   "cell_type": "code",
   "execution_count": null,
   "metadata": {},
   "outputs": [],
   "source": [
    "rolling.to_csv('./disco/disco_not_rolling_4-8.zip',index=False,compression='zip')"
   ]
  },
  {
   "cell_type": "code",
   "execution_count": null,
   "metadata": {},
   "outputs": [],
   "source": [
    "#same process, no changes"
   ]
  }
 ],
 "metadata": {
  "kernelspec": {
   "display_name": "Python 3",
   "language": "python",
   "name": "python3"
  },
  "language_info": {
   "codemirror_mode": {
    "name": "ipython",
    "version": 3
   },
   "file_extension": ".py",
   "mimetype": "text/x-python",
   "name": "python",
   "nbconvert_exporter": "python",
   "pygments_lexer": "ipython3",
   "version": "3.6.8"
  }
 },
 "nbformat": 4,
 "nbformat_minor": 2
}
