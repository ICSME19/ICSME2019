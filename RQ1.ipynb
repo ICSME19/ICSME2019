{
 "cells": [
  {
   "cell_type": "code",
   "execution_count": null,
   "metadata": {},
   "outputs": [],
   "source": [
    "#the statistics of the eclipse data"
   ]
  },
  {
   "cell_type": "code",
   "execution_count": 337,
   "metadata": {},
   "outputs": [],
   "source": [
    "import pandas as pd\n",
    "import os\n",
    "import json\n",
    "import csv\n",
    "from flatten_json import flatten\n",
    "import re, datetime\n",
    "import matplotlib.pyplot as plt\n",
    "import seaborn as sns\n",
    "from datetime import date, timedelta\n",
    "from lifelines import KaplanMeierFitter"
   ]
  },
  {
   "cell_type": "code",
   "execution_count": 338,
   "metadata": {},
   "outputs": [],
   "source": [
    "def keepVal(activity):\n",
    "    if activity=='NEW'or activity=='FIXED':\n",
    "        return 1\n",
    "    return 0"
   ]
  },
  {
   "cell_type": "code",
   "execution_count": 339,
   "metadata": {},
   "outputs": [],
   "source": [
    "#keep only changes in status\n",
    "def keep(value,status):\n",
    "    if status!='Resolution':\n",
    "        return 1\n",
    "    if value=='---':\n",
    "        return 0\n",
    "    return 1\n",
    "\n"
   ]
  },
  {
   "cell_type": "code",
   "execution_count": 340,
   "metadata": {},
   "outputs": [],
   "source": [
    "#return the activity\n",
    "def return_val(x):\n",
    "    if x['What']=='Status':\n",
    "        if x['Added']=='ASSIGNED':\n",
    "            return 'Assignee'\n",
    "        return x['Added']\n",
    "        \n",
    "    if x['What']=='Assignee':\n",
    "        return x['What']\n",
    "    if x['What']=='Resolution':\n",
    "        return x['Added']\n",
    "    "
   ]
  },
  {
   "cell_type": "code",
   "execution_count": 341,
   "metadata": {},
   "outputs": [],
   "source": [
    "df=pd.read_csv('db\\\\ECF.csv')"
   ]
  },
  {
   "cell_type": "code",
   "execution_count": 342,
   "metadata": {},
   "outputs": [],
   "source": [
    "dfu=df\n",
    "dfg=df"
   ]
  },
  {
   "cell_type": "code",
   "execution_count": 343,
   "metadata": {},
   "outputs": [],
   "source": [
    "\n",
    "df['creation_ts'] = pd.to_datetime(df['creation_ts'])\n",
    "df['When'] = pd.to_datetime(df['When'])"
   ]
  },
  {
   "cell_type": "code",
   "execution_count": null,
   "metadata": {},
   "outputs": [],
   "source": []
  },
  {
   "cell_type": "code",
   "execution_count": 344,
   "metadata": {},
   "outputs": [],
   "source": [
    "dict1={\n",
    "  \"4.2\" : \"2012-6-27 00:00:00\" ,  \n",
    "\"4.3\" : \"2013-6-26 20:00:00\" ,\n",
    "\"4.4\" :  \"2014-6-25 12:15:00\" ,\n",
    "\"4.5\" : \"2015-6-24 20:00:00\" ,\n",
    "\"4.6\" :\"2016-6-22 11:00:00\",\n",
    "\"4.7\" :  \"2017-6-28 09:50:00\",\n",
    "\"4.8\" :  \"2018-6-27 00:00:00\"\n",
    "\n",
    "}"
   ]
  },
  {
   "cell_type": "code",
   "execution_count": null,
   "metadata": {},
   "outputs": [],
   "source": []
  },
  {
   "cell_type": "code",
   "execution_count": 345,
   "metadata": {},
   "outputs": [],
   "source": [
    "arr=[\n",
    "    \"4.3\" ,\n",
    "\"4.4\" ,\n",
    "\"4.5\" ,\n",
    "\"4.6\"  ,\n",
    "\"4.7\",\n",
    "\"4.8\",\n",
    " \"4.9\"   \n",
    "]\n",
    "dates=[\n",
    "    \"26-6-2013 20:00:00\" ,\n",
    " \"25-6-2014 12:15:00\" ,\n",
    " \"24-6-2015 20:00:00\" ,\n",
    "\"22-6-2016 11:00:00\",\n",
    "  \"28-6-2017 09:50:00\",\n",
    "  \"27-6-2018 00:00:00\",\n",
    " \"27-6-2019 00:00:00\"\n",
    "]\n",
    "Bdates=[\n",
    "    \"22-6-2011 20:00:00\" ,\n",
    "    \"27-6-2012 00:00:00\",\n",
    "    \"26-6-2013 20:00:00\" ,\n",
    " \"25-6-2014 12:15:00\" ,\n",
    " \"24-6-2015 20:00:00\" ,\n",
    "\"22-6-2016 11:00:00\",\n",
    "  \"28-6-2017 09:50:00\",\n",
    "  \"27-6-2018 00:00:00\",\n",
    "]"
   ]
  },
  {
   "cell_type": "code",
   "execution_count": 346,
   "metadata": {},
   "outputs": [],
   "source": [
    "arr1=[\n",
    "    4.2 ,\n",
    "    4.3 ,\n",
    "4.4 ,\n",
    "4.5 ,\n",
    "4.6  ,\n",
    "4.7,\n",
    "4.8 \n",
    "]"
   ]
  },
  {
   "cell_type": "code",
   "execution_count": 347,
   "metadata": {},
   "outputs": [],
   "source": [
    "#g=df.drop_duplicates('bug_id', keep='first')"
   ]
  },
  {
   "cell_type": "code",
   "execution_count": 348,
   "metadata": {},
   "outputs": [],
   "source": [
    "#ss=g.version.str.contains('^4.2', regex=True)\n",
    "#ss.value_counts()"
   ]
  },
  {
   "cell_type": "code",
   "execution_count": 490,
   "metadata": {},
   "outputs": [],
   "source": [
    "#get the total number of bugs reported and resolved in each version \n",
    "\n",
    "gData=pd.DataFrame()\n",
    "for x in dict1:\n",
    "    data=pd.DataFrame()\n",
    "    #print(dict[x])\n",
    "    start_date = dict1[x]\n",
    "    #version.str.contains(version, regex=True)\n",
    "    versionD= x\n",
    "    version='^'+versionD\n",
    "    mask= (df.version.str.contains(version, regex=True))  \n",
    "    #the bug before release \n",
    "    maskp = (df.version.str.contains(version, regex=True))  & (df['creation_ts'] < start_date)\n",
    "    #the bug after release \n",
    "    maskpp = (df.version.str.contains(version, regex=True))  & (df['creation_ts'] >= start_date)\n",
    "    mask3 =   (df.version.str.contains(version, regex=True)) & (\"RESOLVED\"==df['activity'])\n",
    "    dff = df.loc[mask]\n",
    "    dffp = df.loc[maskp]\n",
    "    dffpp = df.loc[maskpp]\n",
    "    dff1 = df.loc[mask3]\n",
    "    id_before_release=dffp.bug_id.unique()\n",
    "    id_after_release=dffpp.bug_id.unique()\n",
    "    id_resolved=dff1.bug_id.unique()\n",
    "    TOTAL=len(dff.bug_id.unique())\n",
    "    before_release=len(dffp.bug_id.unique())\n",
    "    after_release=len(dffpp.bug_id.unique())\n",
    "    res=len(dff1.bug_id.unique())\n",
    "    data=pd.DataFrame({\"version\": [versionD] , \"total\":[ TOTAL] ,'before_release':[before_release], \n",
    "                       'after_release':[after_release],'resolved':[res]\n",
    "   })\n",
    "    \n",
    "\n",
    "    gData=gData.append(data)"
   ]
  },
  {
   "cell_type": "code",
   "execution_count": 491,
   "metadata": {},
   "outputs": [
    {
     "data": {
      "text/html": [
       "<div>\n",
       "<style scoped>\n",
       "    .dataframe tbody tr th:only-of-type {\n",
       "        vertical-align: middle;\n",
       "    }\n",
       "\n",
       "    .dataframe tbody tr th {\n",
       "        vertical-align: top;\n",
       "    }\n",
       "\n",
       "    .dataframe thead th {\n",
       "        text-align: right;\n",
       "    }\n",
       "</style>\n",
       "<table border=\"1\" class=\"dataframe\">\n",
       "  <thead>\n",
       "    <tr style=\"text-align: right;\">\n",
       "      <th></th>\n",
       "      <th>version</th>\n",
       "      <th>total</th>\n",
       "      <th>before_release</th>\n",
       "      <th>after_release</th>\n",
       "      <th>resolved</th>\n",
       "    </tr>\n",
       "  </thead>\n",
       "  <tbody>\n",
       "    <tr>\n",
       "      <th>0</th>\n",
       "      <td>4.2</td>\n",
       "      <td>4371</td>\n",
       "      <td>1800</td>\n",
       "      <td>2571</td>\n",
       "      <td>2681</td>\n",
       "    </tr>\n",
       "    <tr>\n",
       "      <th>0</th>\n",
       "      <td>4.3</td>\n",
       "      <td>3502</td>\n",
       "      <td>1881</td>\n",
       "      <td>1621</td>\n",
       "      <td>2418</td>\n",
       "    </tr>\n",
       "    <tr>\n",
       "      <th>0</th>\n",
       "      <td>4.4</td>\n",
       "      <td>4363</td>\n",
       "      <td>2813</td>\n",
       "      <td>1550</td>\n",
       "      <td>3029</td>\n",
       "    </tr>\n",
       "    <tr>\n",
       "      <th>0</th>\n",
       "      <td>4.5</td>\n",
       "      <td>2935</td>\n",
       "      <td>1522</td>\n",
       "      <td>1413</td>\n",
       "      <td>1899</td>\n",
       "    </tr>\n",
       "    <tr>\n",
       "      <th>0</th>\n",
       "      <td>4.6</td>\n",
       "      <td>2914</td>\n",
       "      <td>1504</td>\n",
       "      <td>1410</td>\n",
       "      <td>1999</td>\n",
       "    </tr>\n",
       "    <tr>\n",
       "      <th>0</th>\n",
       "      <td>4.7</td>\n",
       "      <td>3405</td>\n",
       "      <td>2013</td>\n",
       "      <td>1392</td>\n",
       "      <td>2550</td>\n",
       "    </tr>\n",
       "    <tr>\n",
       "      <th>0</th>\n",
       "      <td>4.8</td>\n",
       "      <td>2168</td>\n",
       "      <td>1795</td>\n",
       "      <td>373</td>\n",
       "      <td>1561</td>\n",
       "    </tr>\n",
       "  </tbody>\n",
       "</table>\n",
       "</div>"
      ],
      "text/plain": [
       "  version  total  before_release  after_release  resolved\n",
       "0     4.2   4371            1800           2571      2681\n",
       "0     4.3   3502            1881           1621      2418\n",
       "0     4.4   4363            2813           1550      3029\n",
       "0     4.5   2935            1522           1413      1899\n",
       "0     4.6   2914            1504           1410      1999\n",
       "0     4.7   3405            2013           1392      2550\n",
       "0     4.8   2168            1795            373      1561"
      ]
     },
     "execution_count": 491,
     "metadata": {},
     "output_type": "execute_result"
    }
   ],
   "source": [
    "gData"
   ]
  },
  {
   "cell_type": "code",
   "execution_count": 352,
   "metadata": {},
   "outputs": [],
   "source": [
    "\n",
    "# of reported bugs before release =RBBR\n",
    "# of reported bugs after release =RBAR\n",
    "# of reported and  resolved bugs before release =RBRB\n",
    "# of reported and fixed bugs before release =RBFB\n",
    "# of reported  before release and  resolved after release =RBRA\n",
    "# of reported  before release and  fixed after release =RBFA\n",
    "# of reported after release and  resolved after release =RARA\n",
    "# of reported  after release and fixed after release =RAFA"
   ]
  },
  {
   "cell_type": "code",
   "execution_count": 607,
   "metadata": {},
   "outputs": [],
   "source": [
    "tData=pd.DataFrame()\n",
    "id_before_release=0\n",
    "id_after_release=0\n",
    "id_RBRB=0\n",
    "id_RBFB=0\n",
    "id_RBRA=0\n",
    "id_RBFA=0\n",
    "id_RARA=0\n",
    "id_RAFA=0\n",
    "c=0\n",
    "for x in dict1:\n",
    "    data=pd.DataFrame()\n",
    "    #print(dict[x])\n",
    "    start_date = dict1[x]\n",
    "    #version.str.contains(version, regex=True)\n",
    "    versionD= x\n",
    "    version='^'+versionD\n",
    "   # print(x,dict[x])\n",
    "    #mask = (df['creation_ts'] > start_date) & (df['creation_ts'] <= end_date) & ((\"4.4.1\"==df['version'])  | (\"4.4\"==df['version']))\n",
    "    #mask = (df['creation_ts'] > start_date) & (df['creation_ts'] <= end_date) & (\"4.4\"==df['version'])\n",
    "    mask= (df.version.str.contains(version, regex=True))  \n",
    "    #the bug before release \n",
    "    maskp = (df.version.str.contains(version, regex=True))  & (df['creation_ts'] < start_date) & (df['creation_ts'] >= Bdates[c] )\n",
    "    #the bug after release \n",
    "    maskpp = (df.version.str.contains(version, regex=True))  & (df['creation_ts'] >= start_date) & (df['creation_ts'] < dates[c] )\n",
    "\n",
    "    #the bug created and resolved & before release \n",
    "    mask1 = (df['When'] < start_date) & (df['creation_ts'] <= start_date) & (df['creation_ts'] >= Bdates[c] ) & (df.version.str.contains(version, regex=True)) & (\"RESOLVED\"==df['activity']) \n",
    "    #the bug created and fixed before release \n",
    "    mask2 = (df['When'] < start_date) & (df['creation_ts'] <= start_date) & (df['creation_ts'] >= Bdates[c] ) & (df.version.str.contains(version, regex=True)) & (\"RESOLVED\"==df['activity'])  & (\"FIXED\"==df['resolution'])\n",
    "\n",
    "    #the bug created before release and resolved  after release \n",
    "    mask3 = (df['When'] > start_date) & (df['creation_ts'] <= start_date) & (df['creation_ts'] > Bdates[c] ) & (df.version.str.contains(version, regex=True)) & (\"RESOLVED\"==df['activity'])\n",
    "    #the bug created before release and fixed after release \n",
    "    mask4 = (df['When'] > start_date) & (df['creation_ts'] <= start_date)  & (df['creation_ts'] > Bdates[c] ) & (df.version.str.contains(version, regex=True)) & (\"RESOLVED\"==df['activity']) & (\"FIXED\"==df['resolution']) \n",
    "    #the bug created after release  and resolved\n",
    "    mask5 = (df['When'] > start_date) & (df['When'] < dates[c]) & (df['creation_ts'] >= start_date) & (df.version.str.contains(version, regex=True)) & (\"RESOLVED\"==df['activity']) \n",
    "    #the bug created after release  and fixed \n",
    "    mask6 = (df['When'] > start_date) & (df['When'] < dates[c]) & (df['creation_ts'] >= start_date) & (df.version.str.contains(version, regex=True)) & (\"RESOLVED\"==df['activity']) & (\"FIXED\"==df['resolution'])\n",
    "\n",
    "    c=c+1\n",
    "    dff = df.loc[mask]\n",
    "    dffp = df.loc[maskp]\n",
    "    dffpp = df.loc[maskpp]\n",
    "    dff1 = df.loc[mask1]\n",
    "    dff2 = df.loc[mask2]\n",
    "    dff3 = df.loc[mask3]\n",
    "    dff4 = df.loc[mask4]\n",
    "    dff5 = df.loc[mask5]\n",
    "    dff6 = df.loc[mask6]\n",
    "    id_before_release=dffp.bug_id.unique()\n",
    "    id_after_release=dffpp.bug_id.unique()\n",
    "    id_RBRB=dff1.bug_id.unique()\n",
    "    id_RBFB=dff2.bug_id.unique()\n",
    "    id_RBRA=dff3.bug_id.unique()\n",
    "    id_RBFA=dff4.bug_id.unique()\n",
    "    id_RARA=dff5.bug_id.unique()\n",
    "    id_RAFA=dff6.bug_id.unique()\n",
    "    \n",
    "    TOTAL=len(dff.bug_id.unique())\n",
    "    before_release=len(dffp.bug_id.unique())\n",
    "    after_release=len(dffpp.bug_id.unique())\n",
    "    RBRB=len(dff1.bug_id.unique())\n",
    "    RBFB=len(dff2.bug_id.unique())\n",
    "    RBRA=len(dff3.bug_id.unique())\n",
    "    RBFA=len(dff4.bug_id.unique())\n",
    "    RARA=len(dff5.bug_id.unique())\n",
    "    RAFA=len(dff6.bug_id.unique())\n",
    "    if before_release!=0 and RBRB!=0:\n",
    "        ratio1=RBRB/before_release\n",
    "        ratio2=RBFB/RBRB\n",
    "    if after_release!=0 and RARA!=0:\n",
    "        ratio3=RARA/after_release\n",
    "        ratio4=RAFA/RARA\n",
    "    data=pd.DataFrame({\"version\": [versionD] , \"total\":[ TOTAL] ,'before_release':[before_release], \n",
    "                       'after_release':[after_release], 'RBRB':[RBRB]\n",
    "   , 'RBFB':[RBFB]\n",
    "   , 'RBRA':[RBRA]\n",
    "   ,'RBFA':[RBFA]\n",
    "   , 'RARA':[RARA]\n",
    "   , 'RAFA':[RAFA]\n",
    "            , 'Ratio_R_B':[ratio1]           , 'Ratio_F_B':[ratio2]\n",
    "                       , 'Ratio_R_A':[ratio3]           , 'Ratio_F_A':[ratio4]\n",
    "   })\n",
    "    \n",
    "\n",
    "    tData=tData.append(data)"
   ]
  },
  {
   "cell_type": "code",
   "execution_count": 608,
   "metadata": {},
   "outputs": [],
   "source": [
    "tData=tData[['version','total','before_release','after_release','RBRB','RBFB','RBRA','RBFA','RARA','RAFA', 'Ratio_R_B', 'Ratio_F_B', 'Ratio_R_A'    , 'Ratio_F_A']]"
   ]
  },
  {
   "cell_type": "code",
   "execution_count": 609,
   "metadata": {},
   "outputs": [
    {
     "data": {
      "text/html": [
       "<div>\n",
       "<style scoped>\n",
       "    .dataframe tbody tr th:only-of-type {\n",
       "        vertical-align: middle;\n",
       "    }\n",
       "\n",
       "    .dataframe tbody tr th {\n",
       "        vertical-align: top;\n",
       "    }\n",
       "\n",
       "    .dataframe thead th {\n",
       "        text-align: right;\n",
       "    }\n",
       "</style>\n",
       "<table border=\"1\" class=\"dataframe\">\n",
       "  <thead>\n",
       "    <tr style=\"text-align: right;\">\n",
       "      <th></th>\n",
       "      <th>version</th>\n",
       "      <th>total</th>\n",
       "      <th>before_release</th>\n",
       "      <th>after_release</th>\n",
       "      <th>RBRB</th>\n",
       "      <th>RBFB</th>\n",
       "      <th>RBRA</th>\n",
       "      <th>RBFA</th>\n",
       "      <th>RARA</th>\n",
       "      <th>RAFA</th>\n",
       "      <th>Ratio_R_B</th>\n",
       "      <th>Ratio_F_B</th>\n",
       "      <th>Ratio_R_A</th>\n",
       "      <th>Ratio_F_A</th>\n",
       "    </tr>\n",
       "  </thead>\n",
       "  <tbody>\n",
       "    <tr>\n",
       "      <th>0</th>\n",
       "      <td>4.2</td>\n",
       "      <td>4371</td>\n",
       "      <td>1757</td>\n",
       "      <td>2209</td>\n",
       "      <td>853</td>\n",
       "      <td>609</td>\n",
       "      <td>309</td>\n",
       "      <td>189</td>\n",
       "      <td>1065</td>\n",
       "      <td>726</td>\n",
       "      <td>0.485487</td>\n",
       "      <td>0.713951</td>\n",
       "      <td>0.482119</td>\n",
       "      <td>0.681690</td>\n",
       "    </tr>\n",
       "    <tr>\n",
       "      <th>0</th>\n",
       "      <td>4.3</td>\n",
       "      <td>3502</td>\n",
       "      <td>1857</td>\n",
       "      <td>1379</td>\n",
       "      <td>1048</td>\n",
       "      <td>786</td>\n",
       "      <td>360</td>\n",
       "      <td>246</td>\n",
       "      <td>739</td>\n",
       "      <td>495</td>\n",
       "      <td>0.564351</td>\n",
       "      <td>0.750000</td>\n",
       "      <td>0.535896</td>\n",
       "      <td>0.669824</td>\n",
       "    </tr>\n",
       "    <tr>\n",
       "      <th>0</th>\n",
       "      <td>4.4</td>\n",
       "      <td>4363</td>\n",
       "      <td>2782</td>\n",
       "      <td>1264</td>\n",
       "      <td>1703</td>\n",
       "      <td>1272</td>\n",
       "      <td>389</td>\n",
       "      <td>241</td>\n",
       "      <td>630</td>\n",
       "      <td>375</td>\n",
       "      <td>0.612150</td>\n",
       "      <td>0.746917</td>\n",
       "      <td>0.498418</td>\n",
       "      <td>0.595238</td>\n",
       "    </tr>\n",
       "    <tr>\n",
       "      <th>0</th>\n",
       "      <td>4.5</td>\n",
       "      <td>2935</td>\n",
       "      <td>1512</td>\n",
       "      <td>1129</td>\n",
       "      <td>758</td>\n",
       "      <td>523</td>\n",
       "      <td>243</td>\n",
       "      <td>166</td>\n",
       "      <td>539</td>\n",
       "      <td>398</td>\n",
       "      <td>0.501323</td>\n",
       "      <td>0.689974</td>\n",
       "      <td>0.477414</td>\n",
       "      <td>0.738404</td>\n",
       "    </tr>\n",
       "    <tr>\n",
       "      <th>0</th>\n",
       "      <td>4.6</td>\n",
       "      <td>2914</td>\n",
       "      <td>1487</td>\n",
       "      <td>1245</td>\n",
       "      <td>826</td>\n",
       "      <td>681</td>\n",
       "      <td>268</td>\n",
       "      <td>198</td>\n",
       "      <td>725</td>\n",
       "      <td>562</td>\n",
       "      <td>0.555481</td>\n",
       "      <td>0.824455</td>\n",
       "      <td>0.582329</td>\n",
       "      <td>0.775172</td>\n",
       "    </tr>\n",
       "    <tr>\n",
       "      <th>0</th>\n",
       "      <td>4.7</td>\n",
       "      <td>3405</td>\n",
       "      <td>1973</td>\n",
       "      <td>1321</td>\n",
       "      <td>1301</td>\n",
       "      <td>1082</td>\n",
       "      <td>247</td>\n",
       "      <td>191</td>\n",
       "      <td>908</td>\n",
       "      <td>709</td>\n",
       "      <td>0.659402</td>\n",
       "      <td>0.831668</td>\n",
       "      <td>0.687358</td>\n",
       "      <td>0.780837</td>\n",
       "    </tr>\n",
       "    <tr>\n",
       "      <th>0</th>\n",
       "      <td>4.8</td>\n",
       "      <td>2168</td>\n",
       "      <td>1709</td>\n",
       "      <td>373</td>\n",
       "      <td>1195</td>\n",
       "      <td>1027</td>\n",
       "      <td>120</td>\n",
       "      <td>97</td>\n",
       "      <td>208</td>\n",
       "      <td>139</td>\n",
       "      <td>0.699239</td>\n",
       "      <td>0.859414</td>\n",
       "      <td>0.557641</td>\n",
       "      <td>0.668269</td>\n",
       "    </tr>\n",
       "  </tbody>\n",
       "</table>\n",
       "</div>"
      ],
      "text/plain": [
       "  version  total  before_release  after_release  RBRB  RBFB  RBRA  RBFA  RARA  \\\n",
       "0     4.2   4371            1757           2209   853   609   309   189  1065   \n",
       "0     4.3   3502            1857           1379  1048   786   360   246   739   \n",
       "0     4.4   4363            2782           1264  1703  1272   389   241   630   \n",
       "0     4.5   2935            1512           1129   758   523   243   166   539   \n",
       "0     4.6   2914            1487           1245   826   681   268   198   725   \n",
       "0     4.7   3405            1973           1321  1301  1082   247   191   908   \n",
       "0     4.8   2168            1709            373  1195  1027   120    97   208   \n",
       "\n",
       "   RAFA  Ratio_R_B  Ratio_F_B  Ratio_R_A  Ratio_F_A  \n",
       "0   726   0.485487   0.713951   0.482119   0.681690  \n",
       "0   495   0.564351   0.750000   0.535896   0.669824  \n",
       "0   375   0.612150   0.746917   0.498418   0.595238  \n",
       "0   398   0.501323   0.689974   0.477414   0.738404  \n",
       "0   562   0.555481   0.824455   0.582329   0.775172  \n",
       "0   709   0.659402   0.831668   0.687358   0.780837  \n",
       "0   139   0.699239   0.859414   0.557641   0.668269  "
      ]
     },
     "execution_count": 609,
     "metadata": {},
     "output_type": "execute_result"
    }
   ],
   "source": [
    "tData"
   ]
  },
  {
   "cell_type": "code",
   "execution_count": 507,
   "metadata": {},
   "outputs": [],
   "source": [
    "tData.to_csv('RQ1\\\\rates1.csv',index=False)"
   ]
  },
  {
   "cell_type": "code",
   "execution_count": 357,
   "metadata": {},
   "outputs": [],
   "source": [
    "#tData[['version','Ratio_R_A', 'Ratio_F_A']]"
   ]
  },
  {
   "cell_type": "code",
   "execution_count": 358,
   "metadata": {},
   "outputs": [],
   "source": [
    "tData[['version','Ratio_R_B', 'Ratio_F_B']]"
   ]
  },
  {
   "cell_type": "code",
   "execution_count": null,
   "metadata": {},
   "outputs": [],
   "source": []
  },
  {
   "cell_type": "code",
   "execution_count": 602,
   "metadata": {},
   "outputs": [
    {
     "data": {
      "image/png": "[encoded data removed]",
      "text/plain": [
       "<Figure size 432x288 with 1 Axes>"
      ]
     },
     "metadata": {
      "needs_background": "light"
     },
     "output_type": "display_data"
    }
   ],
   "source": [
    "\n",
    "data = pd.read_csv('RQ1\\\\rates1.csv')\n",
    "#print(data)\n",
    "ci=0\n",
    "#colors=['red','green','blue','black','orange','pink']\n",
    "style=['-','--']\n",
    "ax = plt.gca()\n",
    "data.plot(kind='line',x='version',y='Ratio_R_B',style='--', color='red',ax=ax, marker=\"D\",label='ResRate_before')\n",
    "ax = plt.gca()\n",
    "data.plot(kind='line',x='version',y='Ratio_R_A',style='-',ax=ax, marker='o',label='ResRate_after')\n",
    "#df.plot(kind='line',x='name',y='num_pets', color='red', ax=ax)\n",
    "plt.xlabel('months after release')\n",
    "plt.ylabel('rate of ' + r\"$\\it{\" + r\"\\bf{\"+ 'RESOLVED' +  \"}\"+ \"}$\" + ' bugs')\n",
    "plt.ylim(0,1)\n",
    "#plt.title('Resolving rate of bugs in a specific version over months just after its release')\n",
    "plt.savefig('Rrates1.pdf')\n",
    "plt.show()"
   ]
  },
  {
   "cell_type": "code",
   "execution_count": 603,
   "metadata": {},
   "outputs": [
    {
     "data": {
      "image/png": "[encoded data removed]",
      "text/plain": [
       "<Figure size 432x288 with 1 Axes>"
      ]
     },
     "metadata": {
      "needs_background": "light"
     },
     "output_type": "display_data"
    }
   ],
   "source": [
    "data = pd.read_csv('RQ1\\\\rates1.csv')\n",
    "#print(data)\n",
    "ci=0\n",
    "#colors=['red','green','blue','black','orange','pink']\n",
    "style=['-','--']\n",
    "ax = plt.gca()\n",
    "data.plot(kind='line',x='version',y='Ratio_F_B',style='--', color='red',ax=ax, marker=\"D\",label='FixRate_before')\n",
    "ax = plt.gca()\n",
    "data.plot(kind='line',x='version',y='Ratio_F_A',style='-',ax=ax, marker='o',label='FixRate_after')\n",
    "#df.plot(kind='line',x='name',y='num_pets', color='red', ax=ax)\n",
    "plt.xlabel('months after release')\n",
    "plt.ylabel('rate of ' + r\"$\\it{\" + r\"\\bf{\"+ 'FIXED' +  \"}\"+ \"}$\" + ' bugs')\n",
    "\n",
    "plt.ylim(0,1)\n",
    "#plt.title('Resolving rate of bugs in a specific version over months just after its release')\n",
    "plt.savefig('Frates1.pdf')\n",
    "plt.show()"
   ]
  },
  {
   "cell_type": "code",
   "execution_count": 118,
   "metadata": {},
   "outputs": [],
   "source": [
    "allD=pd.DataFrame()"
   ]
  },
  {
   "cell_type": "code",
   "execution_count": 119,
   "metadata": {},
   "outputs": [],
   "source": [
    "allD['version']=tData['version']\n",
    "allD['Total_before_release']=tData['before_release']\n",
    "allD['Total_after_release']=tData['after_release']\n",
    "allD['Ratio_Resolved_before']=tData['Ratio_R_B']\n",
    "allD['Ratio_Fixed_before']=tData['Ratio_F_B']\n",
    "allD['Ratio_Resolved_after']=tData['Ratio_R_A']\n",
    "allD['Ratio_Fixed_after']=tData['Ratio_F_A']\n"
   ]
  },
  {
   "cell_type": "code",
   "execution_count": 282,
   "metadata": {},
   "outputs": [],
   "source": [
    "#allD"
   ]
  },
  {
   "cell_type": "code",
   "execution_count": 572,
   "metadata": {},
   "outputs": [],
   "source": [
    "tData=pd.DataFrame()\n",
    "id_before_release=0\n",
    "id_after_release=0\n",
    "id_RBRB=0\n",
    "id_RBFB=0\n",
    "id_RBRA=0\n",
    "id_RBFA=0\n",
    "id_RARA=0\n",
    "id_RAFA=0\n",
    "c=0\n",
    "for x in dict1:\n",
    "    data=pd.DataFrame()\n",
    "    data1=pd.DataFrame()\n",
    "    #print(dict[x])\n",
    "    start_date = dict1[x]\n",
    "    end_date = '25-09-2014 12:00:00'\n",
    "    versionD= x\n",
    "    version='^'+versionD\n",
    "    date_time_obj = datetime.datetime.strptime(start_date, '%Y-%m-%d %H:%M:%S')\n",
    "    rem=[619]\n",
    "\n",
    "          \n",
    "    #the bug before release \n",
    "    mask8 = (df.version.str.contains(version, regex=True)) & (df['creation_ts'] > Bdates[c] ) & (df['creation_ts'] <= start_date)  & (((\"RESOLVED\"==df['activity']) & (df['When'] >start_date )) |  (df['resolution'].isnull()))\n",
    "\n",
    "         \n",
    "     \n",
    "    dff8 = df.loc[mask8]\n",
    " \n",
    "    BRA=len(dff8.bug_id.unique())\n",
    "    c=c+1\n",
    "\n",
    "            #print(after_release,ratio5)\n",
    "    data=pd.DataFrame({\"version\": [versionD] , \n",
    "                       \"nbra\": [BRA]\n",
    "   })\n",
    "            \n",
    "    \n",
    "\n",
    "    tData=tData.append(data)\n",
    "    "
   ]
  },
  {
   "cell_type": "code",
   "execution_count": 573,
   "metadata": {},
   "outputs": [],
   "source": [
    "colu=tData['nbra'].tolist()"
   ]
  },
  {
   "cell_type": "code",
   "execution_count": 574,
   "metadata": {},
   "outputs": [
    {
     "data": {
      "text/plain": [
       "[590, 565, 771, 569, 463, 447, 291]"
      ]
     },
     "execution_count": 574,
     "metadata": {},
     "output_type": "execute_result"
    }
   ],
   "source": [
    "colu"
   ]
  },
  {
   "cell_type": "code",
   "execution_count": 510,
   "metadata": {},
   "outputs": [
    {
     "data": {
      "text/plain": [
       "[619, 580, 784, 576, 479, 469, 333]"
      ]
     },
     "execution_count": 510,
     "metadata": {},
     "output_type": "execute_result"
    }
   ],
   "source": [
    "colu"
   ]
  },
  {
   "cell_type": "code",
   "execution_count": 575,
   "metadata": {},
   "outputs": [],
   "source": [
    "tData=pd.DataFrame()\n",
    "id_before_release=0\n",
    "id_after_release=0\n",
    "id_RBRB=0\n",
    "id_RBFB=0\n",
    "id_RBRA=0\n",
    "id_RBFA=0\n",
    "id_RARA=0\n",
    "id_RAFA=0\n",
    "m=0\n",
    "for x in dict1:\n",
    "    data=pd.DataFrame()\n",
    "    data1=pd.DataFrame()\n",
    "    #print(dict[x])\n",
    "    start_date = dict1[x]\n",
    "    end_date = '25-09-2014 12:00:00'\n",
    "    versionD= x\n",
    "    version='^'+versionD\n",
    "    date_time_obj = datetime.datetime.strptime(start_date, '%Y-%m-%d %H:%M:%S')\n",
    "    rem=[colu[m]]\n",
    "    m=m+1\n",
    "    for i in range(12):\n",
    "        \n",
    "            k=date_time_obj + timedelta(30*i)\n",
    "            l=date_time_obj + timedelta(30*(i+1))\n",
    "           # mask= (df.version.str.contains(version, regex=True))  \n",
    "     #the bug before release \n",
    "            mask8 = (df.version.str.contains(version, regex=True))  & (df['creation_ts'] <= start_date)  & (((\"RESOLVED\"==df['activity']) & (df['When'] >start_date )) |  (df['resolution'].isnull()))\n",
    "\n",
    "    #the bug after release \n",
    "            maskpp = (df.version.str.contains(version, regex=True))  & (df['creation_ts'] >= k)  & (df['creation_ts'] < l)\n",
    "\n",
    " \n",
    "    #the bug created after release  and resolved\n",
    "            mask5 = (df.version.str.contains(version, regex=True))  & (df['When'] >= k) & (\"RESOLVED\"==df['activity']) & (df['When'] <l )\n",
    "              #the bug created after release  and not rresolved \n",
    "            mask7 = (df.version.str.contains(version, regex=True))  & (df['creation_ts'] >= k)  & (df['creation_ts'] < l) & (((\"RESOLVED\"==df['activity']) & (df['When'] >l )) |  (df['resolution'].isnull()))\n",
    "\n",
    "         \n",
    "            dffpp = df.loc[maskpp]\n",
    "            dff5 = df.loc[mask5]\n",
    "            dff7 = df.loc[mask7]\n",
    "            dff8 = df.loc[mask8]\n",
    "         \n",
    "            id_after_release=dffpp.bug_id.unique()\n",
    "     \n",
    "            id_RARA=dff5.bug_id.unique()\n",
    "          \n",
    "            id_RANRA=dff7.bug_id.unique()\n",
    "    \n",
    "            #TOTAL=len(dff.bug_id.unique())\n",
    "            \n",
    "            after_release=len(dffpp.bug_id.unique())\n",
    "        \n",
    "           # RBFA=len(dff4.bug_id.unique())\n",
    "            RARA=len(dff5.bug_id.unique())\n",
    "            BRA=len(dff8.bug_id.unique())\n",
    "      \n",
    "            RANRA=len(dff7.bug_id.unique())\n",
    "        \n",
    "            if after_release!=0 and RARA!=0:\n",
    "                    ratio5=RARA/(after_release+rem[i])\n",
    "            rem.insert(i+1, after_release+rem[i]-RARA) \n",
    "            #print(after_release,ratio5)\n",
    "            data=pd.DataFrame({\"version\": [versionD] , \n",
    "                       'reported_bugs':[after_release],\n",
    "    'RARA':[RARA]\n",
    "             , 'Ratio_R_A':[ratio5], \"month\":i+1 , \"nbra\": [BRA]\n",
    "   })\n",
    "            data1=pd.DataFrame({\"version\": [versionD] , \"ids\": [id_RARA]} )\n",
    "    \n",
    "\n",
    "            tData=tData.append(data)\n",
    "    "
   ]
  },
  {
   "cell_type": "code",
   "execution_count": 569,
   "metadata": {},
   "outputs": [],
   "source": [
    "#tData"
   ]
  },
  {
   "cell_type": "code",
   "execution_count": 563,
   "metadata": {},
   "outputs": [],
   "source": [
    "#tData\n",
    "tData.to_csv('RQ1\\\\Aevol1.csv',index=False)"
   ]
  },
  {
   "cell_type": "code",
   "execution_count": 564,
   "metadata": {},
   "outputs": [],
   "source": [
    "#data = pd.read_csv('RQ1\\\\evol1.csv')"
   ]
  },
  {
   "cell_type": "code",
   "execution_count": 565,
   "metadata": {},
   "outputs": [],
   "source": [
    "#data"
   ]
  },
  {
   "cell_type": "code",
   "execution_count": 567,
   "metadata": {},
   "outputs": [
    {
     "data": {
      "image/png": "[encoded data removed]",
      "text/plain": [
       "<Figure size 432x288 with 1 Axes>"
      ]
     },
     "metadata": {
      "needs_background": "light"
     },
     "output_type": "display_data"
    }
   ],
   "source": [
    "import matplotlib.pyplot as plt\n",
    "import pandas as pd\n",
    "data = pd.read_csv('RQ1\\\\Aevol1.csv')\n",
    "ci=0\n",
    "colors=['red','green','blue','black','orange','pink','yellow']\n",
    "for v in arr1:\n",
    "# gca stands for 'get current axis'\n",
    "    \n",
    "    ax = plt.gca()\n",
    "    value=data[data['version']==v]\n",
    "    #print(value['reported_bugs'])\n",
    "    value.plot(kind='line',x='month',y='reported_bugs', color=colors[ci],ax=ax, label=v)\n",
    "    ci=ci+1\n",
    "    #df.plot(kind='line',x='name',y='num_pets', color='red', ax=ax)\n",
    "plt.xlabel('months after release')\n",
    "plt.ylabel('number of reported bugs')\n",
    "#plt.ylim(0,1)\n",
    "#plt.title('Resolving rate of bugs in a specific version over months just after its release')\n",
    "plt.savefig('rq1B(r).pdf')\n",
    "plt.show()\n"
   ]
  },
  {
   "cell_type": "code",
   "execution_count": 570,
   "metadata": {},
   "outputs": [],
   "source": [
    "#resolved after\n",
    "\n",
    "tData=pd.DataFrame()\n",
    "id_before_release=0\n",
    "id_after_release=0\n",
    "id_RBRB=0\n",
    "id_RBFB=0\n",
    "id_RBRA=0\n",
    "id_RBFA=0\n",
    "id_RARA=0\n",
    "id_RAFA=0\n",
    "rem=[0]\n",
    "c=-1\n",
    "for x in dict1:\n",
    "    data=pd.DataFrame()\n",
    "    #print(dict[x])\n",
    "    start_date = dict1[x]\n",
    "    end_date = '25-09-2014 12:00:00'\n",
    "    version= x\n",
    "    date_time_obj = datetime.datetime.strptime(start_date, '%Y-%m-%d %H:%M:%S')\n",
    "    temp=rem[-1]\n",
    "    #print(temp)\n",
    "    rem= [temp]\n",
    "   \n",
    "    c=c+1\n",
    "   # print(c)\n",
    "    for i in range(12):\n",
    "        \n",
    "            k=date_time_obj + timedelta(30*i)\n",
    "            l=date_time_obj + timedelta(30*(i+1))\n",
    "   # print(x,dict[x])\n",
    "    #mask = (df['creation_ts'] > start_date) & (df['creation_ts'] <= end_date) & ((\"4.4.1\"==df['version'])  | (\"4.4\"==df['version']))\n",
    "    #mask = (df['creation_ts'] > start_date) & (df['creation_ts'] <= end_date) & (\"4.4\"==df['version'])\n",
    "            mask= (version==df['version'])  \n",
    "    #the bug before release \n",
    "            maskp = (version==df['version'])  & (df['creation_ts'] < start_date) \n",
    "    #the bug after release \n",
    "            maskpp = (arr[c]!=df['version'])  & (df['creation_ts'] >= k)  & (df['creation_ts'] < l)\n",
    "\n",
    "\n",
    "\n",
    "            mask4 = (df.version.str.contains(version, regex=True))  & (df['When'] >= k) & (\"RESOLVED\"==df['activity']) & (df['When'] <l )& (\"FIXED\"==df['resolution']) \n",
    "    #the bug created after release  and resolved\n",
    "            mask5 = (df.version.str.contains(version, regex=True))  & (df['When'] >= k) & (\"RESOLVED\"==df['activity']) & (df['When'] <l )\n",
    "              #the bug created after release  and not rresolved \n",
    "            mask7 = (arr[c]!=df['version'])  & (df['creation_ts'] >= k)  & (df['creation_ts'] < l) & (((\"RESOLVED\"==df['activity']) & (df['When'] >=l )) |  (df['resolution'].isnull()))\n",
    "   \n",
    "    #the bug created after release  and fixed \n",
    "            mask6 = (df['creation_ts'] >= start_date) & (version==df['version']) & (\"RESOLVED\"==df['activity']) & (\"FIXED\"==df['resolution'])\n",
    "\n",
    "            dff = df.loc[mask]\n",
    "            dffp = df.loc[maskp]\n",
    "            dffpp = df.loc[maskpp]\n",
    "            dff1 = df.loc[mask1]\n",
    "            dff2 = df.loc[mask2]\n",
    "            dff3 = df.loc[mask3]\n",
    "            dff4 = df.loc[mask4]\n",
    "            dff5 = df.loc[mask5]\n",
    "    \n",
    "            id_R=len(dff5.bug_id.unique())\n",
    "            id_F=len(dff4.bug_id.unique())\n",
    "            \n",
    "            id_before_release=dffp.bug_id.unique()\n",
    "            id_after_release=dffpp.bug_id.unique()\n",
    "            id_RBRB=dff1.bug_id.unique()\n",
    "            id_RBFB=dff2.bug_id.unique()\n",
    "            id_RBRA=dff3.bug_id.unique()\n",
    "            id_RBFA=dff4.bug_id.unique()\n",
    "            id_RARA=dff5.bug_id.unique()\n",
    "            id_RAFA=dff6.bug_id.unique()\n",
    "            id_RANRA=dff7.bug_id.unique()\n",
    "    \n",
    "       \n",
    "            if after_release!=0 and RARA!=0:\n",
    "                    ratio5=id_F/id_R\n",
    "                    #print(rem[i],after_release,RARA)\n",
    "            rem.insert(i+1, after_release+rem[i]-RARA) \n",
    "            #print(rem[i])\n",
    "            data=pd.DataFrame({\"version\": [version] , \n",
    "    'RARA':[RARA]\n",
    "             , 'Ratio_F':[ratio5], \"month\":i+1 \n",
    "   })\n",
    "    \n",
    "\n",
    "            tData=tData.append(data)\n",
    "    #break"
   ]
  },
  {
   "cell_type": "code",
   "execution_count": 571,
   "metadata": {},
   "outputs": [],
   "source": [
    "#tData\n",
    "tData.to_csv('RQ1\\\\Aevol1.csv',index=False)"
   ]
  },
  {
   "cell_type": "code",
   "execution_count": 466,
   "metadata": {},
   "outputs": [
    {
     "data": {
      "image/png": "[encoded data removed]",
      "text/plain": [
       "<Figure size 432x288 with 1 Axes>"
      ]
     },
     "metadata": {
      "needs_background": "light"
     },
     "output_type": "display_data"
    }
   ],
   "source": [
    "import matplotlib.pyplot as plt\n",
    "import pandas as pd\n",
    "data = pd.read_csv('RQ1\\\\Aevol1.csv')\n",
    "ci=0\n",
    "colors=['red','green','blue','black','orange','pink','yellow']\n",
    "for v in arr1:\n",
    "# gca stands for 'get current axis'\n",
    "    \n",
    "    ax = plt.gca()\n",
    "    value=data[data['version']==v]\n",
    "    value.plot(kind='line',x='month',y='Ratio_R_A', color=colors[ci],ax=ax, label=v)\n",
    "    ci=ci+1\n",
    "    #df.plot(kind='line',x='name',y='num_pets', color='red', ax=ax)\n",
    "plt.xlabel('months after release')\n",
    "plt.ylabel('rate of FIXED bugs')\n",
    "plt.ylim(0, 1);\n",
    "#plt.title('Resolving rate over months in any version just after a release of a version')\n",
    "plt.savefig('rq1b.pdf')\n",
    "plt.show()\n"
   ]
  },
  {
   "cell_type": "code",
   "execution_count": null,
   "metadata": {},
   "outputs": [],
   "source": [
    "dict2={\n",
    "  \"4.2\" : \"2012-6-27 00:00:00\" ,  \n",
    "\"4.3\" : \"2013-6-26 20:00:00\" ,\n",
    "\"4.4\" :  \"2014-6-25 12:15:00\" ,\n",
    "\"4.5\" : \"2015-6-24 20:00:00\" ,\n",
    "\"4.6\" :\"2016-6-22 11:00:00\",\n",
    "\"4.7\" :  \"2017-6-28 09:50:00\",\n",
    "\"4.8\" :  \"2018-6-27 00:00:00\"\n",
    "\n",
    "}"
   ]
  },
  {
   "cell_type": "code",
   "execution_count": null,
   "metadata": {},
   "outputs": [],
   "source": [
    "Bdates=[\n",
    "    \"22-6-2011 20:00:00\" ,\n",
    "    \"27-6-2012 00:00:00\",\n",
    "    \"26-6-2013 20:00:00\" ,\n",
    " \"25-6-2014 12:15:00\" ,\n",
    " \"24-6-2015 20:00:00\" ,\n",
    "\"22-6-2016 11:00:00\",\n",
    "  \"28-6-2017 09:50:00\",\n",
    "  \"27-6-2018 00:00:00\",\n",
    "]"
   ]
  },
  {
   "cell_type": "code",
   "execution_count": 531,
   "metadata": {},
   "outputs": [],
   "source": [
    "tData=pd.DataFrame()\n",
    "id_before_release=0\n",
    "id_after_release=0\n",
    "id_RBRB=0\n",
    "id_RBFB=0\n",
    "id_RBRA=0\n",
    "id_RBFA=0\n",
    "id_RARA=0\n",
    "id_RAFA=0\n",
    "c=0\n",
    "for x in dict1:\n",
    "    data=pd.DataFrame()\n",
    "    data1=pd.DataFrame()\n",
    "    #print(dict[x])\n",
    "    start_date = dict1[x]\n",
    "    end_date = Bdates[c]\n",
    "    versionD= x\n",
    "    version='^'+versionD\n",
    "    date_time_obj = datetime.datetime.strptime(end_date, '%d-%m-%Y %H:%M:%S')\n",
    "    c=c+1\n",
    "    rem=[0]\n",
    "    for i in range(12):\n",
    "        \n",
    "            k=date_time_obj + timedelta(30*i)\n",
    "            l=date_time_obj + timedelta(30*(i+1))\n",
    "           \n",
    " \n",
    "            #the bug reported in this month\n",
    "            mask = (df.version.str.contains(version, regex=True))  & (df['creation_ts'] >= k)  & (df['creation_ts'] < l)\n",
    "\n",
    "\n",
    "            #the bug resolved in this month\n",
    "            mask1 =  (df.version.str.contains(version, regex=True))  & (df['When'] >= k) & (\"RESOLVED\"==df['activity']) & (df['When'] <l ) \n",
    "   \n",
    "           #the bug created before release and fixed after release \n",
    "            mask2 = (df['When'] > start_date) & (df['creation_ts'] <= start_date) & (df.version.str.contains(version, regex=True)) & (\"RESOLVED\"==df['activity']) & (\"FIXED\"==df['resolution']) \n",
    "            #the bug created after release  and resolved\n",
    "            mask3 = (df.version.str.contains(version, regex=True))  & (df['creation_ts'] >= k)  & (df['creation_ts'] < l) & (\"RESOLVED\"==df['activity']) & (df['When'] <l )\n",
    "              #the bug created after release  and not rresolved \n",
    "           # mask7 = (df.version.str.contains(version, regex=True))  & (df['creation_ts'] >= k)  & (df['creation_ts'] < l) & (((\"RESOLVED\"==df['activity']) & (df['When'] >l )) |  (df['resolution'].isnull()))\n",
    "   \n",
    "\n",
    "            dff = df.loc[mask]\n",
    "            dff1 = df.loc[mask1]\n",
    "            #dff2 = df.loc[mask2]\n",
    "            #dff3 = df.loc[mask3]\n",
    "      \n",
    "            id_before_release=dff.bug_id.unique()\n",
    "        \n",
    "            id_RARA=dff1.bug_id.unique()\n",
    "         \n",
    "            before_release=len(dff.bug_id.unique())\n",
    "           \n",
    "            #RBFA=len(dff4.bug_id.unique())\n",
    "            RARA=len(dff1.bug_id.unique())\n",
    "      \n",
    "\n",
    "            if before_release!=0 and RARA!=0:\n",
    "                    ratio5=RARA/(before_release+rem[i])\n",
    "            rem.insert(i+1, before_release+rem[i]-RARA) \n",
    "            #print(after_release,ratio5)\n",
    "            data=pd.DataFrame({\"version\": [versionD] , 'before_release':[before_release], \n",
    "                       \n",
    "    'RARA':[RARA]\n",
    "             , 'Ratio_R_A':[ratio5], \"month\":i+1 , 'rem':rem[i]\n",
    "   })\n",
    "            \n",
    "    \n",
    "\n",
    "            tData=tData.append(data)\n",
    "    "
   ]
  },
  {
   "cell_type": "code",
   "execution_count": 533,
   "metadata": {},
   "outputs": [],
   "source": [
    "tData.to_csv('RQ1\\\\Bevol1.csv',index=False)"
   ]
  },
  {
   "cell_type": "code",
   "execution_count": 534,
   "metadata": {},
   "outputs": [
    {
     "data": {
      "image/png": "[encoded data removed]",
      "text/plain": [
       "<Figure size 432x288 with 1 Axes>"
      ]
     },
     "metadata": {
      "needs_background": "light"
     },
     "output_type": "display_data"
    }
   ],
   "source": [
    "import matplotlib.pyplot as plt\n",
    "import pandas as pd\n",
    "data = pd.read_csv('RQ1\\\\Bevol1.csv')\n",
    "ci=0\n",
    "colors=['red','green','blue','black','orange','pink','yellow']\n",
    "for v in arr1:\n",
    "# gca stands for 'get current axis'\n",
    "    \n",
    "    ax = plt.gca()\n",
    "    value=data[data['version']==v]\n",
    "    value.plot(kind='line',x='month',y='Ratio_R_A', color=colors[ci],ax=ax, label=v)\n",
    "    ci=ci+1\n",
    "    #df.plot(kind='line',x='name',y='num_pets', color='red', ax=ax)\n",
    "plt.xlabel('months before release')\n",
    "plt.ylabel('rate of resolved bugs')\n",
    "plt.ylim(0,1)\n",
    "#plt.title('Resolving rate of bugs in a specific version over months just after its release')\n",
    "plt.savefig('rq1c.pdf')\n",
    "plt.show()\n"
   ]
  },
  {
   "cell_type": "code",
   "execution_count": 497,
   "metadata": {},
   "outputs": [],
   "source": [
    "p=df[df.bug_id.isin(gData.iloc[0].before_release)]"
   ]
  },
  {
   "cell_type": "code",
   "execution_count": 538,
   "metadata": {},
   "outputs": [],
   "source": [
    "tData=pd.DataFrame()\n",
    "id_before_release=0\n",
    "id_after_release=0\n",
    "id_RBRB=0\n",
    "id_RBFB=0\n",
    "id_RBRA=0\n",
    "id_RBFA=0\n",
    "id_RARA=0\n",
    "id_RAFA=0\n",
    "c=0\n",
    "for x in dict1:\n",
    "    data=pd.DataFrame()\n",
    "    data1=pd.DataFrame()\n",
    "    #print(dict[x])\n",
    "    start_date = dict1[x]\n",
    "    end_date = Bdates[c]\n",
    "    versionD= x\n",
    "    version='^'+versionD\n",
    "    date_time_obj = datetime.datetime.strptime(end_date, '%d-%m-%Y %H:%M:%S')\n",
    "    c=c+1\n",
    "    rem=[0]\n",
    "    for i in range(12):\n",
    "        \n",
    "            k=date_time_obj + timedelta(30*i)\n",
    "            l=date_time_obj + timedelta(30*(i+1))\n",
    "           \n",
    " \n",
    "            #the bug reported in this month\n",
    "            mask = (df.version.str.contains(version, regex=True))  & (df['creation_ts'] >= k)  & (df['creation_ts'] < l)\n",
    "\n",
    "\n",
    "            #the bug resolved in this month\n",
    "            mask1 =  (df.version.str.contains(version, regex=True))  & (df['When'] >= k) & (\"RESOLVED\"==df['activity']) & (df['When'] <l ) \n",
    "   \n",
    "           #the bug created before release and fixed after release \n",
    "            mask2 = (df['When'] >= k) & (df['When'] < l) & (df['creation_ts'] <= start_date) & (df.version.str.contains(version, regex=True)) & (\"RESOLVED\"==df['activity']) & (\"FIXED\"==df['resolution']) \n",
    "            #the bug created after release  and resolved\n",
    "            mask3 = (df.version.str.contains(version, regex=True)) & (\"RESOLVED\"==df['activity']) & (df['When'] <l )\n",
    "              #the bug created after release  and not rresolved \n",
    "           # mask7 = (df.version.str.contains(version, regex=True))  & (df['creation_ts'] >= k)  & (df['creation_ts'] < l) & (((\"RESOLVED\"==df['activity']) & (df['When'] >l )) |  (df['resolution'].isnull()))\n",
    "   \n",
    "\n",
    "            dff = df.loc[mask]\n",
    "            dff1 = df.loc[mask1]\n",
    "            dff2 = df.loc[mask2]\n",
    "            #dff3 = df.loc[mask3]\n",
    "      \n",
    "            id_before_release=dff.bug_id.unique()\n",
    "        \n",
    "            id_RARA=dff1.bug_id.unique()\n",
    "         \n",
    "            before_release=len(dff.bug_id.unique())\n",
    "           \n",
    "            #RBFA=len(dff4.bug_id.unique())\n",
    "            RARA=len(dff1.bug_id.unique())\n",
    "            RAFA=len(dff2.bug_id.unique())\n",
    "      \n",
    "\n",
    "            if before_release!=0 and RARA!=0:\n",
    "                    ratio5=RAFA/RARA\n",
    "            #rem.insert(i+1, before_release+rem[i]-RARA) \n",
    "            #print(after_release,ratio5)\n",
    "            data=pd.DataFrame({\"version\": [versionD] , 'before_release':[before_release], \n",
    "                       \n",
    "    'RARA':[RARA]\n",
    "             , 'Ratio_F_A':[ratio5], \"month\":i+1 \n",
    "   })\n",
    "            \n",
    "    \n",
    "\n",
    "            tData=tData.append(data)"
   ]
  },
  {
   "cell_type": "code",
   "execution_count": 539,
   "metadata": {},
   "outputs": [],
   "source": [
    "tData.to_csv('RQ1\\\\Bevol2.csv',index=False)"
   ]
  },
  {
   "cell_type": "code",
   "execution_count": 540,
   "metadata": {},
   "outputs": [
    {
     "data": {
      "image/png": "[encoded data removed]",
      "text/plain": [
       "<Figure size 432x288 with 1 Axes>"
      ]
     },
     "metadata": {
      "needs_background": "light"
     },
     "output_type": "display_data"
    }
   ],
   "source": [
    "import matplotlib.pyplot as plt\n",
    "import pandas as pd\n",
    "data = pd.read_csv('RQ1\\\\Bevol2.csv')\n",
    "ci=0\n",
    "colors=['red','green','blue','black','orange','pink','yellow']\n",
    "for v in arr1:\n",
    "# gca stands for 'get current axis'\n",
    "    \n",
    "    ax = plt.gca()\n",
    "    value=data[data['version']==v]\n",
    "    value.plot(kind='line',x='month',y='Ratio_F_A', color=colors[ci],ax=ax, label=v)\n",
    "    ci=ci+1\n",
    "    #df.plot(kind='line',x='name',y='num_pets', color='red', ax=ax)\n",
    "plt.xlabel('months before release')\n",
    "plt.ylabel('rate of resolved bugs')\n",
    "plt.ylim(0,1)\n",
    "#plt.title('Resolving rate of bugs in a specific version over months just after its release')\n",
    "plt.savefig('rq1d.pdf')\n",
    "plt.show()"
   ]
  },
  {
   "cell_type": "code",
   "execution_count": null,
   "metadata": {},
   "outputs": [],
   "source": []
  }
 ],
 "metadata": {
  "kernelspec": {
   "display_name": "Python 3",
   "language": "python",
   "name": "python3"
  },
  "language_info": {
   "codemirror_mode": {
    "name": "ipython",
    "version": 3
   },
   "file_extension": ".py",
   "mimetype": "text/x-python",
   "name": "python",
   "nbconvert_exporter": "python",
   "pygments_lexer": "ipython3",
   "version": "3.6.8"
  }
 },
 "nbformat": 4,
 "nbformat_minor": 2
}
