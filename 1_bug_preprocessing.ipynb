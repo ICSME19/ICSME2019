{
 "cells": [
  {
   "cell_type": "code",
   "execution_count": 1,
   "metadata": {},
   "outputs": [],
   "source": [
    "import pandas as pd\n",
    "import os\n",
    "import json\n",
    "import csv\n",
    "import re, datetime\n",
    "import matplotlib.pyplot as plt\n",
    "import seaborn as sns\n",
    "from datetime import date, timedelta\n",
    "\n",
    "from lifelines import KaplanMeierFitter\n",
    "\n",
    "from global_functions import *"
   ]
  },
  {
   "cell_type": "markdown",
   "metadata": {},
   "source": [
    "### Information\n",
    "\n",
    "Input files:\n",
    "/raw_data/all_eclipse_bugs_full.csv\n",
    "\n",
    "Output files:\n",
    "/data_processing/bugs_info.csv"
   ]
  },
  {
   "cell_type": "code",
   "execution_count": 2,
   "metadata": {},
   "outputs": [],
   "source": [
    "eclipse_bugs_all_file = '.'+os.sep+'raw_data'+os.sep+'all_eclipse_bugs_full.zip'\n",
    "bugs_info_file = 'data_processing'+os.sep+'bugs_info.zip'"
   ]
  },
  {
   "cell_type": "code",
   "execution_count": 3,
   "metadata": {
    "scrolled": true
   },
   "outputs": [
    {
     "name": "stderr",
     "output_type": "stream",
     "text": [
      "/anaconda3/lib/python3.7/site-packages/IPython/core/interactiveshell.py:3020: DtypeWarning: Columns (17) have mixed types. Specify dtype option on import or set low_memory=False.\n",
      "  interactivity=interactivity, compiler=compiler, result=result)\n"
     ]
    },
    {
     "data": {
      "text/html": [
       "<div>\n",
       "<style scoped>\n",
       "    .dataframe tbody tr th:only-of-type {\n",
       "        vertical-align: middle;\n",
       "    }\n",
       "\n",
       "    .dataframe tbody tr th {\n",
       "        vertical-align: top;\n",
       "    }\n",
       "\n",
       "    .dataframe thead th {\n",
       "        text-align: right;\n",
       "    }\n",
       "</style>\n",
       "<table border=\"1\" class=\"dataframe\">\n",
       "  <thead>\n",
       "    <tr style=\"text-align: right;\">\n",
       "      <th></th>\n",
       "      <th>id</th>\n",
       "      <th>Product</th>\n",
       "      <th>version</th>\n",
       "      <th>resolution</th>\n",
       "      <th>status</th>\n",
       "      <th>severity</th>\n",
       "      <th>creation_time</th>\n",
       "      <th>priority</th>\n",
       "    </tr>\n",
       "  </thead>\n",
       "  <tbody>\n",
       "    <tr>\n",
       "      <th>0</th>\n",
       "      <td>475361</td>\n",
       "      <td>Platform</td>\n",
       "      <td>4.5</td>\n",
       "      <td>FIXED</td>\n",
       "      <td>RESOLVED</td>\n",
       "      <td>normal</td>\n",
       "      <td>2015-08-19 10:50:25</td>\n",
       "      <td>P3</td>\n",
       "    </tr>\n",
       "    <tr>\n",
       "      <th>1</th>\n",
       "      <td>475365</td>\n",
       "      <td>Platform</td>\n",
       "      <td>4.6</td>\n",
       "      <td>FIXED</td>\n",
       "      <td>RESOLVED</td>\n",
       "      <td>minor</td>\n",
       "      <td>2015-08-19 11:34:37</td>\n",
       "      <td>P3</td>\n",
       "    </tr>\n",
       "  </tbody>\n",
       "</table>\n",
       "</div>"
      ],
      "text/plain": [
       "       id   Product version resolution    status severity       creation_time  \\\n",
       "0  475361  Platform     4.5      FIXED  RESOLVED   normal 2015-08-19 10:50:25   \n",
       "1  475365  Platform     4.6      FIXED  RESOLVED    minor 2015-08-19 11:34:37   \n",
       "\n",
       "  priority  \n",
       "0       P3  \n",
       "1       P3  "
      ]
     },
     "execution_count": 3,
     "metadata": {},
     "output_type": "execute_result"
    }
   ],
   "source": [
    "#Load data\n",
    "#use os.sep to get the separator based on the operating system so as not to have issues running the script in other operating systems\n",
    "df = pd.read_csv(eclipse_bugs_all_file,index_col=False,compression='zip',dtype={'version':str})\n",
    "df = fetch_minimal_columns(df)\n",
    "df.head(n=2)"
   ]
  },
  {
   "cell_type": "code",
   "execution_count": 4,
   "metadata": {},
   "outputs": [
    {
     "name": "stdout",
     "output_type": "stream",
     "text": [
      "Initial dataset size:208862\n"
     ]
    }
   ],
   "source": [
    "print('Initial dataset size:'+str(len(df.id.unique())))"
   ]
  },
  {
   "cell_type": "code",
   "execution_count": 5,
   "metadata": {},
   "outputs": [
    {
     "data": {
      "text/plain": [
       "array(['unspecified', '0.9', '1.0', '0.12', '0.2', '0.13', '0.14', '0.15',\n",
       "       '0.11', '0.16', '0.17', '0.18'], dtype=object)"
      ]
     },
     "execution_count": 5,
     "metadata": {},
     "output_type": "execute_result"
    }
   ],
   "source": [
    "#Versions of e4\n",
    "df[df['Product']=='e4'].version.unique()"
   ]
  },
  {
   "cell_type": "code",
   "execution_count": 6,
   "metadata": {},
   "outputs": [
    {
     "name": "stdout",
     "output_type": "stream",
     "text": [
      "e4 bugs=3782\n"
     ]
    }
   ],
   "source": [
    "print('e4 bugs='+str(len(df[df['Product']=='e4'])))"
   ]
  },
  {
   "cell_type": "code",
   "execution_count": 7,
   "metadata": {},
   "outputs": [
    {
     "name": "stdout",
     "output_type": "stream",
     "text": [
      "Incubator bugs=49\n"
     ]
    }
   ],
   "source": [
    "print('Incubator bugs='+str(len(df[df['Product']=='Incubator'])))"
   ]
  },
  {
   "cell_type": "code",
   "execution_count": 8,
   "metadata": {},
   "outputs": [
    {
     "data": {
      "text/plain": [
       "array(['unspecified', '0.9', '1.0', '0.12', '0.2', '0.13', '0.14', '0.15',\n",
       "       '0.11', '0.16', '0.17', '0.18'], dtype=object)"
      ]
     },
     "execution_count": 8,
     "metadata": {},
     "output_type": "execute_result"
    }
   ],
   "source": [
    "#Versions of Incubator\n",
    "df[df['Product']=='e4'].version.unique()"
   ]
  },
  {
   "cell_type": "code",
   "execution_count": 9,
   "metadata": {},
   "outputs": [
    {
     "name": "stdout",
     "output_type": "stream",
     "text": [
      "Removed E4 & Incubator bugs:3831\n",
      "Dataset size:205031\n"
     ]
    }
   ],
   "source": [
    "#Filter 1: Excluding e4 and inclubator products\n",
    "bef = len(df)\n",
    "df = df[df['Product']!='e4']\n",
    "df = df[df['Product']!='Incubator']\n",
    "\n",
    "after = len(df)\n",
    "print('Removed E4 & Incubator bugs:'+str(bef-after))\n",
    "print('Dataset size:'+str(len(df)))"
   ]
  },
  {
   "cell_type": "code",
   "execution_count": 10,
   "metadata": {},
   "outputs": [
    {
     "data": {
      "text/plain": [
       "array(['normal', 'minor', 'enhancement', 'major', 'trivial', 'critical',\n",
       "       'blocker'], dtype=object)"
      ]
     },
     "execution_count": 10,
     "metadata": {},
     "output_type": "execute_result"
    }
   ],
   "source": [
    "df.severity.unique()"
   ]
  },
  {
   "cell_type": "code",
   "execution_count": 11,
   "metadata": {},
   "outputs": [
    {
     "name": "stdout",
     "output_type": "stream",
     "text": [
      "Removed enhancement bugs:27799\n",
      "Dataset size:177232\n"
     ]
    }
   ],
   "source": [
    "#Filter 2: Excluding enhancements\n",
    "bef = len(df)\n",
    "df = df[df['severity']!='enhancement']\n",
    "after = len(df)\n",
    "print('Removed enhancement bugs:'+str(bef-after))\n",
    "print('Dataset size:'+str(len(df)))"
   ]
  },
  {
   "cell_type": "code",
   "execution_count": 12,
   "metadata": {},
   "outputs": [
    {
     "name": "stdout",
     "output_type": "stream",
     "text": [
      "Eclipse products:4\n",
      "Eclipse products:['Platform', 'JDT', 'PDE', 'Equinox']\n",
      "Eclipse releases:70\n",
      "Eclipse releases:['1.0', '2.0', '2.0.1', '2.0.2', '2.1', '2.1.1', '2.1.2', '2.1.3', '3.0', '3.0.1', '3.0.2', '3.1', '3.1.1', '3.1.2', '3.10.0 Luna', '3.10.1 Luna', '3.2', '3.2.1', '3.2.2', '3.3', '3.3.1', '3.3.2', '3.4', '3.4.1', '3.4.2', '3.5', '3.5.1', '3.5.2', '3.6', '3.6.1', '3.6.2', '3.7', '3.7.1', '3.7.2', '3.8', '3.8.0 Juno', '3.8.1', '3.8.1 Juno', '3.8.2', '3.8.2 Juno', '3.9.0 Kepler', '4.0', '4.1', '4.10', '4.11', '4.2', '4.2.1', '4.2.2', '4.3', '4.3.1', '4.3.2', '4.4', '4.4.1', '4.4.2', '4.5', '4.5.0 Mars', '4.5.1', '4.5.2', '4.6', '4.6.0 Neon', '4.7', '4.7.0 Oxygen', '4.7.1', '4.7.1a', '4.7.2', '4.7.3', '4.8', '4.8.0 Photon', '4.9', 'unspecified']\n"
     ]
    }
   ],
   "source": [
    "print('Eclipse products:'+str(len(df.Product.unique())))\n",
    "print('Eclipse products:'+str(df.Product.unique().tolist()))\n",
    "\n",
    "print('Eclipse releases:'+str(len(df.version.unique())))\n",
    "print('Eclipse releases:'+str(sorted(df.version.unique().tolist())))"
   ]
  },
  {
   "cell_type": "markdown",
   "metadata": {},
   "source": [
    "# Unspecified bug information"
   ]
  },
  {
   "cell_type": "code",
   "execution_count": 13,
   "metadata": {},
   "outputs": [
    {
     "name": "stdout",
     "output_type": "stream",
     "text": [
      "Number of unspecified bugs:3237\n",
      "Products with unspecified bugs:['Equinox']\n"
     ]
    }
   ],
   "source": [
    "df_un=df[df['version']=='unspecified']\n",
    "print('Number of unspecified bugs:'+str(len(df_un.id.unique())))\n",
    "print('Products with unspecified bugs:'+str(df_un.Product.unique().tolist()))"
   ]
  },
  {
   "cell_type": "code",
   "execution_count": 14,
   "metadata": {},
   "outputs": [
    {
     "name": "stdout",
     "output_type": "stream",
     "text": [
      "Number of unspecified bugs for product:3237\n",
      "Number of bugs for product:12610\n",
      "Percentage of unspecified bugs in Equinox:0.256701030927835\n",
      "========\n"
     ]
    }
   ],
   "source": [
    "for prod in df_un.Product.unique().tolist():\n",
    "    perc = len(df[(df['Product']==prod)&(df['version']=='unspecified')])/len(df[df['Product']==prod])\n",
    "    print('Number of unspecified bugs for product:'+str(len(df[(df['Product']==prod)&(df['version']=='unspecified')])))\n",
    "    print('Number of bugs for product:'+str(len(df[df['Product']==prod])))\n",
    "    print('Percentage of unspecified bugs in '+prod+':'+str(perc))\n",
    "    print('========')"
   ]
  },
  {
   "cell_type": "code",
   "execution_count": 15,
   "metadata": {},
   "outputs": [
    {
     "name": "stdout",
     "output_type": "stream",
     "text": [
      "Dataset size (before filtering):177232\n",
      "Number of unspecified bugs:3237\n",
      "Dataset size (after filtering unspecified):173995\n"
     ]
    }
   ],
   "source": [
    "#Filter 3: remove bugs with unspecified version\n",
    "print('Dataset size (before filtering):'+str(len(df.id.unique())))\n",
    "print('Number of unspecified bugs:'+str(len(df[df['version']=='unspecified'].id.unique())))\n",
    "df = df[df['version']!='unspecified']\n",
    "\n",
    "print('Dataset size (after filtering unspecified):'+str(len(df.id.unique())))"
   ]
  },
  {
   "cell_type": "code",
   "execution_count": 16,
   "metadata": {},
   "outputs": [
    {
     "name": "stdout",
     "output_type": "stream",
     "text": [
      "Eclipse products:['Platform' 'JDT' 'PDE' 'Equinox']\n"
     ]
    }
   ],
   "source": [
    "#products after filtering\n",
    "print('Eclipse products:'+str(df.Product.unique()))"
   ]
  },
  {
   "cell_type": "code",
   "execution_count": 17,
   "metadata": {},
   "outputs": [
    {
     "data": {
      "text/html": [
       "<div>\n",
       "<style scoped>\n",
       "    .dataframe tbody tr th:only-of-type {\n",
       "        vertical-align: middle;\n",
       "    }\n",
       "\n",
       "    .dataframe tbody tr th {\n",
       "        vertical-align: top;\n",
       "    }\n",
       "\n",
       "    .dataframe thead th {\n",
       "        text-align: right;\n",
       "    }\n",
       "</style>\n",
       "<table border=\"1\" class=\"dataframe\">\n",
       "  <thead>\n",
       "    <tr style=\"text-align: right;\">\n",
       "      <th></th>\n",
       "      <th>id</th>\n",
       "      <th>Product</th>\n",
       "      <th>version</th>\n",
       "      <th>resolution</th>\n",
       "      <th>status</th>\n",
       "      <th>severity</th>\n",
       "      <th>creation_time</th>\n",
       "      <th>priority</th>\n",
       "      <th>release</th>\n",
       "    </tr>\n",
       "  </thead>\n",
       "  <tbody>\n",
       "    <tr>\n",
       "      <th>0</th>\n",
       "      <td>475361</td>\n",
       "      <td>Platform</td>\n",
       "      <td>4.5</td>\n",
       "      <td>FIXED</td>\n",
       "      <td>RESOLVED</td>\n",
       "      <td>normal</td>\n",
       "      <td>2015-08-19 10:50:25</td>\n",
       "      <td>P3</td>\n",
       "      <td>4.5</td>\n",
       "    </tr>\n",
       "    <tr>\n",
       "      <th>1</th>\n",
       "      <td>475365</td>\n",
       "      <td>Platform</td>\n",
       "      <td>4.6</td>\n",
       "      <td>FIXED</td>\n",
       "      <td>RESOLVED</td>\n",
       "      <td>minor</td>\n",
       "      <td>2015-08-19 11:34:37</td>\n",
       "      <td>P3</td>\n",
       "      <td>4.6</td>\n",
       "    </tr>\n",
       "  </tbody>\n",
       "</table>\n",
       "</div>"
      ],
      "text/plain": [
       "       id   Product version resolution    status severity       creation_time  \\\n",
       "0  475361  Platform     4.5      FIXED  RESOLVED   normal 2015-08-19 10:50:25   \n",
       "1  475365  Platform     4.6      FIXED  RESOLVED    minor 2015-08-19 11:34:37   \n",
       "\n",
       "  priority release  \n",
       "0       P3     4.5  \n",
       "1       P3     4.6  "
      ]
     },
     "execution_count": 17,
     "metadata": {},
     "output_type": "execute_result"
    }
   ],
   "source": [
    "#Get the closest minor release of eclipse\n",
    "df['release'] = df.apply(lambda x : str(assign_to_closest_minor(x['version'])), axis=1)\n",
    "df.head(n=2)"
   ]
  },
  {
   "cell_type": "code",
   "execution_count": 18,
   "metadata": {},
   "outputs": [
    {
     "data": {
      "text/plain": [
       "array(['4.5', '4.6', '4.4', '3.7', '4.2', '4.3', '3.6', '4.8', '3.1',\n",
       "       '4.7', '4.11', '4.10', '3.4', '3.5', '3.3', '4.0', '3.2', '3.0',\n",
       "       '2.0', '2.1', '1.0', '4.1', '4.9', '3.10', '3.9'], dtype=object)"
      ]
     },
     "execution_count": 18,
     "metadata": {},
     "output_type": "execute_result"
    }
   ],
   "source": [
    "df.release.unique()"
   ]
  },
  {
   "cell_type": "code",
   "execution_count": 19,
   "metadata": {},
   "outputs": [
    {
     "data": {
      "text/plain": [
       "['4.11', '2.0', '2.1', '1.0']"
      ]
     },
     "execution_count": 19,
     "metadata": {},
     "output_type": "execute_result"
    }
   ],
   "source": [
    "#Filter 4: Filter out releases before 3.0 and 4.11\n",
    "exclude_releases = list()\n",
    "for release in df.release.unique():\n",
    "    if is_smaller_release(release,'3.0') or is_larger_release(release,'4.10'):\n",
    "        exclude_releases.append(release)\n",
    "#exclude_releases.append('4.11')\n",
    "exclude_releases"
   ]
  },
  {
   "cell_type": "code",
   "execution_count": 20,
   "metadata": {},
   "outputs": [
    {
     "name": "stdout",
     "output_type": "stream",
     "text": [
      "Dataset size (before removing releases smaller than 3.0 or larger than 4.10):173995\n",
      "Bugs removed in excluded releases:32985\n",
      "Dataset size:141010\n"
     ]
    }
   ],
   "source": [
    "bef = len(df)\n",
    "print('Dataset size (before removing releases smaller than 3.0 or larger than 4.10):'+str(len(df.id.unique())))\n",
    "df = df[~df['release'].isin(exclude_releases)]\n",
    "after = len(df)\n",
    "print('Bugs removed in excluded releases:'+str(bef-after))\n",
    "print('Dataset size:'+str(len(df.id.unique())))"
   ]
  },
  {
   "cell_type": "code",
   "execution_count": 22,
   "metadata": {},
   "outputs": [
    {
     "data": {
      "text/plain": [
       "['4.0', '4.1', '3.10', '3.9']"
      ]
     },
     "execution_count": 22,
     "metadata": {},
     "output_type": "execute_result"
    }
   ],
   "source": [
    "official_releases = ['3.0', '3.1', '3.2', '3.3', '3.4', '3.5', '3.6', '3.7', '3.8', '4.2', '4.3', '4.4', '4.5', '4.6', '4.7', '4.8', '4.9', '4.10']\n",
    "to_exclude = [x for  x in df.release.unique().tolist() if x not in official_releases]\n",
    "to_exclude"
   ]
  },
  {
   "cell_type": "code",
   "execution_count": 23,
   "metadata": {},
   "outputs": [
    {
     "name": "stdout",
     "output_type": "stream",
     "text": [
      "Removed bugs with not in official releases:2565\n"
     ]
    }
   ],
   "source": [
    "bef = len(df.id.unique())\n",
    "df = df[~df['release'].isin(to_exclude)]\n",
    "after = len(df.id.unique())\n",
    "print('Removed bugs with not in official releases:'+str(bef-after))"
   ]
  },
  {
   "cell_type": "code",
   "execution_count": 24,
   "metadata": {},
   "outputs": [
    {
     "name": "stdout",
     "output_type": "stream",
     "text": [
      "Final dataset size:138445\n"
     ]
    }
   ],
   "source": [
    "print('Final dataset size:'+str(len(df.id.unique())))"
   ]
  },
  {
   "cell_type": "code",
   "execution_count": 25,
   "metadata": {
    "scrolled": true
   },
   "outputs": [],
   "source": [
    "#export the file to the processing data folder\n",
    "df.to_csv(bugs_info_file,index=False,compression='zip')"
   ]
  }
 ],
 "metadata": {
  "kernelspec": {
   "display_name": "Python 3",
   "language": "python",
   "name": "python3"
  },
  "language_info": {
   "codemirror_mode": {
    "name": "ipython",
    "version": 3
   },
   "file_extension": ".py",
   "mimetype": "text/x-python",
   "name": "python",
   "nbconvert_exporter": "python",
   "pygments_lexer": "ipython3",
   "version": "3.7.1"
  }
 },
 "nbformat": 4,
 "nbformat_minor": 2
}
