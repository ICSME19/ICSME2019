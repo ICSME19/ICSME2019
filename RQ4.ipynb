{
 "cells": [
  {
   "cell_type": "code",
   "execution_count": 31,
   "metadata": {},
   "outputs": [],
   "source": [
    "import pandas as pd\n",
    "import matplotlib.pyplot as plt\n",
    "import seaborn as sns\n",
    "import numpy as np\n",
    "from scipy.stats import norm\n",
    "from sklearn.preprocessing import StandardScaler\n",
    "from scipy import stats\n",
    "import warnings\n",
    "import re, datetime\n",
    "from lifelines import KaplanMeierFitter\n",
    "from datetime import date, timedelta"
   ]
  },
  {
   "cell_type": "code",
   "execution_count": 32,
   "metadata": {},
   "outputs": [],
   "source": [
    "dict1={\n",
    "\"4.3\" : \"26-6-2013 20:00:00\" ,\n",
    "\"4.4\" :  \"25-6-2014 12:15:00\" ,\n",
    "\"4.5\" : \"24-6-2015 20:00:00\" ,\n",
    "\"4.6\" :\"22-6-2016 11:00:00\",\n",
    "\"4.7\" :  \"28-6-2017 09:50:00\",\n",
    "\n",
    "\n",
    "\n",
    "\n",
    "}"
   ]
  },
  {
   "cell_type": "code",
   "execution_count": null,
   "metadata": {},
   "outputs": [],
   "source": [
    "arr=[\n",
    "\"4.4\" ,\n",
    "\"4.5\" ,\n",
    "\"4.6\"  ,\n",
    "\"4.7\",\n",
    "\"4.8\" \n",
    "]"
   ]
  },
  {
   "cell_type": "code",
   "execution_count": 33,
   "metadata": {},
   "outputs": [],
   "source": [
    "def keepVal(activity):\n",
    "    if activity=='NEW'or activity=='Assignee':\n",
    "        return 1\n",
    "    return 0"
   ]
  },
  {
   "cell_type": "code",
   "execution_count": 34,
   "metadata": {},
   "outputs": [],
   "source": [
    "dX=pd.read_csv('db\\\\EC2.csv')\n"
   ]
  },
  {
   "cell_type": "code",
   "execution_count": 35,
   "metadata": {},
   "outputs": [],
   "source": [
    "#read the CSV file\n",
    "df=pd.read_csv('db\\\\EC2.csv')\n",
    "\n",
    "df['creation_ts']=pd.to_datetime(df['creation_ts'])"
   ]
  },
  {
   "cell_type": "code",
   "execution_count": 36,
   "metadata": {},
   "outputs": [],
   "source": [
    "df = df[df['creation_ts']>='01-01-2013 00:00:00']"
   ]
  },
  {
   "cell_type": "code",
   "execution_count": 37,
   "metadata": {},
   "outputs": [],
   "source": [
    "allD=df"
   ]
  },
  {
   "cell_type": "code",
   "execution_count": 38,
   "metadata": {},
   "outputs": [
    {
     "data": {
      "text/plain": [
       "20803"
      ]
     },
     "execution_count": 38,
     "metadata": {},
     "output_type": "execute_result"
    }
   ],
   "source": [
    "len(df.bug_id.unique())"
   ]
  },
  {
   "cell_type": "code",
   "execution_count": 39,
   "metadata": {},
   "outputs": [],
   "source": [
    "df['keep']=df.apply(lambda x : keepVal(x['activity']), axis=1)\n",
    "df = df[df['keep']==1]\n",
    "df = df[['When', 'Who', 'activity', 'bug_id', 'bug_severity', 'bug_status',\n",
    "       'creation_ts', 'resolution', 'version']]"
   ]
  },
  {
   "cell_type": "code",
   "execution_count": 40,
   "metadata": {},
   "outputs": [],
   "source": [
    "df1=df\n",
    "df2=df"
   ]
  },
  {
   "cell_type": "code",
   "execution_count": 41,
   "metadata": {},
   "outputs": [],
   "source": [
    "df2=df2.groupby(by='bug_id', as_index=False).agg({'activity': pd.Series.nunique})\n",
    "df2 = df2[df2['activity']!=2]"
   ]
  },
  {
   "cell_type": "code",
   "execution_count": 42,
   "metadata": {},
   "outputs": [],
   "source": [
    "dfList = df2['bug_id'].tolist()"
   ]
  },
  {
   "cell_type": "code",
   "execution_count": 43,
   "metadata": {},
   "outputs": [],
   "source": [
    "gap =allD[~allD.bug_id.isin(dfList)]"
   ]
  },
  {
   "cell_type": "code",
   "execution_count": 44,
   "metadata": {},
   "outputs": [],
   "source": [
    "df=gap"
   ]
  },
  {
   "cell_type": "code",
   "execution_count": 45,
   "metadata": {},
   "outputs": [
    {
     "name": "stderr",
     "output_type": "stream",
     "text": [
      "C:\\Users\\zeinab\\Anaconda3\\lib\\site-packages\\ipykernel_launcher.py:1: SettingWithCopyWarning: \n",
      "A value is trying to be set on a copy of a slice from a DataFrame.\n",
      "Try using .loc[row_indexer,col_indexer] = value instead\n",
      "\n",
      "See the caveats in the documentation: http://pandas.pydata.org/pandas-docs/stable/indexing.html#indexing-view-versus-copy\n",
      "  \"\"\"Entry point for launching an IPython kernel.\n",
      "C:\\Users\\zeinab\\Anaconda3\\lib\\site-packages\\ipykernel_launcher.py:2: SettingWithCopyWarning: \n",
      "A value is trying to be set on a copy of a slice from a DataFrame.\n",
      "Try using .loc[row_indexer,col_indexer] = value instead\n",
      "\n",
      "See the caveats in the documentation: http://pandas.pydata.org/pandas-docs/stable/indexing.html#indexing-view-versus-copy\n",
      "  \n"
     ]
    }
   ],
   "source": [
    "df['When']=pd.to_datetime(df['When'])\n",
    "df['creation_ts']=pd.to_datetime(df['creation_ts'])"
   ]
  },
  {
   "cell_type": "code",
   "execution_count": 46,
   "metadata": {},
   "outputs": [
    {
     "name": "stdout",
     "output_type": "stream",
     "text": [
      "26-6-2013 20:00:00\n",
      "st 2013-06-26 20:00:00\n",
      "25-6-2014 12:15:00\n",
      "st 2014-06-25 12:15:00\n",
      "24-6-2015 20:00:00\n",
      "st 2015-06-24 20:00:00\n",
      "22-6-2016 11:00:00\n",
      "st 2016-06-22 11:00:00\n",
      "28-6-2017 09:50:00\n",
      "st 2017-06-28 09:50:00\n"
     ]
    }
   ],
   "source": [
    "xData=pd.DataFrame()\n",
    "id_before_release=0\n",
    "id_after_release=0\n",
    "id_RBRB=0\n",
    "id_RBFB=0\n",
    "id_RBRA=0\n",
    "id_RBFA=0\n",
    "id_RARA=0\n",
    "id_RAFA=0\n",
    "for x in dict1:\n",
    "    data=pd.DataFrame()\n",
    "    \n",
    "    start_date = dict1[x]\n",
    "    print(start_date)\n",
    "    date_time_obj = datetime.datetime.strptime(start_date, '%d-%m-%Y %H:%M:%S')\n",
    "    print('st',date_time_obj)\n",
    "    k=date_time_obj + timedelta(60)\n",
    "    version= x\n",
    "   # print(x,dict[x])\n",
    "    #mask = (df['creation_ts'] > start_date) & (df['creation_ts'] <= end_date) & ((\"4.4.1\"==df['version'])  | (\"4.4\"==df['version']))\n",
    "    #mask = (df['creation_ts'] > start_date) & (df['creation_ts'] <= end_date) & (\"4.4\"==df['version'])\n",
    "    mask= (version==df['version'])  \n",
    "    #the bug before release \n",
    "   # maskp = (version==df['version'])  & (df['creation_ts'] < start_date)\n",
    "    #the bug after release \n",
    "    maskp = (version==df['version'])  & (df['creation_ts'] >= start_date)  & (df['creation_ts'] <= k)\n",
    "    \n",
    "    maskpp = (version!=df['version'])  & (df['creation_ts'] >= start_date)  & (df['creation_ts'] <= k)\n",
    "\n",
    "\n",
    "    #the bug created and resolved & before release \n",
    "    mask1 = (df['When'] < start_date) & (df['creation_ts'] <= start_date) & (version==df['version']) & (\"RESOLVED\"==df['activity']) \n",
    "    #the bug created and fixed before release \n",
    "    mask2 = (df['When'] < start_date) & (df['creation_ts'] <= start_date) & (version==df['version']) & (\"RESOLVED\"==df['activity'])  & (\"FIXED\"==df['resolution'])\n",
    "\n",
    "    #the bug created before release and resolved  after release \n",
    "    mask3 = (df['When'] > start_date) & (df['creation_ts'] <= start_date) & (version==df['version']) & (\"RESOLVED\"==df['activity'])\n",
    "    #the bug created before release and fixed after release \n",
    "    mask4 = (df['When'] > start_date) & (df['creation_ts'] <= start_date) & (version==df['version']) & (\"RESOLVED\"==df['activity']) & (\"FIXED\"==df['resolution']) \n",
    "    #the bug created after release  and resolved\n",
    "    mask5 = (df['creation_ts'] >= start_date) & (version==df['version']) & (\"RESOLVED\"==df['activity']) \n",
    "    #the bug created after release  and fixed \n",
    "    mask6 = (df['creation_ts'] >= start_date) & (version==df['version']) & (\"RESOLVED\"==df['activity']) & (\"FIXED\"==df['resolution'])\n",
    "\n",
    "\n",
    "    dff = df.loc[mask]\n",
    "    dffp = df.loc[maskp]\n",
    "    dffpp = df.loc[maskpp]\n",
    "    dff1 = df.loc[mask1]\n",
    "    dff2 = df.loc[mask2]\n",
    "    dff3 = df.loc[mask3]\n",
    "    dff4 = df.loc[mask4]\n",
    "    dff5 = df.loc[mask5]\n",
    "    dff6 = df.loc[mask6]\n",
    "    id_RF=dffp.bug_id.unique()\n",
    "    id_RS=dffpp.bug_id.unique()\n",
    "\n",
    "    \n",
    "    TOTAL=len(dff.bug_id.unique())\n",
    "    data=pd.DataFrame({\"version\": [version] , \"total\":[ TOTAL] , 'id_RV':[id_RF]\n",
    "   , 'id_RDV':[id_RS]\n",
    "  \n",
    "            \n",
    "   })\n",
    "    \n",
    "\n",
    "    xData=xData.append(data)"
   ]
  },
  {
   "cell_type": "code",
   "execution_count": 47,
   "metadata": {},
   "outputs": [
    {
     "data": {
      "text/html": [
       "<div>\n",
       "<style scoped>\n",
       "    .dataframe tbody tr th:only-of-type {\n",
       "        vertical-align: middle;\n",
       "    }\n",
       "\n",
       "    .dataframe tbody tr th {\n",
       "        vertical-align: top;\n",
       "    }\n",
       "\n",
       "    .dataframe thead th {\n",
       "        text-align: right;\n",
       "    }\n",
       "</style>\n",
       "<table border=\"1\" class=\"dataframe\">\n",
       "  <thead>\n",
       "    <tr style=\"text-align: right;\">\n",
       "      <th></th>\n",
       "      <th>id_RDV</th>\n",
       "      <th>id_RV</th>\n",
       "      <th>total</th>\n",
       "      <th>version</th>\n",
       "    </tr>\n",
       "  </thead>\n",
       "  <tbody>\n",
       "    <tr>\n",
       "      <th>0</th>\n",
       "      <td>[413906, 415268, 413492, 415023, 414122, 41544...</td>\n",
       "      <td>[412809, 413493, 414108, 412154, 413213, 41413...</td>\n",
       "      <td>1841</td>\n",
       "      <td>4.3</td>\n",
       "    </tr>\n",
       "    <tr>\n",
       "      <th>0</th>\n",
       "      <td>[441990, 441507, 442152, 441697, 441217, 44142...</td>\n",
       "      <td>[440763, 439027, 442285, 441821, 440300, 44001...</td>\n",
       "      <td>3133</td>\n",
       "      <td>4.4</td>\n",
       "    </tr>\n",
       "    <tr>\n",
       "      <th>0</th>\n",
       "      <td>[473986, 474943, 473432, 473850, 473921, 47352...</td>\n",
       "      <td>[473503, 474002, 471352, 472426, 472413, 47120...</td>\n",
       "      <td>1863</td>\n",
       "      <td>4.5</td>\n",
       "    </tr>\n",
       "    <tr>\n",
       "      <th>0</th>\n",
       "      <td>[496868, 496969, 496970, 497013, 496756, 49678...</td>\n",
       "      <td>[496686, 496661, 496769, 496813, 496886, 49686...</td>\n",
       "      <td>2235</td>\n",
       "      <td>4.6</td>\n",
       "    </tr>\n",
       "    <tr>\n",
       "      <th>0</th>\n",
       "      <td>[518956, 518895, 518985, 519055, 519365, 51915...</td>\n",
       "      <td>[519026, 519032, 519056, 518905, 519152, 51923...</td>\n",
       "      <td>2263</td>\n",
       "      <td>4.7</td>\n",
       "    </tr>\n",
       "  </tbody>\n",
       "</table>\n",
       "</div>"
      ],
      "text/plain": [
       "                                              id_RDV  \\\n",
       "0  [413906, 415268, 413492, 415023, 414122, 41544...   \n",
       "0  [441990, 441507, 442152, 441697, 441217, 44142...   \n",
       "0  [473986, 474943, 473432, 473850, 473921, 47352...   \n",
       "0  [496868, 496969, 496970, 497013, 496756, 49678...   \n",
       "0  [518956, 518895, 518985, 519055, 519365, 51915...   \n",
       "\n",
       "                                               id_RV  total version  \n",
       "0  [412809, 413493, 414108, 412154, 413213, 41413...   1841     4.3  \n",
       "0  [440763, 439027, 442285, 441821, 440300, 44001...   3133     4.4  \n",
       "0  [473503, 474002, 471352, 472426, 472413, 47120...   1863     4.5  \n",
       "0  [496686, 496661, 496769, 496813, 496886, 49686...   2235     4.6  \n",
       "0  [519026, 519032, 519056, 518905, 519152, 51923...   2263     4.7  "
      ]
     },
     "execution_count": 47,
     "metadata": {},
     "output_type": "execute_result"
    }
   ],
   "source": [
    "xData"
   ]
  },
  {
   "cell_type": "code",
   "execution_count": 48,
   "metadata": {},
   "outputs": [
    {
     "name": "stderr",
     "output_type": "stream",
     "text": [
      "C:\\Users\\zeinab\\Anaconda3\\lib\\site-packages\\ipykernel_launcher.py:5: SettingWithCopyWarning: \n",
      "A value is trying to be set on a copy of a slice from a DataFrame.\n",
      "Try using .loc[row_indexer,col_indexer] = value instead\n",
      "\n",
      "See the caveats in the documentation: http://pandas.pydata.org/pandas-docs/stable/indexing.html#indexing-view-versus-copy\n",
      "  \"\"\"\n",
      "C:\\Users\\zeinab\\Anaconda3\\lib\\site-packages\\ipykernel_launcher.py:24: SettingWithCopyWarning: \n",
      "A value is trying to be set on a copy of a slice from a DataFrame.\n",
      "Try using .loc[row_indexer,col_indexer] = value instead\n",
      "\n",
      "See the caveats in the documentation: http://pandas.pydata.org/pandas-docs/stable/indexing.html#indexing-view-versus-copy\n"
     ]
    }
   ],
   "source": [
    "for index, row in xData.iterrows():\n",
    "    df3=df[df.bug_id.isin(row['id_RV'])]\n",
    "   # print(len(row['id_RAFA']))\n",
    "    version=row['version']\n",
    "    df3['keep']=df3.apply(lambda x : keepVal(x['activity']), axis=1)\n",
    "    df3 = df3[df3['keep']==1]\n",
    "    df3 = df3[['When', 'activity', 'bug_id']]\n",
    "\n",
    "    df3['When']=pd.to_datetime(df3['When'])\n",
    "    #print (df3.groupby('bug_id').groups)\n",
    "    df3=df3.groupby(['bug_id','activity'])['When'].min().reset_index()\n",
    "    df3['diff'] = df3.groupby('bug_id')['When'].transform(lambda x: (x.max()-x.min()).days)\n",
    "    df3=df3.groupby('bug_id').first().reset_index()\n",
    "    df3= df3[['bug_id',\n",
    "     'When',\n",
    "     'diff']]\n",
    "    df3['done'] = True\n",
    "    df3.to_csv('db\\\\aEclipse-RV_'+str(version)+'.csv',index=False)\n",
    "    \n",
    "    \n",
    "    \n",
    "    df4=df[df.bug_id.isin(row['id_RDV'])]\n",
    "   # print(len(row['id_RAFA']))\n",
    "    df4['keep']=df4.apply(lambda x : keepVal(x['activity']), axis=1)\n",
    "    df4 = df4[df4['keep']==1]\n",
    "    df4 = df4[['When', 'activity', 'bug_id']]\n",
    "\n",
    "    df4['When']=pd.to_datetime(df4['When'])\n",
    "    #print (df3.groupby('bug_id').groups)\n",
    "    df4=df4.groupby(['bug_id','activity'])['When'].min().reset_index()\n",
    "    df4['diff'] = df4.groupby('bug_id')['When'].transform(lambda x: (x.max()-x.min()).days)\n",
    "    df4=df4.groupby('bug_id').first().reset_index()\n",
    "    df4= df4[['bug_id',\n",
    "     'When',\n",
    "     'diff']]\n",
    "    df4['done'] = False\n",
    "    df4.to_csv('db\\\\aEclipse-RDV_'+str(version)+'.csv',index=False)\n",
    "    \n",
    "   # print (row['id_RAFA'], row['id_RARA'])\n",
    "    #break\n",
    "\n",
    "#fg=tData[0]"
   ]
  },
  {
   "cell_type": "code",
   "execution_count": 49,
   "metadata": {},
   "outputs": [],
   "source": [
    "kmf = KaplanMeierFitter()\n",
    "\n",
    "draft1 = pd.read_csv('db\\\\aEclipse-RV_4.3.csv')\n",
    "draft2 = pd.read_csv('db\\\\aEclipse-RDV_4.3.csv')\n",
    "data1=['4.3',draft1,draft2]\n",
    "draft3 = pd.read_csv('db\\\\aEclipse-RV_4.4.csv')\n",
    "draft4 = pd.read_csv('db\\\\aEclipse-RDV_4.4.csv')\n",
    "data2=['4.4',draft3,draft4]\n",
    "draft5 = pd.read_csv('db\\\\aEclipse-RV_4.5.csv')\n",
    "draft6 = pd.read_csv('db\\\\aEclipse-RDV_4.5.csv')\n",
    "data3=['4.5',draft5,draft6]\n",
    "draft7 = pd.read_csv('db\\\\aEclipse-RV_4.6.csv')\n",
    "draft8 = pd.read_csv('db\\\\aEclipse-RDV_4.6.csv')\n",
    "data4=['4.6',draft7,draft8]\n",
    "draft9 = pd.read_csv('db\\\\aEclipse-RV_4.7.csv')\n",
    "draft10 = pd.read_csv('db\\\\aEclipse-RDV_4.7.csv')\n",
    "data5=['4.7',draft9,draft10]\n",
    "allf=[data1,data2,data3,data4,data5]\n"
   ]
  },
  {
   "cell_type": "code",
   "execution_count": 55,
   "metadata": {},
   "outputs": [
    {
     "name": "stdout",
     "output_type": "stream",
     "text": [
      "4.3\n",
      "4.4\n",
      "4.5\n",
      "4.6\n",
      "4.7\n"
     ]
    }
   ],
   "source": [
    "time=['RV','RDV']\n",
    "pData=pd.DataFrame()\n",
    "T=list()\n",
    "E=list()\n",
    "results=[None] * 5\n",
    "parameter=[None] * 5\n",
    "for i,file in enumerate(allf):\n",
    "    k=0\n",
    "    T=list()\n",
    "    E=list()\n",
    "    for j,dat in enumerate(file):\n",
    "        if j==0:\n",
    "            version=dat\n",
    "        else:\n",
    "            T.extend(dat[\"diff\"])\n",
    "            E.extend( dat[\"done\"])\n",
    "            k=k+1\n",
    "           # print(len(T))\n",
    "        \n",
    "    results[i]=T\n",
    "    parameter[i]=E\n",
    "    #print(i,len(T))\n",
    "    #print(results[i])\n",
    "  \n",
    "   # break\n",
    "    print(version)\n",
    "  "
   ]
  },
  {
   "cell_type": "code",
   "execution_count": 67,
   "metadata": {},
   "outputs": [
    {
     "name": "stdout",
     "output_type": "stream",
     "text": [
      "Spearmans correlation coefficient: 0.005\n",
      "Samples are uncorrelated (fail to reject H0) p=0.900\n",
      "Spearmans correlation coefficient: -0.026\n",
      "Samples are uncorrelated (fail to reject H0) p=0.541\n",
      "Spearmans correlation coefficient: -0.022\n",
      "Samples are uncorrelated (fail to reject H0) p=0.751\n",
      "Spearmans correlation coefficient: -0.007\n",
      "Samples are uncorrelated (fail to reject H0) p=0.874\n"
     ]
    }
   ],
   "source": [
    "from scipy.stats import spearmanr, kendalltau, pearsonr\n",
    "for i in range(4):\n",
    "    coef, p = spearmanr(results[i], parameter[i])\n",
    "    print('Spearmans correlation coefficient: %.3f' % coef)\n",
    "# interpret the significance\n",
    "    alpha = 0.05\n",
    "    if p > alpha:\n",
    "         print('Samples are uncorrelated (fail to reject H0) p=%.3f' % p)\n",
    "    else:\n",
    "         print('Samples are correlated (reject H0) p=%.3f' % p)\n",
    "   #result = [106, 86, 100, 101, 99, 103, 97, 113, 112, 110]\n",
    "\n",
    "#parameter = [False, False, True, False, False, False, True, False, True, False]\n",
    "\n"
   ]
  },
  {
   "cell_type": "code",
   "execution_count": 71,
   "metadata": {},
   "outputs": [
    {
     "name": "stdout",
     "output_type": "stream",
     "text": [
      "Spearmans correlation coefficient: -0.798\n",
      "Samples are correlated (reject H0) p=0.006\n"
     ]
    },
    {
     "name": "stderr",
     "output_type": "stream",
     "text": [
      "C:\\Users\\zeinab\\Anaconda3\\lib\\site-packages\\scipy\\stats\\stats.py:245: RuntimeWarning: The input array could not be properly checked for nan values. nan values will be ignored.\n",
      "  \"values. nan values will be ignored.\", RuntimeWarning)\n"
     ]
    }
   ],
   "source": [
    "from scipy.stats import spearmanr, kendalltau, pearsonr\n",
    "\n",
    "\n",
    "result = [106, 86, 100, 101, 99, 103, 97, 113, 112, 110]\n",
    "\n",
    "parameter1 = ['A', 'B', 'A', 'A', 'B', 'A', 'B', 'A', 'A', 'A']\n",
    "\n",
    "coef, p = spearmanr(result, parameter1)\n",
    "print('Spearmans correlation coefficient: %.3f' % coef)\n",
    "# interpret the significance\n",
    "alpha = 0.05\n",
    "if p > alpha:\n",
    "    print('Samples are uncorrelated (fail to reject H0) p=%.3f' % p)\n",
    "else:\n",
    "    print('Samples are correlated (reject H0) p=%.3f' % p)"
   ]
  },
  {
   "cell_type": "code",
   "execution_count": 70,
   "metadata": {},
   "outputs": [
    {
     "name": "stdout",
     "output_type": "stream",
     "text": [
      "Spearmans correlation coefficient: 0.900\n",
      "Samples are correlated (reject H0) p=0.000\n"
     ]
    }
   ],
   "source": [
    "from numpy.random import rand\n",
    "from numpy.random import seed\n",
    "from scipy.stats import spearmanr\n",
    "# seed random number generator\n",
    "seed(1)\n",
    "# prepare data\n",
    "data1 = rand(1000) * 20\n",
    "data2 = data1 + (rand(1000) * 10)\n",
    "# calculate spearman's correlation\n",
    "coef, p = spearmanr(data1, data2)\n",
    "print('Spearmans correlation coefficient: %.3f' % coef)\n",
    "# interpret the significance\n",
    "alpha = 0.05\n",
    "if p > alpha:\n",
    "\tprint('Samples are uncorrelated (fail to reject H0) p=%.3f' % p)\n",
    "else:\n",
    "\tprint('Samples are correlated (reject H0) p=%.3f' % p)"
   ]
  },
  {
   "cell_type": "code",
   "execution_count": null,
   "metadata": {},
   "outputs": [],
   "source": []
  },
  {
   "cell_type": "code",
   "execution_count": null,
   "metadata": {},
   "outputs": [],
   "source": []
  }
 ],
 "metadata": {
  "kernelspec": {
   "display_name": "Python 3",
   "language": "python",
   "name": "python3"
  },
  "language_info": {
   "codemirror_mode": {
    "name": "ipython",
    "version": 3
   },
   "file_extension": ".py",
   "mimetype": "text/x-python",
   "name": "python",
   "nbconvert_exporter": "python",
   "pygments_lexer": "ipython3",
   "version": "3.6.8"
  }
 },
 "nbformat": 4,
 "nbformat_minor": 2
}
