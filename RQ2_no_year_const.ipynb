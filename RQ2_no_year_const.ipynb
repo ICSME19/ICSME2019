{
 "cells": [
  {
   "cell_type": "code",
   "execution_count": null,
   "metadata": {},
   "outputs": [],
   "source": [
    "#the statistics of the eclipse data"
   ]
  },
  {
   "cell_type": "code",
   "execution_count": 1,
   "metadata": {},
   "outputs": [],
   "source": [
    "import pandas as pd\n",
    "import os\n",
    "import json\n",
    "import csv\n",
    "import re, datetime\n",
    "import matplotlib.pyplot as plt\n",
    "import seaborn as sns\n",
    "from datetime import date, timedelta\n",
    "from lifelines.statistics import logrank_test\n",
    "from lifelines import KaplanMeierFitter\n",
    "import ast\n",
    "\n",
    "from global_functions import *"
   ]
  },
  {
   "cell_type": "code",
   "execution_count": 2,
   "metadata": {},
   "outputs": [],
   "source": [
    "release_creation_ts_all = get_release_dates()"
   ]
  },
  {
   "cell_type": "code",
   "execution_count": 3,
   "metadata": {},
   "outputs": [
    {
     "data": {
      "text/html": [
       "<div>\n",
       "<style scoped>\n",
       "    .dataframe tbody tr th:only-of-type {\n",
       "        vertical-align: middle;\n",
       "    }\n",
       "\n",
       "    .dataframe tbody tr th {\n",
       "        vertical-align: top;\n",
       "    }\n",
       "\n",
       "    .dataframe thead th {\n",
       "        text-align: right;\n",
       "    }\n",
       "</style>\n",
       "<table border=\"1\" class=\"dataframe\">\n",
       "  <thead>\n",
       "    <tr style=\"text-align: right;\">\n",
       "      <th></th>\n",
       "      <th>id</th>\n",
       "      <th>release</th>\n",
       "      <th>Product</th>\n",
       "      <th>creation_time</th>\n",
       "      <th>version</th>\n",
       "      <th>resolution</th>\n",
       "      <th>is_assigned</th>\n",
       "      <th>is_resolved</th>\n",
       "      <th>is_fixed</th>\n",
       "      <th>first_assignment_date</th>\n",
       "      <th>...</th>\n",
       "      <th>last_resolved_date</th>\n",
       "      <th>first_fixed_date</th>\n",
       "      <th>last_fixed_date</th>\n",
       "      <th>time_assign_diff</th>\n",
       "      <th>time_resolve_diff</th>\n",
       "      <th>time_fix_diff</th>\n",
       "      <th>min_release</th>\n",
       "      <th>max_release</th>\n",
       "      <th>min_release_before_version_field</th>\n",
       "      <th>min_release_after_version_field</th>\n",
       "    </tr>\n",
       "  </thead>\n",
       "  <tbody>\n",
       "    <tr>\n",
       "      <th>0</th>\n",
       "      <td>475361</td>\n",
       "      <td>4.5</td>\n",
       "      <td>Platform</td>\n",
       "      <td>2015-08-19 10:50:25</td>\n",
       "      <td>4.5</td>\n",
       "      <td>FIXED</td>\n",
       "      <td>0</td>\n",
       "      <td>1</td>\n",
       "      <td>1</td>\n",
       "      <td>NaT</td>\n",
       "      <td>...</td>\n",
       "      <td>2015-08-19 11:53:03</td>\n",
       "      <td>2015-08-19 11:53:03</td>\n",
       "      <td>2015-08-19 11:53:03</td>\n",
       "      <td></td>\n",
       "      <td>0</td>\n",
       "      <td>0</td>\n",
       "      <td>4.5</td>\n",
       "      <td>4.5</td>\n",
       "      <td>False</td>\n",
       "      <td>False</td>\n",
       "    </tr>\n",
       "    <tr>\n",
       "      <th>1</th>\n",
       "      <td>475365</td>\n",
       "      <td>4.6</td>\n",
       "      <td>Platform</td>\n",
       "      <td>2015-08-19 11:34:37</td>\n",
       "      <td>4.6</td>\n",
       "      <td>FIXED</td>\n",
       "      <td>0</td>\n",
       "      <td>1</td>\n",
       "      <td>1</td>\n",
       "      <td>NaT</td>\n",
       "      <td>...</td>\n",
       "      <td>2015-08-26 14:29:30</td>\n",
       "      <td>2015-08-26 14:29:30</td>\n",
       "      <td>2015-08-26 14:29:30</td>\n",
       "      <td></td>\n",
       "      <td>0</td>\n",
       "      <td>0</td>\n",
       "      <td>4.6</td>\n",
       "      <td>4.6</td>\n",
       "      <td>False</td>\n",
       "      <td>False</td>\n",
       "    </tr>\n",
       "  </tbody>\n",
       "</table>\n",
       "<p>2 rows × 22 columns</p>\n",
       "</div>"
      ],
      "text/plain": [
       "       id release   Product       creation_time version resolution  \\\n",
       "0  475361     4.5  Platform 2015-08-19 10:50:25     4.5      FIXED   \n",
       "1  475365     4.6  Platform 2015-08-19 11:34:37     4.6      FIXED   \n",
       "\n",
       "   is_assigned  is_resolved  is_fixed first_assignment_date  \\\n",
       "0            0            1         1                   NaT   \n",
       "1            0            1         1                   NaT   \n",
       "\n",
       "                ...                 last_resolved_date    first_fixed_date  \\\n",
       "0               ...                2015-08-19 11:53:03 2015-08-19 11:53:03   \n",
       "1               ...                2015-08-26 14:29:30 2015-08-26 14:29:30   \n",
       "\n",
       "      last_fixed_date time_assign_diff time_resolve_diff time_fix_diff  \\\n",
       "0 2015-08-19 11:53:03                                  0             0   \n",
       "1 2015-08-26 14:29:30                                  0             0   \n",
       "\n",
       "  min_release max_release  min_release_before_version_field  \\\n",
       "0         4.5         4.5                             False   \n",
       "1         4.6         4.6                             False   \n",
       "\n",
       "   min_release_after_version_field  \n",
       "0                            False  \n",
       "1                            False  \n",
       "\n",
       "[2 rows x 22 columns]"
      ]
     },
     "execution_count": 3,
     "metadata": {},
     "output_type": "execute_result"
    }
   ],
   "source": [
    "#Load data\n",
    "df = pd.read_csv('.'+os.sep+'data'+os.sep+'bugs_info.csv',index_col=False,dtype={'version':str,'release':str})\n",
    "df = df.fillna('')\n",
    "df = trans_to_datetime(df,['creation_time','first_assignment_date','last_assignment_date',\n",
    "                          'first_resolved_date','last_resolved_date',\n",
    "                           'first_fixed_date','last_fixed_date'])\n",
    "df.head(n=2)"
   ]
  },
  {
   "cell_type": "code",
   "execution_count": 4,
   "metadata": {},
   "outputs": [],
   "source": [
    "yearly_file = '.'+os.sep+'data'+os.sep+'bugs_info.csv'\n",
    "df_yearly = pd.read_csv(yearly_file,index_col=False,dtype={'version':str,'release':str})"
   ]
  },
  {
   "cell_type": "code",
   "execution_count": 5,
   "metadata": {},
   "outputs": [
    {
     "data": {
      "text/html": [
       "<div>\n",
       "<style scoped>\n",
       "    .dataframe tbody tr th:only-of-type {\n",
       "        vertical-align: middle;\n",
       "    }\n",
       "\n",
       "    .dataframe tbody tr th {\n",
       "        vertical-align: top;\n",
       "    }\n",
       "\n",
       "    .dataframe thead th {\n",
       "        text-align: right;\n",
       "    }\n",
       "</style>\n",
       "<table border=\"1\" class=\"dataframe\">\n",
       "  <thead>\n",
       "    <tr style=\"text-align: right;\">\n",
       "      <th></th>\n",
       "      <th>id</th>\n",
       "      <th>release</th>\n",
       "      <th>Product</th>\n",
       "      <th>creation_time</th>\n",
       "      <th>version</th>\n",
       "      <th>resolution</th>\n",
       "      <th>is_assigned</th>\n",
       "      <th>is_resolved</th>\n",
       "      <th>is_fixed</th>\n",
       "      <th>first_assignment_date</th>\n",
       "      <th>...</th>\n",
       "      <th>last_resolved_date</th>\n",
       "      <th>first_fixed_date</th>\n",
       "      <th>last_fixed_date</th>\n",
       "      <th>time_assign_diff</th>\n",
       "      <th>time_resolve_diff</th>\n",
       "      <th>time_fix_diff</th>\n",
       "      <th>min_release</th>\n",
       "      <th>max_release</th>\n",
       "      <th>min_release_before_version_field</th>\n",
       "      <th>min_release_after_version_field</th>\n",
       "    </tr>\n",
       "  </thead>\n",
       "  <tbody>\n",
       "    <tr>\n",
       "      <th>0</th>\n",
       "      <td>475361</td>\n",
       "      <td>4.5</td>\n",
       "      <td>Platform</td>\n",
       "      <td>2015-08-19 10:50:25</td>\n",
       "      <td>4.5</td>\n",
       "      <td>FIXED</td>\n",
       "      <td>0</td>\n",
       "      <td>1</td>\n",
       "      <td>1</td>\n",
       "      <td>NaN</td>\n",
       "      <td>...</td>\n",
       "      <td>2015-08-19 11:53:03</td>\n",
       "      <td>2015-08-19 11:53:03</td>\n",
       "      <td>2015-08-19 11:53:03</td>\n",
       "      <td>NaN</td>\n",
       "      <td>0.0</td>\n",
       "      <td>0.0</td>\n",
       "      <td>4.5</td>\n",
       "      <td>4.5</td>\n",
       "      <td>False</td>\n",
       "      <td>False</td>\n",
       "    </tr>\n",
       "    <tr>\n",
       "      <th>1</th>\n",
       "      <td>475365</td>\n",
       "      <td>4.6</td>\n",
       "      <td>Platform</td>\n",
       "      <td>2015-08-19 11:34:37</td>\n",
       "      <td>4.6</td>\n",
       "      <td>FIXED</td>\n",
       "      <td>0</td>\n",
       "      <td>1</td>\n",
       "      <td>1</td>\n",
       "      <td>NaN</td>\n",
       "      <td>...</td>\n",
       "      <td>2015-08-26 14:29:30</td>\n",
       "      <td>2015-08-26 14:29:30</td>\n",
       "      <td>2015-08-26 14:29:30</td>\n",
       "      <td>NaN</td>\n",
       "      <td>0.0</td>\n",
       "      <td>0.0</td>\n",
       "      <td>4.6</td>\n",
       "      <td>4.6</td>\n",
       "      <td>False</td>\n",
       "      <td>False</td>\n",
       "    </tr>\n",
       "    <tr>\n",
       "      <th>2</th>\n",
       "      <td>475370</td>\n",
       "      <td>4.5</td>\n",
       "      <td>Platform</td>\n",
       "      <td>2015-08-19 12:09:06</td>\n",
       "      <td>4.5</td>\n",
       "      <td>DUPLICATE</td>\n",
       "      <td>0</td>\n",
       "      <td>0</td>\n",
       "      <td>0</td>\n",
       "      <td>NaN</td>\n",
       "      <td>...</td>\n",
       "      <td>NaN</td>\n",
       "      <td>NaN</td>\n",
       "      <td>NaN</td>\n",
       "      <td>NaN</td>\n",
       "      <td>NaN</td>\n",
       "      <td>NaN</td>\n",
       "      <td>4.5</td>\n",
       "      <td>4.5</td>\n",
       "      <td>False</td>\n",
       "      <td>False</td>\n",
       "    </tr>\n",
       "    <tr>\n",
       "      <th>3</th>\n",
       "      <td>475379</td>\n",
       "      <td>4.5</td>\n",
       "      <td>Platform</td>\n",
       "      <td>2015-08-19 13:39:12</td>\n",
       "      <td>4.5</td>\n",
       "      <td>NaN</td>\n",
       "      <td>0</td>\n",
       "      <td>0</td>\n",
       "      <td>0</td>\n",
       "      <td>NaN</td>\n",
       "      <td>...</td>\n",
       "      <td>NaN</td>\n",
       "      <td>NaN</td>\n",
       "      <td>NaN</td>\n",
       "      <td>NaN</td>\n",
       "      <td>NaN</td>\n",
       "      <td>NaN</td>\n",
       "      <td>4.5</td>\n",
       "      <td>4.5</td>\n",
       "      <td>False</td>\n",
       "      <td>False</td>\n",
       "    </tr>\n",
       "    <tr>\n",
       "      <th>4</th>\n",
       "      <td>475407</td>\n",
       "      <td>4.5</td>\n",
       "      <td>Platform</td>\n",
       "      <td>2015-08-19 17:06:10</td>\n",
       "      <td>4.5</td>\n",
       "      <td>FIXED</td>\n",
       "      <td>0</td>\n",
       "      <td>1</td>\n",
       "      <td>1</td>\n",
       "      <td>NaN</td>\n",
       "      <td>...</td>\n",
       "      <td>2015-08-19 17:15:25</td>\n",
       "      <td>2015-08-19 17:15:25</td>\n",
       "      <td>2015-08-19 17:15:25</td>\n",
       "      <td>NaN</td>\n",
       "      <td>0.0</td>\n",
       "      <td>0.0</td>\n",
       "      <td>4.5</td>\n",
       "      <td>4.5</td>\n",
       "      <td>False</td>\n",
       "      <td>False</td>\n",
       "    </tr>\n",
       "  </tbody>\n",
       "</table>\n",
       "<p>5 rows × 22 columns</p>\n",
       "</div>"
      ],
      "text/plain": [
       "       id release   Product        creation_time version resolution  \\\n",
       "0  475361     4.5  Platform  2015-08-19 10:50:25     4.5      FIXED   \n",
       "1  475365     4.6  Platform  2015-08-19 11:34:37     4.6      FIXED   \n",
       "2  475370     4.5  Platform  2015-08-19 12:09:06     4.5  DUPLICATE   \n",
       "3  475379     4.5  Platform  2015-08-19 13:39:12     4.5        NaN   \n",
       "4  475407     4.5  Platform  2015-08-19 17:06:10     4.5      FIXED   \n",
       "\n",
       "   is_assigned  is_resolved  is_fixed first_assignment_date  \\\n",
       "0            0            1         1                   NaN   \n",
       "1            0            1         1                   NaN   \n",
       "2            0            0         0                   NaN   \n",
       "3            0            0         0                   NaN   \n",
       "4            0            1         1                   NaN   \n",
       "\n",
       "                ...                  last_resolved_date     first_fixed_date  \\\n",
       "0               ...                 2015-08-19 11:53:03  2015-08-19 11:53:03   \n",
       "1               ...                 2015-08-26 14:29:30  2015-08-26 14:29:30   \n",
       "2               ...                                 NaN                  NaN   \n",
       "3               ...                                 NaN                  NaN   \n",
       "4               ...                 2015-08-19 17:15:25  2015-08-19 17:15:25   \n",
       "\n",
       "       last_fixed_date time_assign_diff time_resolve_diff  time_fix_diff  \\\n",
       "0  2015-08-19 11:53:03              NaN               0.0            0.0   \n",
       "1  2015-08-26 14:29:30              NaN               0.0            0.0   \n",
       "2                  NaN              NaN               NaN            NaN   \n",
       "3                  NaN              NaN               NaN            NaN   \n",
       "4  2015-08-19 17:15:25              NaN               0.0            0.0   \n",
       "\n",
       "   min_release  max_release  min_release_before_version_field  \\\n",
       "0          4.5          4.5                             False   \n",
       "1          4.6          4.6                             False   \n",
       "2          4.5          4.5                             False   \n",
       "3          4.5          4.5                             False   \n",
       "4          4.5          4.5                             False   \n",
       "\n",
       "   min_release_after_version_field  \n",
       "0                            False  \n",
       "1                            False  \n",
       "2                            False  \n",
       "3                            False  \n",
       "4                            False  \n",
       "\n",
       "[5 rows x 22 columns]"
      ]
     },
     "execution_count": 5,
     "metadata": {},
     "output_type": "execute_result"
    }
   ],
   "source": [
    "df_yearly.head()"
   ]
  },
  {
   "cell_type": "code",
   "execution_count": 6,
   "metadata": {},
   "outputs": [
    {
     "data": {
      "text/plain": [
       "array(['4.5', '4.6', '4.4', '3.7', '4.2', '4.3', '3.6', '4.8', '3.1',\n",
       "       '4.7', '4.10', '3.4', '3.5', '3.3', '3.2', '3.0', '4.9'],\n",
       "      dtype=object)"
      ]
     },
     "execution_count": 6,
     "metadata": {},
     "output_type": "execute_result"
    }
   ],
   "source": [
    "df_yearly.release.unique()"
   ]
  },
  {
   "cell_type": "raw",
   "metadata": {},
   "source": [
    "|----------|-----------|----------|----------|\n",
    "|Metric    | REPORTED  | ASSIGNED | RESOLVED | \n",
    "|----------|-----------|----------|----------|\n",
    "|RBAB      | BEFORE    | BEFORE   | -        |\n",
    "|RBAA      | BEFORE    | AFTER    | -        |\n",
    "|RAAA      | AFTER     | AFTER    | -        |\n",
    "|----------|-----------|----------|----------|\n"
   ]
  },
  {
   "cell_type": "code",
   "execution_count": 7,
   "metadata": {},
   "outputs": [],
   "source": [
    "def get_triaging_statistics_per_release(df_w,assignedFirst,resolvedFirst):\n",
    "    #Calculate traiging time per release\n",
    "    df_ret=pd.DataFrame()\n",
    "    df_w['release'] = df_w['release'].astype(str)\n",
    "    \n",
    "    if assignedFirst:\n",
    "        assingment_column = 'first_assignment_date'\n",
    "    else:\n",
    "        assingment_column = 'last_assignment_date'\n",
    "        \n",
    "        \n",
    "    if resolvedFirst:\n",
    "        resolve_column = 'first_resolved_date'\n",
    "    else:\n",
    "        resolve_column = 'last_resolved_date'\n",
    "        \n",
    "        \n",
    "    for version in df_w.release.unique():\n",
    "        start_date = release_creation_ts_all[version]\n",
    "        start_date = pd.to_datetime(start_date)\n",
    "\n",
    "        #Fetch the bugs of this version\n",
    "        version_bugs = df_w[df_w['release']==version]\n",
    "        version_bugs = trans_to_datetime(version_bugs,\n",
    "                                        ['creation_time','first_assignment_date',\n",
    "       'last_assignment_date', 'first_resolved_date', 'last_resolved_date',\n",
    "       'first_fixed_date', 'last_fixed_date'])\n",
    "\n",
    "        #the bug before release \n",
    "        bugs_before_release = version_bugs[version_bugs['creation_time']<start_date]\n",
    "        \n",
    "        #the bug after release \n",
    "        bugs_after_release = version_bugs[version_bugs['creation_time']>= start_date]\n",
    "        \n",
    "        #the bug created and assigned & before release \n",
    "        bugs_created_assigned_before_release = (\n",
    "            version_bugs[(version_bugs['creation_time'] < start_date) &\n",
    "                        (version_bugs[assingment_column]<start_date)]\n",
    "        )   \n",
    "   \n",
    "\n",
    "        #the bug created before release and assigned  after release \n",
    "        bugs_created_before_assigned_after_release = (\n",
    "            version_bugs[(version_bugs['creation_time'] < start_date) &\n",
    "                        (version_bugs[assingment_column] > start_date)]\n",
    "        )\n",
    "\n",
    "\n",
    "\n",
    "        #the bug created after release  and assigned\n",
    "        bugs_created_after_release_assigned = (\n",
    "            version_bugs[(version_bugs['creation_time'] >= start_date) &\n",
    "                        (version_bugs['is_assigned'] > 0)]\n",
    "        )\n",
    "\n",
    "        before_release = len(bugs_before_release.id.unique())\n",
    "        RBAB= bugs_created_assigned_before_release.id.unique().tolist()\n",
    "        RBAA = bugs_created_assigned_before_release.id.unique().tolist()\n",
    "        after_release = len(bugs_after_release.id.unique())\n",
    "        RAAA = bugs_created_after_release_assigned.id.unique().tolist()\n",
    "        \n",
    "        df_ret=df_ret.append({\"version\": version , \n",
    "                           \"total\": len(version_bugs.id.unique()) ,\n",
    "                           'before_release': before_release, \n",
    "                           'after_release':after_release, \n",
    "                           'RBAB':str(RBAB), \n",
    "                           'RBAA':str(RBAA), \n",
    "                           'RAAA':str(RAAA)\n",
    "                           },ignore_index=True)\n",
    "    return df_ret"
   ]
  },
  {
   "cell_type": "code",
   "execution_count": 8,
   "metadata": {
    "scrolled": true
   },
   "outputs": [
    {
     "data": {
      "text/html": [
       "<div>\n",
       "<style scoped>\n",
       "    .dataframe tbody tr th:only-of-type {\n",
       "        vertical-align: middle;\n",
       "    }\n",
       "\n",
       "    .dataframe tbody tr th {\n",
       "        vertical-align: top;\n",
       "    }\n",
       "\n",
       "    .dataframe thead th {\n",
       "        text-align: right;\n",
       "    }\n",
       "</style>\n",
       "<table border=\"1\" class=\"dataframe\">\n",
       "  <thead>\n",
       "    <tr style=\"text-align: right;\">\n",
       "      <th></th>\n",
       "      <th>version</th>\n",
       "      <th>RAAA</th>\n",
       "      <th>RBAA</th>\n",
       "      <th>RBAB</th>\n",
       "      <th>after_release</th>\n",
       "      <th>before_release</th>\n",
       "      <th>total</th>\n",
       "    </tr>\n",
       "  </thead>\n",
       "  <tbody>\n",
       "    <tr>\n",
       "      <th>0</th>\n",
       "      <td>3.0</td>\n",
       "      <td>[185790, 101046, 101423, 101428, 101447, 10150...</td>\n",
       "      <td>[28440, 29422, 18608, 64617, 64621, 64626, 646...</td>\n",
       "      <td>[28440, 29422, 18608, 64617, 64621, 64626, 646...</td>\n",
       "      <td>6970.0</td>\n",
       "      <td>17967.0</td>\n",
       "      <td>24937.0</td>\n",
       "    </tr>\n",
       "    <tr>\n",
       "      <th>1</th>\n",
       "      <td>3.1</td>\n",
       "      <td>[245789, 246565, 249954, 187986, 101968, 10200...</td>\n",
       "      <td>[100814, 100822, 100825, 100826, 100829, 10088...</td>\n",
       "      <td>[100814, 100822, 100825, 100826, 100829, 10088...</td>\n",
       "      <td>5718.0</td>\n",
       "      <td>12190.0</td>\n",
       "      <td>17908.0</td>\n",
       "    </tr>\n",
       "    <tr>\n",
       "      <th>2</th>\n",
       "      <td>3.2</td>\n",
       "      <td>[244723, 245552, 246887, 248110, 248410, 24856...</td>\n",
       "      <td>[101152, 102024, 103299, 103380, 103710, 10407...</td>\n",
       "      <td>[101152, 102024, 103299, 103380, 103710, 10407...</td>\n",
       "      <td>5354.0</td>\n",
       "      <td>10480.0</td>\n",
       "      <td>15834.0</td>\n",
       "    </tr>\n",
       "    <tr>\n",
       "      <th>3</th>\n",
       "      <td>3.3</td>\n",
       "      <td>[244440, 244476, 244815, 245312, 245575, 24597...</td>\n",
       "      <td>[183607, 183610, 183621, 183640, 183732, 18376...</td>\n",
       "      <td>[183607, 183610, 183621, 183640, 183732, 18376...</td>\n",
       "      <td>4550.0</td>\n",
       "      <td>8092.0</td>\n",
       "      <td>12642.0</td>\n",
       "    </tr>\n",
       "    <tr>\n",
       "      <th>4</th>\n",
       "      <td>3.4</td>\n",
       "      <td>[244396, 244397, 244407, 244409, 244425, 24442...</td>\n",
       "      <td>[115163, 236612, 236634, 236669, 236724, 23673...</td>\n",
       "      <td>[115163, 236612, 236634, 236669, 236724, 23673...</td>\n",
       "      <td>4579.0</td>\n",
       "      <td>7931.0</td>\n",
       "      <td>12510.0</td>\n",
       "    </tr>\n",
       "  </tbody>\n",
       "</table>\n",
       "</div>"
      ],
      "text/plain": [
       "  version                                               RAAA  \\\n",
       "0     3.0  [185790, 101046, 101423, 101428, 101447, 10150...   \n",
       "1     3.1  [245789, 246565, 249954, 187986, 101968, 10200...   \n",
       "2     3.2  [244723, 245552, 246887, 248110, 248410, 24856...   \n",
       "3     3.3  [244440, 244476, 244815, 245312, 245575, 24597...   \n",
       "4     3.4  [244396, 244397, 244407, 244409, 244425, 24442...   \n",
       "\n",
       "                                                RBAA  \\\n",
       "0  [28440, 29422, 18608, 64617, 64621, 64626, 646...   \n",
       "1  [100814, 100822, 100825, 100826, 100829, 10088...   \n",
       "2  [101152, 102024, 103299, 103380, 103710, 10407...   \n",
       "3  [183607, 183610, 183621, 183640, 183732, 18376...   \n",
       "4  [115163, 236612, 236634, 236669, 236724, 23673...   \n",
       "\n",
       "                                                RBAB  after_release  \\\n",
       "0  [28440, 29422, 18608, 64617, 64621, 64626, 646...         6970.0   \n",
       "1  [100814, 100822, 100825, 100826, 100829, 10088...         5718.0   \n",
       "2  [101152, 102024, 103299, 103380, 103710, 10407...         5354.0   \n",
       "3  [183607, 183610, 183621, 183640, 183732, 18376...         4550.0   \n",
       "4  [115163, 236612, 236634, 236669, 236724, 23673...         4579.0   \n",
       "\n",
       "   before_release    total  \n",
       "0         17967.0  24937.0  \n",
       "1         12190.0  17908.0  \n",
       "2         10480.0  15834.0  \n",
       "3          8092.0  12642.0  \n",
       "4          7931.0  12510.0  "
      ]
     },
     "execution_count": 8,
     "metadata": {},
     "output_type": "execute_result"
    }
   ],
   "source": [
    "target_file = '.'+os.sep+'data'+os.sep+'RQ2'+os.sep+'year_releases_yearly_stats_first_assign.csv'\n",
    "if not os.path.exists(target_file):\n",
    "    df_yearly_stats_first = get_triaging_statistics_per_release(df_yearly,assignedFirst=True,resolvedFirst=False)\n",
    "    df_yearly_stats_first.to_csv(target_file,index=False)\n",
    "else:\n",
    "    df_yearly_stats_first = pd.read_csv(target_file,index_col=False,\n",
    "                                       dtype={'version': str,'release':str})\n",
    "    df_yearly_stats_first[\"RAAA\"]  = df_yearly_stats_first[\"RAAA\"].apply(ast.literal_eval)\n",
    "    df_yearly_stats_first[\"RBAA\"]  = df_yearly_stats_first[\"RBAA\"].apply(ast.literal_eval)\n",
    "    df_yearly_stats_first[\"RBAB\"]  = df_yearly_stats_first[\"RBAB\"].apply(ast.literal_eval)\n",
    "    \n",
    "df_yearly_stats_first['version'] = df_yearly_stats_first['version'].astype(str)\n",
    "df_yearly_stats_first = sort_df(df_yearly_stats_first,'version')\n",
    "df_yearly_stats_first.head()"
   ]
  },
  {
   "cell_type": "code",
   "execution_count": 9,
   "metadata": {},
   "outputs": [],
   "source": [
    "df=df_yearly.copy()"
   ]
  },
  {
   "cell_type": "code",
   "execution_count": 10,
   "metadata": {},
   "outputs": [
    {
     "data": {
      "text/plain": [
       "array(['3.0', '3.1', '3.2', '3.3', '3.4', '3.5', '3.6', '3.7', '4.2',\n",
       "       '4.3', '4.4', '4.5', '4.6', '4.7', '4.8', '4.9', '4.10'],\n",
       "      dtype=object)"
      ]
     },
     "execution_count": 10,
     "metadata": {},
     "output_type": "execute_result"
    }
   ],
   "source": [
    "df_yearly_stats_first.version.unique()"
   ]
  },
  {
   "cell_type": "code",
   "execution_count": 11,
   "metadata": {},
   "outputs": [
    {
     "data": {
      "text/html": [
       "<div>\n",
       "<style scoped>\n",
       "    .dataframe tbody tr th:only-of-type {\n",
       "        vertical-align: middle;\n",
       "    }\n",
       "\n",
       "    .dataframe tbody tr th {\n",
       "        vertical-align: top;\n",
       "    }\n",
       "\n",
       "    .dataframe thead th {\n",
       "        text-align: right;\n",
       "    }\n",
       "</style>\n",
       "<table border=\"1\" class=\"dataframe\">\n",
       "  <thead>\n",
       "    <tr style=\"text-align: right;\">\n",
       "      <th></th>\n",
       "      <th>version</th>\n",
       "      <th>RAAA</th>\n",
       "      <th>RBAA</th>\n",
       "      <th>RBAB</th>\n",
       "      <th>after_release</th>\n",
       "      <th>before_release</th>\n",
       "      <th>total</th>\n",
       "    </tr>\n",
       "  </thead>\n",
       "  <tbody>\n",
       "    <tr>\n",
       "      <th>0</th>\n",
       "      <td>3.0</td>\n",
       "      <td>[185790, 101046, 101423, 101428, 101447, 10150...</td>\n",
       "      <td>[28440, 29422, 18608, 64617, 64621, 64626, 646...</td>\n",
       "      <td>[28440, 29422, 18608, 64617, 64621, 64626, 646...</td>\n",
       "      <td>6970.0</td>\n",
       "      <td>17967.0</td>\n",
       "      <td>24937.0</td>\n",
       "    </tr>\n",
       "    <tr>\n",
       "      <th>1</th>\n",
       "      <td>3.1</td>\n",
       "      <td>[245789, 246565, 249954, 187986, 101968, 10200...</td>\n",
       "      <td>[100814, 100822, 100825, 100826, 100829, 10088...</td>\n",
       "      <td>[100814, 100822, 100825, 100826, 100829, 10088...</td>\n",
       "      <td>5718.0</td>\n",
       "      <td>12190.0</td>\n",
       "      <td>17908.0</td>\n",
       "    </tr>\n",
       "    <tr>\n",
       "      <th>2</th>\n",
       "      <td>3.2</td>\n",
       "      <td>[244723, 245552, 246887, 248110, 248410, 24856...</td>\n",
       "      <td>[101152, 102024, 103299, 103380, 103710, 10407...</td>\n",
       "      <td>[101152, 102024, 103299, 103380, 103710, 10407...</td>\n",
       "      <td>5354.0</td>\n",
       "      <td>10480.0</td>\n",
       "      <td>15834.0</td>\n",
       "    </tr>\n",
       "    <tr>\n",
       "      <th>3</th>\n",
       "      <td>3.3</td>\n",
       "      <td>[244440, 244476, 244815, 245312, 245575, 24597...</td>\n",
       "      <td>[183607, 183610, 183621, 183640, 183732, 18376...</td>\n",
       "      <td>[183607, 183610, 183621, 183640, 183732, 18376...</td>\n",
       "      <td>4550.0</td>\n",
       "      <td>8092.0</td>\n",
       "      <td>12642.0</td>\n",
       "    </tr>\n",
       "    <tr>\n",
       "      <th>4</th>\n",
       "      <td>3.4</td>\n",
       "      <td>[244396, 244397, 244407, 244409, 244425, 24442...</td>\n",
       "      <td>[115163, 236612, 236634, 236669, 236724, 23673...</td>\n",
       "      <td>[115163, 236612, 236634, 236669, 236724, 23673...</td>\n",
       "      <td>4579.0</td>\n",
       "      <td>7931.0</td>\n",
       "      <td>12510.0</td>\n",
       "    </tr>\n",
       "  </tbody>\n",
       "</table>\n",
       "</div>"
      ],
      "text/plain": [
       "  version                                               RAAA  \\\n",
       "0     3.0  [185790, 101046, 101423, 101428, 101447, 10150...   \n",
       "1     3.1  [245789, 246565, 249954, 187986, 101968, 10200...   \n",
       "2     3.2  [244723, 245552, 246887, 248110, 248410, 24856...   \n",
       "3     3.3  [244440, 244476, 244815, 245312, 245575, 24597...   \n",
       "4     3.4  [244396, 244397, 244407, 244409, 244425, 24442...   \n",
       "\n",
       "                                                RBAA  \\\n",
       "0  [28440, 29422, 18608, 64617, 64621, 64626, 646...   \n",
       "1  [100814, 100822, 100825, 100826, 100829, 10088...   \n",
       "2  [101152, 102024, 103299, 103380, 103710, 10407...   \n",
       "3  [183607, 183610, 183621, 183640, 183732, 18376...   \n",
       "4  [115163, 236612, 236634, 236669, 236724, 23673...   \n",
       "\n",
       "                                                RBAB  after_release  \\\n",
       "0  [28440, 29422, 18608, 64617, 64621, 64626, 646...         6970.0   \n",
       "1  [100814, 100822, 100825, 100826, 100829, 10088...         5718.0   \n",
       "2  [101152, 102024, 103299, 103380, 103710, 10407...         5354.0   \n",
       "3  [183607, 183610, 183621, 183640, 183732, 18376...         4550.0   \n",
       "4  [115163, 236612, 236634, 236669, 236724, 23673...         4579.0   \n",
       "\n",
       "   before_release    total  \n",
       "0         17967.0  24937.0  \n",
       "1         12190.0  17908.0  \n",
       "2         10480.0  15834.0  \n",
       "3          8092.0  12642.0  \n",
       "4          7931.0  12510.0  "
      ]
     },
     "execution_count": 11,
     "metadata": {},
     "output_type": "execute_result"
    }
   ],
   "source": [
    "df_yearly_stats_first.head()"
   ]
  },
  {
   "cell_type": "code",
   "execution_count": 12,
   "metadata": {},
   "outputs": [
    {
     "name": "stderr",
     "output_type": "stream",
     "text": [
      "C:\\Users\\zeinab\\Papers\\26-3-2019\\msr2019\\rep-pack\\global_functions.py:13: SettingWithCopyWarning: \n",
      "A value is trying to be set on a copy of a slice from a DataFrame.\n",
      "Try using .loc[row_indexer,col_indexer] = value instead\n",
      "\n",
      "See the caveats in the documentation: http://pandas.pydata.org/pandas-docs/stable/indexing.html#indexing-view-versus-copy\n",
      "  dd[col] = pd.to_datetime(dd[col])\n",
      "C:\\Users\\zeinab\\Anaconda3\\lib\\site-packages\\ipykernel_launcher.py:9: SettingWithCopyWarning: \n",
      "A value is trying to be set on a copy of a slice from a DataFrame.\n",
      "Try using .loc[row_indexer,col_indexer] = value instead\n",
      "\n",
      "See the caveats in the documentation: http://pandas.pydata.org/pandas-docs/stable/indexing.html#indexing-view-versus-copy\n",
      "  if __name__ == '__main__':\n",
      "C:\\Users\\zeinab\\Anaconda3\\lib\\site-packages\\ipykernel_launcher.py:20: SettingWithCopyWarning: \n",
      "A value is trying to be set on a copy of a slice from a DataFrame.\n",
      "Try using .loc[row_indexer,col_indexer] = value instead\n",
      "\n",
      "See the caveats in the documentation: http://pandas.pydata.org/pandas-docs/stable/indexing.html#indexing-view-versus-copy\n"
     ]
    }
   ],
   "source": [
    "traiging_time_RBAB=pd.DataFrame()\n",
    "traiging_time_RBAA=pd.DataFrame()\n",
    "traiging_time_RAAA=pd.DataFrame()\n",
    "for index, row in df_yearly_stats_first.iterrows():\n",
    "    #the bug created and assigned & before release \n",
    "    df_b=df[df.id.isin(row['RBAB'])]\n",
    "    \n",
    "    df_b=trans_to_datetime(df_b,['creation_time','first_assignment_date'])\n",
    "    df_b['triaging_time'] =df_b.apply(lambda x : (x['first_assignment_date']-x['creation_time']).days, axis=1)\n",
    "    df_b= df_b[['id',\n",
    "     'first_assignment_date',\n",
    "     'triaging_time' ,'release' ]]\n",
    "    df_b['done'] = '1'\n",
    "    traiging_time_RBAB=traiging_time_RBAB.append(df_b)\n",
    "    \n",
    "    \n",
    "    #the bug created and assigned & after release \n",
    "    df_a=df[df.id.isin(row['RAAA'])]\n",
    "    df_a=trans_to_datetime(df_a,['creation_time','first_assignment_date']) \n",
    "    df_a['triaging_time'] =df_a.apply(lambda x : (x['first_assignment_date']-x['creation_time']).days, axis=1)\n",
    "   \n",
    "    df_a= df_a[['id',\n",
    "     'first_assignment_date',\n",
    "     'triaging_time',\n",
    "        'release']]\n",
    "    df_a['done'] = '1'\n",
    "    traiging_time_RAAA=traiging_time_RAAA.append(df_a)\n",
    "    \n",
    "    #\n",
    "traiging_time_RBAB.to_csv('.'+os.sep+'data'+os.sep+'RQ2'+os.sep+'Eclipse-RBAB.csv',index=False)    \n",
    "traiging_time_RAAA.to_csv('.'+os.sep+'data'+os.sep+'RQ2'+os.sep+'Eclipse-RAAA.csv',index=False)"
   ]
  },
  {
   "cell_type": "code",
   "execution_count": null,
   "metadata": {},
   "outputs": [],
   "source": []
  },
  {
   "cell_type": "code",
   "execution_count": 16,
   "metadata": {},
   "outputs": [],
   "source": [
    "\n",
    "RBAB = pd.read_csv('.'+os.sep+'data'+os.sep+'RQ2'+os.sep+'Eclipse-RBAB.csv',\n",
    "                dtype={'release':str,'version':str})\n",
    "RAAA = pd.read_csv('.'+os.sep+'data'+os.sep+'RQ2'+os.sep+'Eclipse-RAAA.csv',\n",
    "                dtype={'release':str,'version':str})"
   ]
  },
  {
   "cell_type": "code",
   "execution_count": 23,
   "metadata": {},
   "outputs": [],
   "source": [
    "y=RBAB[RBAB['release']=='4.10'].id.unique()"
   ]
  },
  {
   "cell_type": "code",
   "execution_count": 31,
   "metadata": {},
   "outputs": [],
   "source": [
    "mydf= df[df['id'].isin(y)]"
   ]
  },
  {
   "cell_type": "code",
   "execution_count": 32,
   "metadata": {},
   "outputs": [
    {
     "data": {
      "text/html": [
       "<div>\n",
       "<style scoped>\n",
       "    .dataframe tbody tr th:only-of-type {\n",
       "        vertical-align: middle;\n",
       "    }\n",
       "\n",
       "    .dataframe tbody tr th {\n",
       "        vertical-align: top;\n",
       "    }\n",
       "\n",
       "    .dataframe thead th {\n",
       "        text-align: right;\n",
       "    }\n",
       "</style>\n",
       "<table border=\"1\" class=\"dataframe\">\n",
       "  <thead>\n",
       "    <tr style=\"text-align: right;\">\n",
       "      <th></th>\n",
       "      <th>id</th>\n",
       "      <th>release</th>\n",
       "      <th>Product</th>\n",
       "      <th>creation_time</th>\n",
       "      <th>version</th>\n",
       "      <th>resolution</th>\n",
       "      <th>is_assigned</th>\n",
       "      <th>is_resolved</th>\n",
       "      <th>is_fixed</th>\n",
       "      <th>first_assignment_date</th>\n",
       "      <th>...</th>\n",
       "      <th>last_resolved_date</th>\n",
       "      <th>first_fixed_date</th>\n",
       "      <th>last_fixed_date</th>\n",
       "      <th>time_assign_diff</th>\n",
       "      <th>time_resolve_diff</th>\n",
       "      <th>time_fix_diff</th>\n",
       "      <th>min_release</th>\n",
       "      <th>max_release</th>\n",
       "      <th>min_release_before_version_field</th>\n",
       "      <th>min_release_after_version_field</th>\n",
       "    </tr>\n",
       "  </thead>\n",
       "  <tbody>\n",
       "    <tr>\n",
       "      <th>127495</th>\n",
       "      <td>477268</td>\n",
       "      <td>4.10</td>\n",
       "      <td>PDE</td>\n",
       "      <td>2015-09-12 23:24:04</td>\n",
       "      <td>4.10</td>\n",
       "      <td>FIXED</td>\n",
       "      <td>1</td>\n",
       "      <td>1</td>\n",
       "      <td>1</td>\n",
       "      <td>2018-11-20 15:49:53</td>\n",
       "      <td>...</td>\n",
       "      <td>2019-01-07 10:46:43</td>\n",
       "      <td>2019-01-07 10:46:43</td>\n",
       "      <td>2019-01-07 10:46:43</td>\n",
       "      <td>0.0</td>\n",
       "      <td>0.0</td>\n",
       "      <td>0.0</td>\n",
       "      <td>4.1</td>\n",
       "      <td>4.1</td>\n",
       "      <td>False</td>\n",
       "      <td>False</td>\n",
       "    </tr>\n",
       "  </tbody>\n",
       "</table>\n",
       "<p>1 rows × 22 columns</p>\n",
       "</div>"
      ],
      "text/plain": [
       "            id release Product        creation_time version resolution  \\\n",
       "127495  477268    4.10     PDE  2015-09-12 23:24:04    4.10      FIXED   \n",
       "\n",
       "        is_assigned  is_resolved  is_fixed first_assignment_date  \\\n",
       "127495            1            1         1   2018-11-20 15:49:53   \n",
       "\n",
       "                     ...                  last_resolved_date  \\\n",
       "127495               ...                 2019-01-07 10:46:43   \n",
       "\n",
       "           first_fixed_date      last_fixed_date time_assign_diff  \\\n",
       "127495  2019-01-07 10:46:43  2019-01-07 10:46:43              0.0   \n",
       "\n",
       "       time_resolve_diff  time_fix_diff  min_release  max_release  \\\n",
       "127495               0.0            0.0          4.1          4.1   \n",
       "\n",
       "        min_release_before_version_field  min_release_after_version_field  \n",
       "127495                             False                            False  \n",
       "\n",
       "[1 rows x 22 columns]"
      ]
     },
     "execution_count": 32,
     "metadata": {},
     "output_type": "execute_result"
    }
   ],
   "source": [
    "mydf[mydf['id']==477268]"
   ]
  },
  {
   "cell_type": "code",
   "execution_count": 27,
   "metadata": {},
   "outputs": [
    {
     "data": {
      "text/plain": [
       "Index(['id', 'release', 'Product', 'creation_time', 'version', 'resolution',\n",
       "       'is_assigned', 'is_resolved', 'is_fixed', 'first_assignment_date',\n",
       "       'last_assignment_date', 'first_resolved_date', 'last_resolved_date',\n",
       "       'first_fixed_date', 'last_fixed_date', 'time_assign_diff',\n",
       "       'time_resolve_diff', 'time_fix_diff', 'min_release', 'max_release',\n",
       "       'min_release_before_version_field', 'min_release_after_version_field'],\n",
       "      dtype='object')"
      ]
     },
     "execution_count": 27,
     "metadata": {},
     "output_type": "execute_result"
    }
   ],
   "source": [
    "df.columns"
   ]
  },
  {
   "cell_type": "code",
   "execution_count": 28,
   "metadata": {},
   "outputs": [
    {
     "name": "stderr",
     "output_type": "stream",
     "text": [
      "C:\\Users\\zeinab\\Anaconda3\\lib\\site-packages\\ipykernel_launcher.py:3: SettingWithCopyWarning: \n",
      "A value is trying to be set on a copy of a slice from a DataFrame.\n",
      "Try using .loc[row_indexer,col_indexer] = value instead\n",
      "\n",
      "See the caveats in the documentation: http://pandas.pydata.org/pandas-docs/stable/indexing.html#indexing-view-versus-copy\n",
      "  This is separate from the ipykernel package so we can avoid doing imports until\n"
     ]
    }
   ],
   "source": [
    "mydf=trans_to_datetime(mydf,['creation_time','first_assignment_date'])\n",
    "\n",
    "mydf['triaging_time'] =mydf.apply(lambda x : (x['first_assignment_date']-x['creation_time']).days, axis=1)\n",
    "mydf= mydf[['id',\n",
    " 'first_assignment_date',\n",
    " 'triaging_time' ,'release' ]]\n",
    "mydf['done'] = '1'\n",
    "#traiging_time_RBAB=traiging_time_RBAB.append(df_b)"
   ]
  },
  {
   "cell_type": "code",
   "execution_count": 29,
   "metadata": {},
   "outputs": [
    {
     "data": {
      "text/html": [
       "<div>\n",
       "<style scoped>\n",
       "    .dataframe tbody tr th:only-of-type {\n",
       "        vertical-align: middle;\n",
       "    }\n",
       "\n",
       "    .dataframe tbody tr th {\n",
       "        vertical-align: top;\n",
       "    }\n",
       "\n",
       "    .dataframe thead th {\n",
       "        text-align: right;\n",
       "    }\n",
       "</style>\n",
       "<table border=\"1\" class=\"dataframe\">\n",
       "  <thead>\n",
       "    <tr style=\"text-align: right;\">\n",
       "      <th></th>\n",
       "      <th>id</th>\n",
       "      <th>first_assignment_date</th>\n",
       "      <th>triaging_time</th>\n",
       "      <th>release</th>\n",
       "      <th>done</th>\n",
       "    </tr>\n",
       "  </thead>\n",
       "  <tbody>\n",
       "    <tr>\n",
       "      <th>25725</th>\n",
       "      <td>540097</td>\n",
       "      <td>2018-10-13 03:18:58</td>\n",
       "      <td>0</td>\n",
       "      <td>4.10</td>\n",
       "      <td>1</td>\n",
       "    </tr>\n",
       "    <tr>\n",
       "      <th>25747</th>\n",
       "      <td>540200</td>\n",
       "      <td>2018-10-17 19:32:40</td>\n",
       "      <td>0</td>\n",
       "      <td>4.10</td>\n",
       "      <td>1</td>\n",
       "    </tr>\n",
       "    <tr>\n",
       "      <th>25758</th>\n",
       "      <td>540260</td>\n",
       "      <td>2018-10-18 15:35:49</td>\n",
       "      <td>0</td>\n",
       "      <td>4.10</td>\n",
       "      <td>1</td>\n",
       "    </tr>\n",
       "    <tr>\n",
       "      <th>25794</th>\n",
       "      <td>540474</td>\n",
       "      <td>2018-11-09 09:44:52</td>\n",
       "      <td>14</td>\n",
       "      <td>4.10</td>\n",
       "      <td>1</td>\n",
       "    </tr>\n",
       "    <tr>\n",
       "      <th>25805</th>\n",
       "      <td>540580</td>\n",
       "      <td>2018-12-07 08:18:51</td>\n",
       "      <td>38</td>\n",
       "      <td>4.10</td>\n",
       "      <td>1</td>\n",
       "    </tr>\n",
       "  </tbody>\n",
       "</table>\n",
       "</div>"
      ],
      "text/plain": [
       "           id first_assignment_date  triaging_time release done\n",
       "25725  540097   2018-10-13 03:18:58              0    4.10    1\n",
       "25747  540200   2018-10-17 19:32:40              0    4.10    1\n",
       "25758  540260   2018-10-18 15:35:49              0    4.10    1\n",
       "25794  540474   2018-11-09 09:44:52             14    4.10    1\n",
       "25805  540580   2018-12-07 08:18:51             38    4.10    1"
      ]
     },
     "execution_count": 29,
     "metadata": {},
     "output_type": "execute_result"
    }
   ],
   "source": [
    "mydf.head()"
   ]
  },
  {
   "cell_type": "code",
   "execution_count": 15,
   "metadata": {},
   "outputs": [
    {
     "name": "stdout",
     "output_type": "stream",
     "text": [
      "6463 6463\n",
      "2649 2649\n"
     ]
    },
    {
     "data": {
      "image/png": "[encoded data removed]",
      "text/plain": [
       "<Figure size 432x288 with 1 Axes>"
      ]
     },
     "metadata": {
      "needs_background": "light"
     },
     "output_type": "display_data"
    },
    {
     "name": "stdout",
     "output_type": "stream",
     "text": [
      "4197 4197\n",
      "2027 2027\n"
     ]
    },
    {
     "data": {
      "image/png": "[encoded data removed]",
      "text/plain": [
       "<Figure size 432x288 with 1 Axes>"
      ]
     },
     "metadata": {
      "needs_background": "light"
     },
     "output_type": "display_data"
    },
    {
     "name": "stdout",
     "output_type": "stream",
     "text": [
      "3819 3819\n",
      "1859 1859\n"
     ]
    },
    {
     "data": {
      "image/png": "[encoded data removed]",
      "text/plain": [
       "<Figure size 432x288 with 1 Axes>"
      ]
     },
     "metadata": {
      "needs_background": "light"
     },
     "output_type": "display_data"
    },
    {
     "name": "stdout",
     "output_type": "stream",
     "text": [
      "2815 2815\n",
      "1586 1586\n"
     ]
    },
    {
     "data": {
      "image/png": "[encoded data removed]",
      "text/plain": [
       "<Figure size 432x288 with 1 Axes>"
      ]
     },
     "metadata": {
      "needs_background": "light"
     },
     "output_type": "display_data"
    },
    {
     "name": "stdout",
     "output_type": "stream",
     "text": [
      "2405 2405\n",
      "1591 1591\n"
     ]
    },
    {
     "data": {
      "image/png": "[encoded data removed]",
      "text/plain": [
       "<Figure size 432x288 with 1 Axes>"
      ]
     },
     "metadata": {
      "needs_background": "light"
     },
     "output_type": "display_data"
    },
    {
     "name": "stdout",
     "output_type": "stream",
     "text": [
      "2237 2237\n",
      "1026 1026\n"
     ]
    },
    {
     "data": {
      "image/png": "[encoded data removed]",
      "text/plain": [
       "<Figure size 432x288 with 1 Axes>"
      ]
     },
     "metadata": {
      "needs_background": "light"
     },
     "output_type": "display_data"
    },
    {
     "name": "stdout",
     "output_type": "stream",
     "text": [
      "1480 1480\n",
      "728 728\n"
     ]
    },
    {
     "data": {
      "image/png": "[encoded data removed]",
      "text/plain": [
       "<Figure size 432x288 with 1 Axes>"
      ]
     },
     "metadata": {
      "needs_background": "light"
     },
     "output_type": "display_data"
    },
    {
     "name": "stdout",
     "output_type": "stream",
     "text": [
      "1029 1029\n",
      "618 618\n"
     ]
    },
    {
     "data": {
      "image/png": "[encoded data removed]",
      "text/plain": [
       "<Figure size 432x288 with 1 Axes>"
      ]
     },
     "metadata": {
      "needs_background": "light"
     },
     "output_type": "display_data"
    },
    {
     "name": "stdout",
     "output_type": "stream",
     "text": [
      "974 974\n",
      "1503 1503\n"
     ]
    },
    {
     "data": {
      "image/png": "[encoded data removed]",
      "text/plain": [
       "<Figure size 432x288 with 1 Axes>"
      ]
     },
     "metadata": {
      "needs_background": "light"
     },
     "output_type": "display_data"
    },
    {
     "name": "stdout",
     "output_type": "stream",
     "text": [
      "653 653\n",
      "784 784\n"
     ]
    },
    {
     "data": {
      "image/png": "[encoded data removed]",
      "text/plain": [
       "<Figure size 432x288 with 1 Axes>"
      ]
     },
     "metadata": {
      "needs_background": "light"
     },
     "output_type": "display_data"
    },
    {
     "name": "stdout",
     "output_type": "stream",
     "text": [
      "1235 1235\n",
      "768 768\n"
     ]
    },
    {
     "data": {
      "image/png": "[encoded data removed]",
      "text/plain": [
       "<Figure size 432x288 with 1 Axes>"
      ]
     },
     "metadata": {
      "needs_background": "light"
     },
     "output_type": "display_data"
    },
    {
     "name": "stdout",
     "output_type": "stream",
     "text": [
      "809 809\n",
      "738 738\n"
     ]
    },
    {
     "data": {
      "image/png": "[encoded data removed]",
      "text/plain": [
       "<Figure size 432x288 with 1 Axes>"
      ]
     },
     "metadata": {
      "needs_background": "light"
     },
     "output_type": "display_data"
    },
    {
     "name": "stdout",
     "output_type": "stream",
     "text": [
      "615 615\n",
      "616 616\n"
     ]
    },
    {
     "data": {
      "image/png": "[encoded data removed]",
      "text/plain": [
       "<Figure size 432x288 with 1 Axes>"
      ]
     },
     "metadata": {
      "needs_background": "light"
     },
     "output_type": "display_data"
    },
    {
     "name": "stdout",
     "output_type": "stream",
     "text": [
      "830 830\n",
      "669 669\n"
     ]
    },
    {
     "data": {
      "image/png": "[encoded data removed]",
      "text/plain": [
       "<Figure size 432x288 with 1 Axes>"
      ]
     },
     "metadata": {
      "needs_background": "light"
     },
     "output_type": "display_data"
    },
    {
     "name": "stdout",
     "output_type": "stream",
     "text": [
      "766 766\n",
      "139 139\n"
     ]
    },
    {
     "data": {
      "image/png": "[encoded data removed]",
      "text/plain": [
       "<Figure size 432x288 with 1 Axes>"
      ]
     },
     "metadata": {
      "needs_background": "light"
     },
     "output_type": "display_data"
    },
    {
     "name": "stdout",
     "output_type": "stream",
     "text": [
      "113 113\n",
      "110 110\n"
     ]
    },
    {
     "data": {
      "image/png": "[encoded data removed]",
      "text/plain": [
       "<Figure size 432x288 with 1 Axes>"
      ]
     },
     "metadata": {
      "needs_background": "light"
     },
     "output_type": "display_data"
    },
    {
     "name": "stdout",
     "output_type": "stream",
     "text": [
      "116 116\n",
      "53 53\n"
     ]
    },
    {
     "data": {
      "image/png": "[encoded data removed]",
      "text/plain": [
       "<Figure size 432x288 with 1 Axes>"
      ]
     },
     "metadata": {
      "needs_background": "light"
     },
     "output_type": "display_data"
    }
   ],
   "source": [
    "kmf = KaplanMeierFitter()\n",
    "RBAB = pd.read_csv('.'+os.sep+'data'+os.sep+'RQ2'+os.sep+'Eclipse-RBAB.csv',\n",
    "                dtype={'release':str,'version':str})\n",
    "RAAA = pd.read_csv('.'+os.sep+'data'+os.sep+'RQ2'+os.sep+'Eclipse-RAAA.csv',\n",
    "                dtype={'release':str,'version':str})\n",
    "time=['Reported before release','Reported after release']\n",
    "\n",
    "for release in RBAB.release.unique():\n",
    "    ax = plt.subplot(1, 1,1)\n",
    "    file=[release,RBAB[RBAB['release']==release],RAAA[RAAA['release']==release]]\n",
    "    for j,dat in enumerate(file):\n",
    "        if j==0:\n",
    "            version=dat\n",
    "        else:\n",
    "            T = dat[\"triaging_time\"]\n",
    "            E = dat[\"done\"]\n",
    "            print(len(T),len(E))\n",
    "            kmf.fit( T, E, label=time[j-1])\n",
    "            kmf.plot(ax=ax, ci_force_lines=True)\n",
    "            ax.set_xlabel(\"delay (days)\")\n",
    "            ax.set_ylabel(\"probability\")\n",
    " \n",
    "    plt.title('release '+version)\n",
    "    plt.xlim(0, 365)\n",
    "    plt.ylim(0, 0.6)\n",
    "\n",
    "    plt.savefig('..'+os.sep+'paper'+os.sep+'temp_figs'+os.sep+'xrq2t_'+version.replace('.', '_')+'.pdf')\n",
    "    \n",
    "    plt.tight_layout( )\n",
    "    plt.show()\n",
    "\n",
    "\n"
   ]
  },
  {
   "cell_type": "code",
   "execution_count": null,
   "metadata": {},
   "outputs": [],
   "source": [
    "#logrank test"
   ]
  },
  {
   "cell_type": "code",
   "execution_count": 86,
   "metadata": {},
   "outputs": [],
   "source": [
    "RBAB = pd.read_csv('.'+os.sep+'data'+os.sep+'RQ2'+os.sep+'Eclipse-RBAB.csv',\n",
    "                dtype={'release':str,'version':str})\n",
    "RAAA = pd.read_csv('.'+os.sep+'data'+os.sep+'RQ2'+os.sep+'Eclipse-RAAA.csv',\n",
    "                dtype={'release':str,'version':str})\n",
    "RBAB['release'] = RBAB['release'].astype(str)\n",
    "RAAA['release'] = RAAA['release'].astype(str)\n",
    "\n",
    "pData=pd.DataFrame()\n",
    "T=[None] * 2\n",
    "E=[None] * 2\n",
    "results=[None] * 9\n",
    "for release in RBAB.release.unique():\n",
    "    i=0\n",
    "    \n",
    "    file=[release,RBAB[RBAB['release']==release],RAAA[RAAA['release']==release]]\n",
    "    k=0\n",
    "    for j,dat in enumerate(file):\n",
    "        if j==0:\n",
    "            version=dat\n",
    "        else:\n",
    "            T[k] = dat[\"triaging_time\"]\n",
    "            E[k] = dat[\"done\"]\n",
    "            k=k+1\n",
    "    results[i] = logrank_test(T[0], T[1], E[0], E[1], alpha=.95).p_value\n",
    "    pDat=pd.DataFrame({'version': [release] , 'p':[results[i]] })\n",
    "\n",
    "    #print(version)\n",
    "    pData=pData.append(pDat)\n",
    " \n"
   ]
  },
  {
   "cell_type": "code",
   "execution_count": 87,
   "metadata": {},
   "outputs": [
    {
     "data": {
      "text/html": [
       "<div>\n",
       "<style scoped>\n",
       "    .dataframe tbody tr th:only-of-type {\n",
       "        vertical-align: middle;\n",
       "    }\n",
       "\n",
       "    .dataframe tbody tr th {\n",
       "        vertical-align: top;\n",
       "    }\n",
       "\n",
       "    .dataframe thead th {\n",
       "        text-align: right;\n",
       "    }\n",
       "</style>\n",
       "<table border=\"1\" class=\"dataframe\">\n",
       "  <thead>\n",
       "    <tr style=\"text-align: right;\">\n",
       "      <th></th>\n",
       "      <th>version</th>\n",
       "      <th>p</th>\n",
       "    </tr>\n",
       "  </thead>\n",
       "  <tbody>\n",
       "    <tr>\n",
       "      <th>0</th>\n",
       "      <td>3.0</td>\n",
       "      <td>6.964255e-150</td>\n",
       "    </tr>\n",
       "    <tr>\n",
       "      <th>0</th>\n",
       "      <td>3.1</td>\n",
       "      <td>6.090665e-205</td>\n",
       "    </tr>\n",
       "    <tr>\n",
       "      <th>0</th>\n",
       "      <td>3.2</td>\n",
       "      <td>1.036187e-179</td>\n",
       "    </tr>\n",
       "    <tr>\n",
       "      <th>0</th>\n",
       "      <td>3.3</td>\n",
       "      <td>1.216030e-98</td>\n",
       "    </tr>\n",
       "    <tr>\n",
       "      <th>0</th>\n",
       "      <td>3.4</td>\n",
       "      <td>6.500741e-65</td>\n",
       "    </tr>\n",
       "    <tr>\n",
       "      <th>0</th>\n",
       "      <td>3.5</td>\n",
       "      <td>2.891894e-27</td>\n",
       "    </tr>\n",
       "    <tr>\n",
       "      <th>0</th>\n",
       "      <td>3.6</td>\n",
       "      <td>5.188191e-27</td>\n",
       "    </tr>\n",
       "    <tr>\n",
       "      <th>0</th>\n",
       "      <td>3.7</td>\n",
       "      <td>3.221060e-14</td>\n",
       "    </tr>\n",
       "    <tr>\n",
       "      <th>0</th>\n",
       "      <td>4.2</td>\n",
       "      <td>1.359152e-08</td>\n",
       "    </tr>\n",
       "    <tr>\n",
       "      <th>0</th>\n",
       "      <td>4.3</td>\n",
       "      <td>5.179842e-05</td>\n",
       "    </tr>\n",
       "    <tr>\n",
       "      <th>0</th>\n",
       "      <td>4.4</td>\n",
       "      <td>1.446455e-16</td>\n",
       "    </tr>\n",
       "    <tr>\n",
       "      <th>0</th>\n",
       "      <td>4.5</td>\n",
       "      <td>2.171937e-23</td>\n",
       "    </tr>\n",
       "    <tr>\n",
       "      <th>0</th>\n",
       "      <td>4.6</td>\n",
       "      <td>1.150444e-02</td>\n",
       "    </tr>\n",
       "    <tr>\n",
       "      <th>0</th>\n",
       "      <td>4.7</td>\n",
       "      <td>5.612188e-02</td>\n",
       "    </tr>\n",
       "    <tr>\n",
       "      <th>0</th>\n",
       "      <td>4.8</td>\n",
       "      <td>3.861635e-01</td>\n",
       "    </tr>\n",
       "    <tr>\n",
       "      <th>0</th>\n",
       "      <td>4.9</td>\n",
       "      <td>5.009776e-04</td>\n",
       "    </tr>\n",
       "    <tr>\n",
       "      <th>0</th>\n",
       "      <td>4.10</td>\n",
       "      <td>1.744865e-01</td>\n",
       "    </tr>\n",
       "  </tbody>\n",
       "</table>\n",
       "</div>"
      ],
      "text/plain": [
       "  version              p\n",
       "0     3.0  6.964255e-150\n",
       "0     3.1  6.090665e-205\n",
       "0     3.2  1.036187e-179\n",
       "0     3.3   1.216030e-98\n",
       "0     3.4   6.500741e-65\n",
       "0     3.5   2.891894e-27\n",
       "0     3.6   5.188191e-27\n",
       "0     3.7   3.221060e-14\n",
       "0     4.2   1.359152e-08\n",
       "0     4.3   5.179842e-05\n",
       "0     4.4   1.446455e-16\n",
       "0     4.5   2.171937e-23\n",
       "0     4.6   1.150444e-02\n",
       "0     4.7   5.612188e-02\n",
       "0     4.8   3.861635e-01\n",
       "0     4.9   5.009776e-04\n",
       "0    4.10   1.744865e-01"
      ]
     },
     "execution_count": 87,
     "metadata": {},
     "output_type": "execute_result"
    }
   ],
   "source": [
    "pData= pData[['version' , 'p']]\n",
    "pData"
   ]
  },
  {
   "cell_type": "code",
   "execution_count": 88,
   "metadata": {},
   "outputs": [],
   "source": [
    "pData['H0'] = pData['p'].apply(lambda x: 'reject H0' if x <0.01 else 'accept H0')"
   ]
  },
  {
   "cell_type": "code",
   "execution_count": 89,
   "metadata": {},
   "outputs": [
    {
     "data": {
      "text/html": [
       "<div>\n",
       "<style scoped>\n",
       "    .dataframe tbody tr th:only-of-type {\n",
       "        vertical-align: middle;\n",
       "    }\n",
       "\n",
       "    .dataframe tbody tr th {\n",
       "        vertical-align: top;\n",
       "    }\n",
       "\n",
       "    .dataframe thead th {\n",
       "        text-align: right;\n",
       "    }\n",
       "</style>\n",
       "<table border=\"1\" class=\"dataframe\">\n",
       "  <thead>\n",
       "    <tr style=\"text-align: right;\">\n",
       "      <th></th>\n",
       "      <th>version</th>\n",
       "      <th>p</th>\n",
       "      <th>H0</th>\n",
       "    </tr>\n",
       "  </thead>\n",
       "  <tbody>\n",
       "    <tr>\n",
       "      <th>0</th>\n",
       "      <td>3.0</td>\n",
       "      <td>6.964255e-150</td>\n",
       "      <td>reject H0</td>\n",
       "    </tr>\n",
       "    <tr>\n",
       "      <th>0</th>\n",
       "      <td>3.1</td>\n",
       "      <td>6.090665e-205</td>\n",
       "      <td>reject H0</td>\n",
       "    </tr>\n",
       "    <tr>\n",
       "      <th>0</th>\n",
       "      <td>3.2</td>\n",
       "      <td>1.036187e-179</td>\n",
       "      <td>reject H0</td>\n",
       "    </tr>\n",
       "    <tr>\n",
       "      <th>0</th>\n",
       "      <td>3.3</td>\n",
       "      <td>1.216030e-98</td>\n",
       "      <td>reject H0</td>\n",
       "    </tr>\n",
       "    <tr>\n",
       "      <th>0</th>\n",
       "      <td>3.4</td>\n",
       "      <td>6.500741e-65</td>\n",
       "      <td>reject H0</td>\n",
       "    </tr>\n",
       "    <tr>\n",
       "      <th>0</th>\n",
       "      <td>3.5</td>\n",
       "      <td>2.891894e-27</td>\n",
       "      <td>reject H0</td>\n",
       "    </tr>\n",
       "    <tr>\n",
       "      <th>0</th>\n",
       "      <td>3.6</td>\n",
       "      <td>5.188191e-27</td>\n",
       "      <td>reject H0</td>\n",
       "    </tr>\n",
       "    <tr>\n",
       "      <th>0</th>\n",
       "      <td>3.7</td>\n",
       "      <td>3.221060e-14</td>\n",
       "      <td>reject H0</td>\n",
       "    </tr>\n",
       "    <tr>\n",
       "      <th>0</th>\n",
       "      <td>4.2</td>\n",
       "      <td>1.359152e-08</td>\n",
       "      <td>reject H0</td>\n",
       "    </tr>\n",
       "    <tr>\n",
       "      <th>0</th>\n",
       "      <td>4.3</td>\n",
       "      <td>5.179842e-05</td>\n",
       "      <td>reject H0</td>\n",
       "    </tr>\n",
       "    <tr>\n",
       "      <th>0</th>\n",
       "      <td>4.4</td>\n",
       "      <td>1.446455e-16</td>\n",
       "      <td>reject H0</td>\n",
       "    </tr>\n",
       "    <tr>\n",
       "      <th>0</th>\n",
       "      <td>4.5</td>\n",
       "      <td>2.171937e-23</td>\n",
       "      <td>reject H0</td>\n",
       "    </tr>\n",
       "    <tr>\n",
       "      <th>0</th>\n",
       "      <td>4.6</td>\n",
       "      <td>1.150444e-02</td>\n",
       "      <td>accept H0</td>\n",
       "    </tr>\n",
       "    <tr>\n",
       "      <th>0</th>\n",
       "      <td>4.7</td>\n",
       "      <td>5.612188e-02</td>\n",
       "      <td>accept H0</td>\n",
       "    </tr>\n",
       "    <tr>\n",
       "      <th>0</th>\n",
       "      <td>4.8</td>\n",
       "      <td>3.861635e-01</td>\n",
       "      <td>accept H0</td>\n",
       "    </tr>\n",
       "    <tr>\n",
       "      <th>0</th>\n",
       "      <td>4.9</td>\n",
       "      <td>5.009776e-04</td>\n",
       "      <td>reject H0</td>\n",
       "    </tr>\n",
       "    <tr>\n",
       "      <th>0</th>\n",
       "      <td>4.10</td>\n",
       "      <td>1.744865e-01</td>\n",
       "      <td>accept H0</td>\n",
       "    </tr>\n",
       "  </tbody>\n",
       "</table>\n",
       "</div>"
      ],
      "text/plain": [
       "  version              p         H0\n",
       "0     3.0  6.964255e-150  reject H0\n",
       "0     3.1  6.090665e-205  reject H0\n",
       "0     3.2  1.036187e-179  reject H0\n",
       "0     3.3   1.216030e-98  reject H0\n",
       "0     3.4   6.500741e-65  reject H0\n",
       "0     3.5   2.891894e-27  reject H0\n",
       "0     3.6   5.188191e-27  reject H0\n",
       "0     3.7   3.221060e-14  reject H0\n",
       "0     4.2   1.359152e-08  reject H0\n",
       "0     4.3   5.179842e-05  reject H0\n",
       "0     4.4   1.446455e-16  reject H0\n",
       "0     4.5   2.171937e-23  reject H0\n",
       "0     4.6   1.150444e-02  accept H0\n",
       "0     4.7   5.612188e-02  accept H0\n",
       "0     4.8   3.861635e-01  accept H0\n",
       "0     4.9   5.009776e-04  reject H0\n",
       "0    4.10   1.744865e-01  accept H0"
      ]
     },
     "execution_count": 89,
     "metadata": {},
     "output_type": "execute_result"
    }
   ],
   "source": [
    "pData"
   ]
  },
  {
   "cell_type": "code",
   "execution_count": 90,
   "metadata": {},
   "outputs": [
    {
     "name": "stdout",
     "output_type": "stream",
     "text": [
      "\\begin{tabular}{ll}\n",
      "\\toprule\n",
      "version &         H0 \\\\\n",
      "\\midrule\n",
      "    3.0 &  reject H0 \\\\\n",
      "    3.1 &  reject H0 \\\\\n",
      "    3.2 &  reject H0 \\\\\n",
      "    3.3 &  reject H0 \\\\\n",
      "    3.4 &  reject H0 \\\\\n",
      "    3.5 &  reject H0 \\\\\n",
      "    3.6 &  reject H0 \\\\\n",
      "    3.7 &  reject H0 \\\\\n",
      "    4.2 &  reject H0 \\\\\n",
      "    4.3 &  reject H0 \\\\\n",
      "    4.4 &  reject H0 \\\\\n",
      "    4.5 &  reject H0 \\\\\n",
      "    4.6 &  accept H0 \\\\\n",
      "    4.7 &  accept H0 \\\\\n",
      "    4.8 &  accept H0 \\\\\n",
      "    4.9 &  reject H0 \\\\\n",
      "   4.10 &  accept H0 \\\\\n",
      "\\bottomrule\n",
      "\\end{tabular}\n",
      "\n"
     ]
    }
   ],
   "source": [
    "print(pData[['version','H0']].to_latex(index=False))"
   ]
  },
  {
   "cell_type": "code",
   "execution_count": 91,
   "metadata": {},
   "outputs": [],
   "source": [
    "pData.to_csv('.'+os.sep+'data'+os.sep+'RQ2'+os.sep+'logrank_test.csv',index=False)"
   ]
  }
 ],
 "metadata": {
  "kernelspec": {
   "display_name": "Python 3",
   "language": "python",
   "name": "python3"
  },
  "language_info": {
   "codemirror_mode": {
    "name": "ipython",
    "version": 3
   },
   "file_extension": ".py",
   "mimetype": "text/x-python",
   "name": "python",
   "nbconvert_exporter": "python",
   "pygments_lexer": "ipython3",
   "version": "3.6.8"
  }
 },
 "nbformat": 4,
 "nbformat_minor": 2
}
