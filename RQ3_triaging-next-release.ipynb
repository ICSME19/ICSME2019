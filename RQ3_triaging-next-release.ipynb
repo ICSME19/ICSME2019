{
 "cells": [
  {
   "cell_type": "markdown",
   "metadata": {},
   "source": [
    "# Triaging time of the bugs in the pre-release when approaching its publishing date"
   ]
  },
  {
   "cell_type": "code",
   "execution_count": null,
   "metadata": {},
   "outputs": [],
   "source": [
    "import pandas as pd\n",
    "import os\n",
    "import json\n",
    "import csv\n",
    "import re, datetime\n",
    "import matplotlib.pyplot as plt\n",
    "import seaborn as sns\n",
    "from datetime import date, timedelta\n",
    "from lifelines.statistics import logrank_test\n",
    "from lifelines import KaplanMeierFitter\n",
    "\n",
    "from global_functions import *"
   ]
  },
  {
   "cell_type": "code",
   "execution_count": null,
   "metadata": {},
   "outputs": [],
   "source": [
    "from scipy import stats\n",
    "\n",
    "def compare_distributions(tt,var1,var2,what): \n",
    "    \n",
    "    normal_test_var1 = stats.kstest(tt[tt[what]==var1].triaging_time.values.tolist(), 'norm')\n",
    "    normal_test_var2 = stats.kstest(tt[tt[what]==var2].triaging_time.values.tolist(), 'norm')\n",
    "    \n",
    "    #tt[[var1, var2]].plot(kind='box')\n",
    "    \n",
    "    #not normal distribution\n",
    "    if normal_test_var1.pvalue<0.05 or  normal_test_var2.pvalue<0.05:\n",
    "        print('At least one sample not normally distributed')\n",
    "        #wilkoxon\n",
    "        wresult = stats.ranksums(tt[tt[what]==var1].triaging_time, tt[tt[what]==var2].triaging_time)\n",
    "        \n",
    "        if wresult.pvalue<0.05:\n",
    "            print('Statistically significant difference found for:'+var1)\n",
    "        else:\n",
    "            print('Statistically significant difference NOT found for:'+var1)\n",
    "        print(wresult)\n",
    "    else:\n",
    "        print('Both samples are normally distributed')\n",
    "        #t-test\n",
    "        tresult = stats.ttest_rel(tt[tt[what]==var1].triaging_time, tt[tt[what]==var2].triaging_time)\n",
    "\n",
    "        if tresult.pvalue<0.05:\n",
    "            print('Statistically significant difference found for:'+var1)\n",
    "        else:\n",
    "            print('Statistically significant difference NOT found for:'+var1)\n",
    "        print(tresult)\n",
    " "
   ]
  },
  {
   "cell_type": "code",
   "execution_count": null,
   "metadata": {},
   "outputs": [],
   "source": [
    "release_creation_ts_all = get_release_dates()"
   ]
  },
  {
   "cell_type": "code",
   "execution_count": null,
   "metadata": {},
   "outputs": [],
   "source": [
    "#Load data\n",
    "df = pd.read_csv('data'+os.sep+'bugs_info.zip',index_col=False,compression='zip')\n",
    "df = df.fillna('')\n",
    "df['release'] = df.apply(lambda x : str(assign_to_closest_minor(x['version'])), axis=1)\n",
    "df['release'] = df['release'].astype(str)\n",
    "df = trans_to_datetime(df,['creation_time','first_assignment_date','last_assignment_date',\n",
    "                          'first_resolved_date','last_resolved_date',\n",
    "                           'first_fixed_date','last_fixed_date'])\n",
    "df.head(n=2)"
   ]
  },
  {
   "cell_type": "code",
   "execution_count": null,
   "metadata": {},
   "outputs": [],
   "source": [
    "yearly_file = 'data'+os.sep+'bugs_info.zip'\n",
    "df_monthly = pd.read_csv(yearly_file,index_col=False,compression='zip',\n",
    "                                        dtype={'release': str})\n",
    "df_monthly['release'] = df_monthly.apply(lambda x : str(assign_to_closest_minor(x['version'])), axis=1)\n",
    "df_monthly.head()"
   ]
  },
  {
   "cell_type": "code",
   "execution_count": null,
   "metadata": {},
   "outputs": [],
   "source": [
    "df_monthly.release.unique()"
   ]
  },
  {
   "cell_type": "code",
   "execution_count": null,
   "metadata": {},
   "outputs": [],
   "source": [
    "def get_monthly_triaging_stats_2(df_work,assignedFirst,resolvedFirst):\n",
    "    df_work = trans_to_datetime(df_work,['creation_time','first_assignment_date',\n",
    "       'last_assignment_date', 'first_resolved_date', 'last_resolved_date',\n",
    "       'first_fixed_date'])\n",
    "    \n",
    "    df_work['release'] = df_work['release'].astype(str)\n",
    "    mon_stats = pd.DataFrame()\n",
    "    \n",
    "    if assignedFirst:\n",
    "        assingment_column = 'first_assignment_date'\n",
    "    else:\n",
    "        assingment_column = 'last_assignment_date'\n",
    "        \n",
    "        \n",
    "    if resolvedFirst:\n",
    "        resolve_column = 'first_resolved_date'\n",
    "    else:\n",
    "        resolve_column = 'last_resolved_date'\n",
    "        \n",
    "\n",
    "    for release in sorted(df_work.release.unique().tolist()):\n",
    "        \n",
    "        \n",
    "        release = str(release)\n",
    "        pred=predecessor(list(release_creation_ts_all.keys()),release)\n",
    "        #print(release,pred)\n",
    "        release_date = release_creation_ts_all[release]\n",
    "        release_date = pd.to_datetime(release_date)\n",
    "\n",
    "        dfw = df_work[df_work['release']==release]\n",
    "        dfw = trans_to_datetime(dfw,['creation_time','first_assignment_date',\n",
    "       'last_assignment_date', 'first_resolved_date', 'last_resolved_date',\n",
    "       'first_fixed_date', 'last_fixed_date'])\n",
    "        \n",
    "        release_events = []\n",
    "        release_events.append(dfw.creation_time.min())\n",
    "        release_events.append(dfw.first_assignment_date.min())\n",
    "        end_inspection = min(release_events)\n",
    "        \n",
    "        month=-1\n",
    "        while month <11:\n",
    "            month+=1\n",
    "            end_period = release_date-timedelta(30*month)\n",
    "            if end_period < end_inspection:\n",
    "                print('hi break')\n",
    "                break\n",
    "            start_period = release_date-timedelta(30*(month+1))\n",
    "            \n",
    "            bugs_assigned = (\n",
    "                dfw[(dfw['first_assignment_date']>=start_period)\n",
    "                                 & \n",
    "                    (dfw['first_assignment_date']<end_period)]\n",
    "            )\n",
    "            bugs_assigned = bugs_assigned[['id','release','Product','creation_time','first_assignment_date']].drop_duplicates()\n",
    "            bugs_assigned['type'] = 'assigned'\n",
    "\n",
    "            all_dfs = pd.DataFrame()\n",
    "            all_dfs = all_dfs.append(bugs_assigned, ignore_index=True)\n",
    "            all_dfs['start_period'] = start_period\n",
    "            all_dfs['end_period'] = end_period\n",
    "            all_dfs['month'] = month+1\n",
    "            all_dfs['period'] = 'before'\n",
    "            all_dfs['release'] = release\n",
    "            #all_dfs['predecessor'] = str(pred)\n",
    "            \n",
    "            mon_stats = mon_stats.append(all_dfs,ignore_index=True)\n",
    "        \n",
    "    return mon_stats"
   ]
  },
  {
   "cell_type": "code",
   "execution_count": null,
   "metadata": {},
   "outputs": [],
   "source": [
    "e_target_file = 'data'+os.sep+'RQ3'+os.sep+'releases_monthly_stats_first_assign_E_2.zip'\n",
    "if not os.path.exists(e_target_file):\n",
    "    df_monthly_stats_first_2 = get_monthly_triaging_stats_2(df_monthly,assignedFirst=True,resolvedFirst=False)\n",
    "    df_monthly_stats_first_2.to_csv(e_target_file,index=False,compression='zip')\n",
    "else:\n",
    "    df_monthly_stats_first_2 = pd.read_csv(e_target_file,index_col=False,compression='zip',\n",
    "                                          dtype={'release': str,'predecessor': str})\n",
    "    \n"
   ]
  },
  {
   "cell_type": "code",
   "execution_count": null,
   "metadata": {},
   "outputs": [],
   "source": [
    "df_monthly_stats_first_2['release'] = df_monthly_stats_first_2['release'].astype(str)\n",
    "df_monthly_stats_first_2['month'] = df_monthly_stats_first_2.apply(lambda x : reverse_month(x['month']), axis=1)\n",
    "#df_monthly_stats_first_2 = sort_df(df_monthly_stats_first_2,'release')\n",
    "df_monthly_stats_first_2.head()"
   ]
  },
  {
   "cell_type": "code",
   "execution_count": null,
   "metadata": {
    "scrolled": true
   },
   "outputs": [],
   "source": [
    "file_target_e = 'data'+os.sep+'RQ3'+os.sep+'time_assign_E_2.csv.gz'\n",
    "if not os.path.exists(file_target_e):\n",
    "    df_total=df_monthly_stats_first_2.copy()\n",
    "    df_total = trans_to_datetime(df_total,['first_assignment_date','creation_time'])\n",
    "    df_total['triaging_time'] =df_total.apply(lambda x : (x['first_assignment_date']-x['creation_time']).days, axis=1)\n",
    "    df_total= df_total[['id','month','triaging_time' ,'release' ]]\n",
    "    \n",
    "    df_total.to_csv(file_target_e,index=False,compression='gzip')\n",
    "else:\n",
    "    df_total = pd.read_csv(file_target_e,index_col=False,compression='gzip',dtype={'release':str})\n",
    "df_total.head()"
   ]
  },
  {
   "cell_type": "code",
   "execution_count": null,
   "metadata": {
    "scrolled": true
   },
   "outputs": [],
   "source": [
    "r_month=[10,11,12]\n",
    "\n",
    "releases_only = df_total[['release']].drop_duplicates()\n",
    "releases_only = sort_df(releases_only,'release')\n",
    "releases_only = releases_only[['release']]\n",
    "\n",
    "for release in releases_only.release.unique():\n",
    "#release='4.3'\n",
    "    release=str(release)\n",
    "    if (release!='4.9') & (release!='4.10'):\n",
    "        print(release)\n",
    "        sns.set(style=\"whitegrid\")\n",
    "        draft=df_total[(df_total['release']==release) ]\n",
    "        ax = plt.subplot(1, 1,1)\n",
    "        \n",
    "         \n",
    "        sns.boxplot(x=\"month\", y=\"triaging_time\",\n",
    "              data=draft, palette=\"Set1\")\n",
    "        ax.set_xlabel(\"Approaching release \"+release)\n",
    "        ax.set_ylabel(\"Triaging duration in days\")\n",
    "        ax.set_yscale('log')\n",
    "        ax.set_ylim(0, 1800)\n",
    "        \n",
    "        plt.tight_layout( )\n",
    "        plt.show()\n",
    "        #ax.get_figure().savefig('..'+os.sep+'paper'+os.sep+'figs'+os.sep+'RQ3'+os.sep+'triagingRate_next'+release.replace('.', '-')+'.pdf', bbox_inches=\"tight\")\n",
    "        \n",
    "    else:\n",
    "        print(release)\n",
    "        sns.set(style=\"whitegrid\")\n",
    "        draft=df_total[(df_total['release']==release) & (df_total['month'].isin(r_month))]\n",
    "        ax = plt.subplot(1, 1,1)  \n",
    "        sns.boxplot(x=\"month\", y=\"triaging_time\",\n",
    "              data=draft, palette=\"Set1\")\n",
    "        ax.set_xlabel(\"Approaching release \"+release)\n",
    "        ax.set_ylabel(\"Triaging duration in days\")\n",
    "        ax.set_yscale('log')\n",
    "        ax.set_ylim(0, 1800)\n",
    "        ax.set_xticklabels( ('1', '2','3') )\n",
    "\n",
    "        plt.tight_layout( )\n",
    "        plt.show()\n",
    "        #ax.get_figure().savefig('..'+os.sep+'paper'+os.sep+'figs'+os.sep+'RQ3'+os.sep+'triagingRate_next'+release.replace('.', '-')+'.pdf', bbox_inches=\"tight\")            \n",
    "#plt.savefig('rq3t4-4.pdf')"
   ]
  }
 ],
 "metadata": {
  "kernelspec": {
   "display_name": "Python 3",
   "language": "python",
   "name": "python3"
  },
  "language_info": {
   "codemirror_mode": {
    "name": "ipython",
    "version": 3
   },
   "file_extension": ".py",
   "mimetype": "text/x-python",
   "name": "python",
   "nbconvert_exporter": "python",
   "pygments_lexer": "ipython3",
   "version": "3.6.8"
  }
 },
 "nbformat": 4,
 "nbformat_minor": 2
}
