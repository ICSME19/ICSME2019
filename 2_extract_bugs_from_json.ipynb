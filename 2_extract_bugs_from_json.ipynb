{
 "cells": [
  {
   "cell_type": "code",
   "execution_count": 1,
   "metadata": {},
   "outputs": [],
   "source": [
    "import requests\n",
    "import json\n",
    "import time\n",
    "import os\n",
    "import pandas as pd\n",
    "import requests\n",
    "import csv\n",
    "\n",
    "from global_functions import *"
   ]
  },
  {
   "cell_type": "markdown",
   "metadata": {},
   "source": [
    "### Information\n",
    "\n",
    "Input files:\n",
    "data_processing/bugs_info.csv\n",
    "\n",
    "Output files:\n",
    "raw_data/bug_history.csv (the initial bug history)\n",
    "raw_data/bug_history.csv (bug history after injecting assignment statuses )"
   ]
  },
  {
   "cell_type": "code",
   "execution_count": 2,
   "metadata": {},
   "outputs": [],
   "source": [
    "bug_info_file = 'data_processing'+os.sep+'bugs_info.csv'\n",
    "\n",
    "bug_history_file_orig = './raw_data/bug_history.csv'"
   ]
  },
  {
   "cell_type": "code",
   "execution_count": 3,
   "metadata": {},
   "outputs": [
    {
     "data": {
      "text/html": [
       "<div>\n",
       "<style scoped>\n",
       "    .dataframe tbody tr th:only-of-type {\n",
       "        vertical-align: middle;\n",
       "    }\n",
       "\n",
       "    .dataframe tbody tr th {\n",
       "        vertical-align: top;\n",
       "    }\n",
       "\n",
       "    .dataframe thead th {\n",
       "        text-align: right;\n",
       "    }\n",
       "</style>\n",
       "<table border=\"1\" class=\"dataframe\">\n",
       "  <thead>\n",
       "    <tr style=\"text-align: right;\">\n",
       "      <th></th>\n",
       "      <th>id</th>\n",
       "      <th>Product</th>\n",
       "      <th>version</th>\n",
       "      <th>resolution</th>\n",
       "      <th>status</th>\n",
       "      <th>severity</th>\n",
       "      <th>creation_time</th>\n",
       "      <th>priority</th>\n",
       "      <th>release</th>\n",
       "    </tr>\n",
       "  </thead>\n",
       "  <tbody>\n",
       "    <tr>\n",
       "      <th>0</th>\n",
       "      <td>475361</td>\n",
       "      <td>Platform</td>\n",
       "      <td>4.5</td>\n",
       "      <td>FIXED</td>\n",
       "      <td>RESOLVED</td>\n",
       "      <td>normal</td>\n",
       "      <td>2015-08-19 10:50:25</td>\n",
       "      <td>P3</td>\n",
       "      <td>4.5</td>\n",
       "    </tr>\n",
       "    <tr>\n",
       "      <th>1</th>\n",
       "      <td>475365</td>\n",
       "      <td>Platform</td>\n",
       "      <td>4.6</td>\n",
       "      <td>FIXED</td>\n",
       "      <td>RESOLVED</td>\n",
       "      <td>minor</td>\n",
       "      <td>2015-08-19 11:34:37</td>\n",
       "      <td>P3</td>\n",
       "      <td>4.6</td>\n",
       "    </tr>\n",
       "    <tr>\n",
       "      <th>2</th>\n",
       "      <td>475370</td>\n",
       "      <td>Platform</td>\n",
       "      <td>4.5</td>\n",
       "      <td>DUPLICATE</td>\n",
       "      <td>CLOSED</td>\n",
       "      <td>minor</td>\n",
       "      <td>2015-08-19 12:09:06</td>\n",
       "      <td>P3</td>\n",
       "      <td>4.5</td>\n",
       "    </tr>\n",
       "    <tr>\n",
       "      <th>3</th>\n",
       "      <td>475379</td>\n",
       "      <td>Platform</td>\n",
       "      <td>4.5</td>\n",
       "      <td>NaN</td>\n",
       "      <td>NEW</td>\n",
       "      <td>normal</td>\n",
       "      <td>2015-08-19 13:39:12</td>\n",
       "      <td>P3</td>\n",
       "      <td>4.5</td>\n",
       "    </tr>\n",
       "    <tr>\n",
       "      <th>4</th>\n",
       "      <td>475407</td>\n",
       "      <td>Platform</td>\n",
       "      <td>4.5</td>\n",
       "      <td>FIXED</td>\n",
       "      <td>RESOLVED</td>\n",
       "      <td>normal</td>\n",
       "      <td>2015-08-19 17:06:10</td>\n",
       "      <td>P3</td>\n",
       "      <td>4.5</td>\n",
       "    </tr>\n",
       "  </tbody>\n",
       "</table>\n",
       "</div>"
      ],
      "text/plain": [
       "       id   Product version resolution    status severity       creation_time  \\\n",
       "0  475361  Platform     4.5      FIXED  RESOLVED   normal 2015-08-19 10:50:25   \n",
       "1  475365  Platform     4.6      FIXED  RESOLVED    minor 2015-08-19 11:34:37   \n",
       "2  475370  Platform     4.5  DUPLICATE    CLOSED    minor 2015-08-19 12:09:06   \n",
       "3  475379  Platform     4.5        NaN       NEW   normal 2015-08-19 13:39:12   \n",
       "4  475407  Platform     4.5      FIXED  RESOLVED   normal 2015-08-19 17:06:10   \n",
       "\n",
       "  priority  release  \n",
       "0       P3      4.5  \n",
       "1       P3      4.6  \n",
       "2       P3      4.5  \n",
       "3       P3      4.5  \n",
       "4       P3      4.5  "
      ]
     },
     "execution_count": 3,
     "metadata": {},
     "output_type": "execute_result"
    }
   ],
   "source": [
    "df_bugs = pd.read_csv(bug_info_file,index_col=False)\n",
    "df_bugs = trans_to_datetime(df_bugs,['creation_time'])\n",
    "df_bugs.head()"
   ]
  },
  {
   "cell_type": "code",
   "execution_count": 4,
   "metadata": {},
   "outputs": [
    {
     "data": {
      "text/plain": [
       "141010"
      ]
     },
     "execution_count": 4,
     "metadata": {},
     "output_type": "execute_result"
    }
   ],
   "source": [
    "len(df_bugs.id.unique())"
   ]
  },
  {
   "cell_type": "code",
   "execution_count": null,
   "metadata": {
    "scrolled": true
   },
   "outputs": [],
   "source": [
    "def parse_eclipse_bug_history(bug_id):\n",
    "    tfile = './raw_data/json_history/'+str(bug_id)+'.json'\n",
    "    if os.path.exists(tfile):\n",
    "        return\n",
    "    link = 'https://bugs.eclipse.org/bugs/rest/bug/'+str(bug_id)+'/history'\n",
    "    ff = requests.get(link)\n",
    "    plat_bugs = ff.text\n",
    "    #print(plat_bugs)\n",
    "\n",
    "    jsonobj = json.loads(plat_bugs)\n",
    "    jsonobj = jsonobj['bugs']\n",
    "    with open(tfile, 'w') as outfile:\n",
    "        json.dump(jsonobj, outfile)\n",
    "\n",
    "for x in df_bugs.id.unique().tolist():\n",
    "    parse_eclipse_bug_history(x)"
   ]
  },
  {
   "cell_type": "code",
   "execution_count": null,
   "metadata": {},
   "outputs": [],
   "source": [
    "#get data from json files\n",
    "def getData(output_csv):\n",
    "    df = pd.DataFrame()\n",
    "    for item in output_csv:  \n",
    "        tdata = pd.io.json.json_normalize(item['history'])\n",
    "        tdata2 = flatten_nested_data(tdata)\n",
    "        tdata2['id'] = item['id']\n",
    "        df = df.append(tdata2)\n",
    "    return df"
   ]
  },
  {
   "cell_type": "code",
   "execution_count": null,
   "metadata": {
    "scrolled": true
   },
   "outputs": [],
   "source": [
    "#get data from json files\n",
    "path_to_json='./raw_data/json_history'\n",
    "\n",
    "if os.path.exists(bug_history_file_orig):\n",
    "    bug_history = pd.read_csv(bug_history_file_orig,index_col=False)\n",
    "else:\n",
    "    bug_history = pd.DataFrame()\n",
    "\n",
    "json_files = [pos_json for pos_json in os.listdir(path_to_json) if pos_json.endswith('.json')]\n",
    "\n",
    "print('size to parse:'+str(len(json_files)))\n",
    "if len(bug_history.columns)>0:\n",
    "    finished = bug_history.id.unique().tolist()\n",
    "    finished = [str(x)+'.json' for x in finished]\n",
    "    json_files = [x for x in json_files if x not in finished]\n",
    "    \n",
    "print('size to parse (after filtering parsed jsons):'+str(len(json_files)))\n",
    "\n",
    "if len(json_files)>0:\n",
    "    for file in json_files:\n",
    "        with open(path_to_json+os.sep+file) as f:\n",
    "            data = json.load(f)\n",
    "            tmp = getData(data)\n",
    "            tmp = tmp.rename(index=str,columns={'changes.added':'added',\n",
    "                                       'changes.field_name':'what',\n",
    "                                       'changes.removed':'removed'})\n",
    "\n",
    "            tmp = tmp[['added', 'id', 'removed', 'what', 'when','who']]\n",
    "            bug_history = bug_history.append(tmp,ignore_index=True)\n",
    "    #export the complete bug history file\n",
    "    bug_history.to_csv(bug_history_file_orig,index=False)"
   ]
  }
 ],
 "metadata": {
  "kernelspec": {
   "display_name": "Python 3",
   "language": "python",
   "name": "python3"
  },
  "language_info": {
   "codemirror_mode": {
    "name": "ipython",
    "version": 3
   },
   "file_extension": ".py",
   "mimetype": "text/x-python",
   "name": "python",
   "nbconvert_exporter": "python",
   "pygments_lexer": "ipython3",
   "version": "3.7.1"
  }
 },
 "nbformat": 4,
 "nbformat_minor": 2
}
