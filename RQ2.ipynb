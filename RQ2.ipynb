{
 "cells": [
  {
   "cell_type": "code",
   "execution_count": 25,
   "metadata": {},
   "outputs": [],
   "source": [
    "import pandas as pd\n",
    "import matplotlib.pyplot as plt\n",
    "import seaborn as sns\n",
    "import numpy as np\n",
    "from scipy.stats import norm\n",
    "from sklearn.preprocessing import StandardScaler\n",
    "from scipy import stats\n",
    "import warnings\n",
    "\n",
    "from lifelines import KaplanMeierFitter\n",
    "from lifelines.statistics import logrank_test"
   ]
  },
  {
   "cell_type": "code",
   "execution_count": 4,
   "metadata": {},
   "outputs": [],
   "source": [
    "dict1={\n",
    "\"4.3\" : \"26-6-2013 20:00:00\" ,\n",
    "\"4.4\" :  \"25-6-2014 12:15:00\" ,\n",
    "\"4.5\" : \"24-6-2015 20:00:00\" ,\n",
    "\"4.6\" :\"22-6-2016 11:00:00\",\n",
    "\"4.7\" :  \"28-6-2017 09:50:00\",\n",
    "\"4.8\" :  \"27-6-2018 00:00:00\"\n",
    "\n",
    "}"
   ]
  },
  {
   "cell_type": "code",
   "execution_count": 5,
   "metadata": {},
   "outputs": [],
   "source": [
    "arr=[\n",
    " \"25-6-2014 12:15:00\" ,\n",
    " \"24-6-2015 20:00:00\" ,\n",
    "\"22-6-2016 11:00:00\",\n",
    "  \"28-6-2017 09:50:00\",\n",
    "  \"27-6-2018 00:00:00\",\n",
    " \"27-6-2019 00:00:00\"\n",
    "]"
   ]
  },
  {
   "cell_type": "code",
   "execution_count": 6,
   "metadata": {},
   "outputs": [],
   "source": [
    "def keepVal(activity):\n",
    "    if activity=='NEW'or activity=='Assignee':\n",
    "        return 1\n",
    "    return 0"
   ]
  },
  {
   "cell_type": "code",
   "execution_count": 7,
   "metadata": {},
   "outputs": [],
   "source": [
    "def keepVal2(activity):\n",
    "    if activity=='Assignee'or activity=='FIXED':\n",
    "        return 1\n",
    "    return 0"
   ]
  },
  {
   "cell_type": "code",
   "execution_count": 29,
   "metadata": {},
   "outputs": [],
   "source": [
    "#read the CSV file\n",
    "df=pd.read_csv('db\\\\EC3.csv')\n",
    "\n",
    "df['creation_ts']=pd.to_datetime(df['creation_ts'])"
   ]
  },
  {
   "cell_type": "code",
   "execution_count": 9,
   "metadata": {},
   "outputs": [],
   "source": [
    "df = df[df['creation_ts']>='01-01-2013 00:00:00']"
   ]
  },
  {
   "cell_type": "code",
   "execution_count": 10,
   "metadata": {},
   "outputs": [],
   "source": [
    "allD=df"
   ]
  },
  {
   "cell_type": "code",
   "execution_count": 12,
   "metadata": {},
   "outputs": [],
   "source": [
    "df['keep']=df.apply(lambda x : keepVal(x['activity']), axis=1)\n",
    "df = df[df['keep']==1]\n",
    "df = df[['When', 'Who', 'activity', 'bug_id', 'bug_severity', 'bug_status',\n",
    "       'creation_ts', 'resolution', 'version']]"
   ]
  },
  {
   "cell_type": "code",
   "execution_count": 13,
   "metadata": {},
   "outputs": [],
   "source": [
    "df1=df\n",
    "df2=df"
   ]
  },
  {
   "cell_type": "code",
   "execution_count": 14,
   "metadata": {},
   "outputs": [],
   "source": [
    "df2=df2.groupby(by='bug_id', as_index=False).agg({'activity': pd.Series.nunique})\n",
    "df2 = df2[df2['activity']!=2]"
   ]
  },
  {
   "cell_type": "code",
   "execution_count": 15,
   "metadata": {},
   "outputs": [],
   "source": [
    "dfList = df2['bug_id'].tolist()"
   ]
  },
  {
   "cell_type": "code",
   "execution_count": 16,
   "metadata": {},
   "outputs": [],
   "source": [
    "gap =allD[~allD.bug_id.isin(dfList)]"
   ]
  },
  {
   "cell_type": "code",
   "execution_count": 17,
   "metadata": {},
   "outputs": [],
   "source": [
    "df=gap"
   ]
  },
  {
   "cell_type": "code",
   "execution_count": 18,
   "metadata": {},
   "outputs": [
    {
     "name": "stderr",
     "output_type": "stream",
     "text": [
      "C:\\Users\\zeinab\\Anaconda3\\lib\\site-packages\\ipykernel_launcher.py:1: SettingWithCopyWarning: \n",
      "A value is trying to be set on a copy of a slice from a DataFrame.\n",
      "Try using .loc[row_indexer,col_indexer] = value instead\n",
      "\n",
      "See the caveats in the documentation: http://pandas.pydata.org/pandas-docs/stable/indexing.html#indexing-view-versus-copy\n",
      "  \"\"\"Entry point for launching an IPython kernel.\n",
      "C:\\Users\\zeinab\\Anaconda3\\lib\\site-packages\\ipykernel_launcher.py:2: SettingWithCopyWarning: \n",
      "A value is trying to be set on a copy of a slice from a DataFrame.\n",
      "Try using .loc[row_indexer,col_indexer] = value instead\n",
      "\n",
      "See the caveats in the documentation: http://pandas.pydata.org/pandas-docs/stable/indexing.html#indexing-view-versus-copy\n",
      "  \n"
     ]
    }
   ],
   "source": [
    "df['When']=pd.to_datetime(df['When'])\n",
    "df['creation_ts']=pd.to_datetime(df['creation_ts'])"
   ]
  },
  {
   "cell_type": "code",
   "execution_count": 19,
   "metadata": {},
   "outputs": [],
   "source": [
    "tData=pd.DataFrame()\n",
    "id_before_release=0\n",
    "id_after_release=0\n",
    "id_RBRB=0\n",
    "id_RBFB=0\n",
    "id_RBRA=0\n",
    "id_RBFA=0\n",
    "id_RARA=0\n",
    "id_RAFA=0\n",
    "c=0\n",
    "for x in dict1:\n",
    "    data=pd.DataFrame()\n",
    "    #print(dict[x])\n",
    "    start_date = dict1[x]\n",
    "   \n",
    "    version= x\n",
    "   # print(x,dict[x])\n",
    "  #mask = (df['creation_ts'] > start_date) & (df['creation_ts'] <= end_date) & ((\"4.4.1\"==df['version'])  | (\"4.4\"==df['version']))\n",
    "    #mask = (df['creation_ts'] > start_date) & (df['creation_ts'] <= end_date) & (\"4.4\"==df['version'])\n",
    "    mask= (version==df['version'])  \n",
    "    #the bug before release \n",
    "    maskp = (version==df['version'])  & (df['creation_ts'] < start_date)\n",
    "    #the bug after release \n",
    "    maskpp = (version==df['version'])  & (df['creation_ts'] >= start_date) & (df['creation_ts'] < arr[c])\n",
    "     \n",
    "\n",
    "\n",
    "    #the bug created and resolved & before release \n",
    "    mask1 = (df['When'] < start_date) & (df['creation_ts'] <= start_date) & (version==df['version']) & (\"RESOLVED\"==df['activity']) \n",
    "    #the bug created and fixed before release \n",
    "    mask2 = (df['When'] < start_date) & (df['creation_ts'] <= start_date) & (version==df['version']) & (\"RESOLVED\"==df['activity'])  & (\"FIXED\"==df['resolution'])\n",
    "\n",
    "    #the bug created before release and resolved  after release \n",
    "    mask3 = (df['When'] > start_date) & (df['creation_ts'] <= start_date) & (version==df['version']) & (\"RESOLVED\"==df['activity'])\n",
    "    #the bug created before release and fixed after release \n",
    "    mask4 = (df['When'] > start_date) & (df['creation_ts'] <= start_date) & (version==df['version']) & (\"RESOLVED\"==df['activity']) & (\"FIXED\"==df['resolution']) \n",
    "    #the bug created after release  and resolved\n",
    "    mask5 = (df['creation_ts'] >= start_date) & (df['creation_ts'] < arr[c]) & (version==df['version']) & (\"RESOLVED\"==df['activity']) \n",
    "    #the bug created after release  and fixed \n",
    "    mask6 = (df['creation_ts'] >= start_date) & (df['creation_ts'] <arr[c]) & (version==df['version']) & (\"RESOLVED\"==df['activity']) & (\"FIXED\"==df['resolution'])\n",
    "\n",
    "    c=c+1\n",
    "    dff = df.loc[mask]\n",
    "    dffp = df.loc[maskp]\n",
    "    dffpp = df.loc[maskpp]\n",
    "    dff1 = df.loc[mask1]\n",
    "    dff2 = df.loc[mask2]\n",
    "    dff3 = df.loc[mask3]\n",
    "    dff4 = df.loc[mask4]\n",
    "    dff5 = df.loc[mask5]\n",
    "    dff6 = df.loc[mask6]\n",
    "    id_before_release=dffp.bug_id.unique()\n",
    "    id_after_release=dffpp.bug_id.unique()\n",
    "    id_RBRB=dff1.bug_id.unique()\n",
    "    id_RBFB=dff2.bug_id.unique()\n",
    "    id_RBRA=dff3.bug_id.unique()\n",
    "    id_RBFA=dff4.bug_id.unique()\n",
    "    id_RARA=dff5.bug_id.unique()\n",
    "    id_RAFA=dff6.bug_id.unique()\n",
    "    \n",
    "    TOTAL=len(dff.bug_id.unique())\n",
    "    data=pd.DataFrame({\"version\": [version] , \"total\":[ TOTAL] , 'id_RBRB':[id_RBRB]\n",
    "   , 'id_RBFB':[id_RBFB]\n",
    "   , 'id_RBRA':[id_RBRA]\n",
    "   ,'id_RBFA':[id_RBFA]\n",
    "   , 'id_RARA':[id_RARA]\n",
    "   , 'id_RAFA':[id_RAFA]\n",
    "            \n",
    "   })\n",
    "\n",
    "    tData=tData.append(data)"
   ]
  },
  {
   "cell_type": "code",
   "execution_count": 20,
   "metadata": {},
   "outputs": [
    {
     "data": {
      "text/html": [
       "<div>\n",
       "<style scoped>\n",
       "    .dataframe tbody tr th:only-of-type {\n",
       "        vertical-align: middle;\n",
       "    }\n",
       "\n",
       "    .dataframe tbody tr th {\n",
       "        vertical-align: top;\n",
       "    }\n",
       "\n",
       "    .dataframe thead th {\n",
       "        text-align: right;\n",
       "    }\n",
       "</style>\n",
       "<table border=\"1\" class=\"dataframe\">\n",
       "  <thead>\n",
       "    <tr style=\"text-align: right;\">\n",
       "      <th></th>\n",
       "      <th>version</th>\n",
       "      <th>total</th>\n",
       "      <th>id_RBRB</th>\n",
       "      <th>id_RBFB</th>\n",
       "      <th>id_RBRA</th>\n",
       "      <th>id_RBFA</th>\n",
       "      <th>id_RARA</th>\n",
       "      <th>id_RAFA</th>\n",
       "    </tr>\n",
       "  </thead>\n",
       "  <tbody>\n",
       "    <tr>\n",
       "      <th>0</th>\n",
       "      <td>4.3</td>\n",
       "      <td>1844</td>\n",
       "      <td>[403102, 401230, 398176, 407588, 407130, 39918...</td>\n",
       "      <td>[403102, 398176, 406469, 399794, 403810, 40551...</td>\n",
       "      <td>[401312, 400374, 409854, 401015, 401632, 40123...</td>\n",
       "      <td>[401312, 400374, 401015, 401632, 405539, 40695...</td>\n",
       "      <td>[424274, 436645, 417026, 419510, 413493, 41410...</td>\n",
       "      <td>[424274, 436645, 417026, 419510, 412970, 41393...</td>\n",
       "    </tr>\n",
       "    <tr>\n",
       "      <th>0</th>\n",
       "      <td>4.4</td>\n",
       "      <td>3143</td>\n",
       "      <td>[425646, 426527, 422027, 417676, 429505, 42993...</td>\n",
       "      <td>[426527, 429505, 429932, 430127, 436301, 43117...</td>\n",
       "      <td>[436469, 417441, 437005, 436091, 432466, 42047...</td>\n",
       "      <td>[437005, 436091, 432466, 420479, 434303, 41390...</td>\n",
       "      <td>[463455, 461554, 448916, 442285, 459304, 44182...</td>\n",
       "      <td>[448916, 442285, 440300, 440687, 440629, 44047...</td>\n",
       "    </tr>\n",
       "    <tr>\n",
       "      <th>0</th>\n",
       "      <td>4.5</td>\n",
       "      <td>1886</td>\n",
       "      <td>[462201, 454590, 457079, 448762, 463272, 46458...</td>\n",
       "      <td>[462201, 454590, 457079, 448762, 463272, 46458...</td>\n",
       "      <td>[444477, 466920, 463720, 469537, 470542, 46649...</td>\n",
       "      <td>[463720, 469537, 470542, 466499, 464081, 44621...</td>\n",
       "      <td>[490968, 478708, 477677, 477527, 475115, 47554...</td>\n",
       "      <td>[490968, 478708, 477677, 477527, 478242, 48465...</td>\n",
       "    </tr>\n",
       "    <tr>\n",
       "      <th>0</th>\n",
       "      <td>4.6</td>\n",
       "      <td>2253</td>\n",
       "      <td>[484992, 485084, 485097, 479855, 485068, 48337...</td>\n",
       "      <td>[484992, 485084, 479855, 483375, 485139, 48469...</td>\n",
       "      <td>[475547, 482851, 496316, 495241, 495904, 49563...</td>\n",
       "      <td>[482851, 496316, 495241, 495904, 495634, 48757...</td>\n",
       "      <td>[515233, 496984, 496902, 497023, 497046, 49704...</td>\n",
       "      <td>[515233, 496984, 497023, 497046, 497048, 49704...</td>\n",
       "    </tr>\n",
       "    <tr>\n",
       "      <th>0</th>\n",
       "      <td>4.7</td>\n",
       "      <td>2272</td>\n",
       "      <td>[496868, 497013, 496756, 497039, 497052, 49708...</td>\n",
       "      <td>[496868, 497013, 496756, 497039, 497052, 49708...</td>\n",
       "      <td>[515092, 518080, 501720, 517161, 518556, 51731...</td>\n",
       "      <td>[515092, 518080, 501720, 517161, 518556, 51731...</td>\n",
       "      <td>[519992, 519026, 519032, 519056, 518905, 51915...</td>\n",
       "      <td>[519992, 519026, 519032, 519056, 518905, 51915...</td>\n",
       "    </tr>\n",
       "    <tr>\n",
       "      <th>0</th>\n",
       "      <td>4.8</td>\n",
       "      <td>1565</td>\n",
       "      <td>[518772, 518956, 518431, 516533, 519714, 51935...</td>\n",
       "      <td>[518772, 518956, 518431, 516533, 519714, 51935...</td>\n",
       "      <td>[528766, 536308, 526955, 534123, 527052, 53083...</td>\n",
       "      <td>[528766, 536308, 526955, 534123, 527052, 53083...</td>\n",
       "      <td>[538433, 540032, 539279, 539922, 540220, 54028...</td>\n",
       "      <td>[538433, 540032, 539279, 539922, 540220, 54028...</td>\n",
       "    </tr>\n",
       "  </tbody>\n",
       "</table>\n",
       "</div>"
      ],
      "text/plain": [
       "  version  total                                            id_RBRB  \\\n",
       "0     4.3   1844  [403102, 401230, 398176, 407588, 407130, 39918...   \n",
       "0     4.4   3143  [425646, 426527, 422027, 417676, 429505, 42993...   \n",
       "0     4.5   1886  [462201, 454590, 457079, 448762, 463272, 46458...   \n",
       "0     4.6   2253  [484992, 485084, 485097, 479855, 485068, 48337...   \n",
       "0     4.7   2272  [496868, 497013, 496756, 497039, 497052, 49708...   \n",
       "0     4.8   1565  [518772, 518956, 518431, 516533, 519714, 51935...   \n",
       "\n",
       "                                             id_RBFB  \\\n",
       "0  [403102, 398176, 406469, 399794, 403810, 40551...   \n",
       "0  [426527, 429505, 429932, 430127, 436301, 43117...   \n",
       "0  [462201, 454590, 457079, 448762, 463272, 46458...   \n",
       "0  [484992, 485084, 479855, 483375, 485139, 48469...   \n",
       "0  [496868, 497013, 496756, 497039, 497052, 49708...   \n",
       "0  [518772, 518956, 518431, 516533, 519714, 51935...   \n",
       "\n",
       "                                             id_RBRA  \\\n",
       "0  [401312, 400374, 409854, 401015, 401632, 40123...   \n",
       "0  [436469, 417441, 437005, 436091, 432466, 42047...   \n",
       "0  [444477, 466920, 463720, 469537, 470542, 46649...   \n",
       "0  [475547, 482851, 496316, 495241, 495904, 49563...   \n",
       "0  [515092, 518080, 501720, 517161, 518556, 51731...   \n",
       "0  [528766, 536308, 526955, 534123, 527052, 53083...   \n",
       "\n",
       "                                             id_RBFA  \\\n",
       "0  [401312, 400374, 401015, 401632, 405539, 40695...   \n",
       "0  [437005, 436091, 432466, 420479, 434303, 41390...   \n",
       "0  [463720, 469537, 470542, 466499, 464081, 44621...   \n",
       "0  [482851, 496316, 495241, 495904, 495634, 48757...   \n",
       "0  [515092, 518080, 501720, 517161, 518556, 51731...   \n",
       "0  [528766, 536308, 526955, 534123, 527052, 53083...   \n",
       "\n",
       "                                             id_RARA  \\\n",
       "0  [424274, 436645, 417026, 419510, 413493, 41410...   \n",
       "0  [463455, 461554, 448916, 442285, 459304, 44182...   \n",
       "0  [490968, 478708, 477677, 477527, 475115, 47554...   \n",
       "0  [515233, 496984, 496902, 497023, 497046, 49704...   \n",
       "0  [519992, 519026, 519032, 519056, 518905, 51915...   \n",
       "0  [538433, 540032, 539279, 539922, 540220, 54028...   \n",
       "\n",
       "                                             id_RAFA  \n",
       "0  [424274, 436645, 417026, 419510, 412970, 41393...  \n",
       "0  [448916, 442285, 440300, 440687, 440629, 44047...  \n",
       "0  [490968, 478708, 477677, 477527, 478242, 48465...  \n",
       "0  [515233, 496984, 497023, 497046, 497048, 49704...  \n",
       "0  [519992, 519026, 519032, 519056, 518905, 51915...  \n",
       "0  [538433, 540032, 539279, 539922, 540220, 54028...  "
      ]
     },
     "execution_count": 20,
     "metadata": {},
     "output_type": "execute_result"
    }
   ],
   "source": [
    "#tData"
   ]
  },
  {
   "cell_type": "code",
   "execution_count": 21,
   "metadata": {},
   "outputs": [
    {
     "name": "stderr",
     "output_type": "stream",
     "text": [
      "C:\\Users\\zeinab\\Anaconda3\\lib\\site-packages\\ipykernel_launcher.py:5: SettingWithCopyWarning: \n",
      "A value is trying to be set on a copy of a slice from a DataFrame.\n",
      "Try using .loc[row_indexer,col_indexer] = value instead\n",
      "\n",
      "See the caveats in the documentation: http://pandas.pydata.org/pandas-docs/stable/indexing.html#indexing-view-versus-copy\n",
      "  \"\"\"\n",
      "C:\\Users\\zeinab\\Anaconda3\\lib\\site-packages\\ipykernel_launcher.py:24: SettingWithCopyWarning: \n",
      "A value is trying to be set on a copy of a slice from a DataFrame.\n",
      "Try using .loc[row_indexer,col_indexer] = value instead\n",
      "\n",
      "See the caveats in the documentation: http://pandas.pydata.org/pandas-docs/stable/indexing.html#indexing-view-versus-copy\n"
     ]
    }
   ],
   "source": [
    "for index, row in tData.iterrows():\n",
    "    df3=df[df.bug_id.isin(row['id_RBRB'])]\n",
    "   # print(len(row['id_RAFA']))\n",
    "    version=row['version']\n",
    "    df3['keep']=df3.apply(lambda x : keepVal(x['activity']), axis=1)\n",
    "    df3 = df3[df3['keep']==1]\n",
    "    df3 = df3[['When', 'activity', 'bug_id']]\n",
    "\n",
    "    df3['When']=pd.to_datetime(df3['When'])\n",
    "    #print (df3.groupby('bug_id').groups)\n",
    "    df3=df3.groupby(['bug_id','activity'])['When'].min().reset_index()\n",
    "    df3['diff'] = df3.groupby('bug_id')['When'].transform(lambda x: (x.max()-x.min()).days)\n",
    "    df3=df3.groupby('bug_id').first().reset_index()\n",
    "    df3= df3[['bug_id',\n",
    "     'When',\n",
    "     'diff']]\n",
    "    df3['done'] = '1'\n",
    "    df3.to_csv('db\\\\Eclipse-RBRB_'+str(version)+'.csv',index=False)\n",
    "    \n",
    "    \n",
    "    \n",
    "    df4=df[df.bug_id.isin(row['id_RARA'])]\n",
    "   # print(len(row['id_RAFA']))\n",
    "    df4['keep']=df4.apply(lambda x : keepVal(x['activity']), axis=1)\n",
    "    df4 = df4[df4['keep']==1]\n",
    "    df4 = df4[['When', 'activity', 'bug_id']]\n",
    "\n",
    "    df4['When']=pd.to_datetime(df4['When'])\n",
    "    #print (df3.groupby('bug_id').groups)\n",
    "    df4=df4.groupby(['bug_id','activity'])['When'].min().reset_index()\n",
    "    df4['diff'] = df4.groupby('bug_id')['When'].transform(lambda x: (x.max()-x.min()).days)\n",
    "    df4=df4.groupby('bug_id').first().reset_index()\n",
    "    df4= df4[['bug_id',\n",
    "     'When',\n",
    "     'diff']]\n",
    "    df4['done'] = '1'\n",
    "    df4.to_csv('db\\\\Eclipse-RARA_'+str(version)+'.csv',index=False)\n",
    "    \n",
    "   # print (row['id_RAFA'], row['id_RARA'])\n",
    "    #break\n",
    "\n",
    "#fg=tData[0]"
   ]
  },
  {
   "cell_type": "code",
   "execution_count": 22,
   "metadata": {},
   "outputs": [
    {
     "data": {
      "image/png": "[encoded data removed]",
      "text/plain": [
       "<Figure size 432x288 with 6 Axes>"
      ]
     },
     "metadata": {
      "needs_background": "light"
     },
     "output_type": "display_data"
    }
   ],
   "source": [
    "kmf = KaplanMeierFitter()\n",
    "\n",
    "draft1 = pd.read_csv('db\\\\Eclipse-RBRB_4.3.csv')\n",
    "draft2 = pd.read_csv('db\\\\Eclipse-RARA_4.3.csv')\n",
    "data1=['4.3',draft1,draft2]\n",
    "draft3 = pd.read_csv('db\\\\Eclipse-RBRB_4.4.csv')\n",
    "draft4 = pd.read_csv('db\\\\Eclipse-RARA_4.4.csv')\n",
    "data2=['4.4',draft3,draft4]\n",
    "draft5 = pd.read_csv('db\\\\Eclipse-RBRB_4.5.csv')\n",
    "draft6 = pd.read_csv('db\\\\Eclipse-RARA_4.5.csv')\n",
    "data3=['4.5',draft5,draft6]\n",
    "draft7 = pd.read_csv('db\\\\Eclipse-RBRB_4.6.csv')\n",
    "draft8 = pd.read_csv('db\\\\Eclipse-RARA_4.6.csv')\n",
    "data4=['4.6',draft7,draft8]\n",
    "draft9 = pd.read_csv('db\\\\Eclipse-RBRB_4.7.csv')\n",
    "draft10 = pd.read_csv('db\\\\Eclipse-RARA_4.7.csv')\n",
    "data5=['4.7',draft9,draft10]\n",
    "draft11 = pd.read_csv('db\\\\Eclipse-RBRB_4.8.csv')\n",
    "draft12 = pd.read_csv('db\\\\Eclipse-RARA_4.8.csv')\n",
    "data6=['4.8',draft11,draft12]\n",
    "allf=[data1,data2,data3,data4,data5,data6]\n",
    "time=['RBRB','RARA']\n",
    "for i,file in enumerate(allf):\n",
    "    ax = plt.subplot(2, 3, i+1)\n",
    "    for j,dat in enumerate(file):\n",
    "        if j==0:\n",
    "            version=dat\n",
    "        else:\n",
    "            T = dat[\"diff\"]\n",
    "            E = dat[\"done\"]\n",
    "            kmf.fit( T, E, label=time[j-1])\n",
    "            kmf.plot(ax=ax, ci_force_lines=True)\n",
    "    plt.title(version)\n",
    "    plt.xlim(0, 265)\n",
    "    if i==0:\n",
    "        plt.ylabel('triaging time over releases')\n",
    "plt.tight_layout()\n"
   ]
  },
  {
   "cell_type": "code",
   "execution_count": 26,
   "metadata": {},
   "outputs": [
    {
     "name": "stdout",
     "output_type": "stream",
     "text": [
      "4.3\n",
      "4.4\n",
      "4.5\n",
      "4.6\n",
      "4.7\n",
      "4.8\n"
     ]
    }
   ],
   "source": [
    "allf=[data1,data2,data3,data4,data5,data6]\n",
    "pData=pd.DataFrame()\n",
    "T=[None] * 2\n",
    "E=[None] * 2\n",
    "results=[None] * 6\n",
    "for i,file in enumerate(allf):\n",
    "    k=0\n",
    "    for j,dat in enumerate(file):\n",
    "        if j==0:\n",
    "            version=dat\n",
    "        else:\n",
    "            T[k] = dat[\"diff\"]\n",
    "            E[k] = dat[\"done\"]\n",
    "            k=k+1\n",
    "    results[i] = logrank_test(T[0], T[1], E[0], E[1], alpha=.95).p_value\n",
    "    pDat=pd.DataFrame({'version': [version] , 'p':[results[i]] })\n",
    "\n",
    "    #print(version)\n",
    "    pData=pData.append(pDat)\n",
    " \n"
   ]
  },
  {
   "cell_type": "code",
   "execution_count": 27,
   "metadata": {},
   "outputs": [
    {
     "data": {
      "text/html": [
       "<div>\n",
       "<style scoped>\n",
       "    .dataframe tbody tr th:only-of-type {\n",
       "        vertical-align: middle;\n",
       "    }\n",
       "\n",
       "    .dataframe tbody tr th {\n",
       "        vertical-align: top;\n",
       "    }\n",
       "\n",
       "    .dataframe thead th {\n",
       "        text-align: right;\n",
       "    }\n",
       "</style>\n",
       "<table border=\"1\" class=\"dataframe\">\n",
       "  <thead>\n",
       "    <tr style=\"text-align: right;\">\n",
       "      <th></th>\n",
       "      <th>version</th>\n",
       "      <th>p</th>\n",
       "    </tr>\n",
       "  </thead>\n",
       "  <tbody>\n",
       "    <tr>\n",
       "      <th>0</th>\n",
       "      <td>4.3</td>\n",
       "      <td>2.498348e-10</td>\n",
       "    </tr>\n",
       "    <tr>\n",
       "      <th>0</th>\n",
       "      <td>4.4</td>\n",
       "      <td>2.450498e-02</td>\n",
       "    </tr>\n",
       "    <tr>\n",
       "      <th>0</th>\n",
       "      <td>4.5</td>\n",
       "      <td>2.338813e-22</td>\n",
       "    </tr>\n",
       "    <tr>\n",
       "      <th>0</th>\n",
       "      <td>4.6</td>\n",
       "      <td>6.143975e-04</td>\n",
       "    </tr>\n",
       "    <tr>\n",
       "      <th>0</th>\n",
       "      <td>4.7</td>\n",
       "      <td>4.989558e-02</td>\n",
       "    </tr>\n",
       "    <tr>\n",
       "      <th>0</th>\n",
       "      <td>4.8</td>\n",
       "      <td>9.145052e-01</td>\n",
       "    </tr>\n",
       "  </tbody>\n",
       "</table>\n",
       "</div>"
      ],
      "text/plain": [
       "  version             p\n",
       "0     4.3  2.498348e-10\n",
       "0     4.4  2.450498e-02\n",
       "0     4.5  2.338813e-22\n",
       "0     4.6  6.143975e-04\n",
       "0     4.7  4.989558e-02\n",
       "0     4.8  9.145052e-01"
      ]
     },
     "execution_count": 27,
     "metadata": {},
     "output_type": "execute_result"
    }
   ],
   "source": [
    "pData= pData[['version' , 'p']]\n",
    "pData"
   ]
  },
  {
   "cell_type": "code",
   "execution_count": 34,
   "metadata": {},
   "outputs": [
    {
     "data": {
      "image/png": "[encoded data removed]",
      "text/plain": [
       "<matplotlib.figure.Figure at 0x1db029954e0>"
      ]
     },
     "metadata": {
      "needs_background": "light"
     },
     "output_type": "display_data"
    }
   ],
   "source": [
    " ax = plt.subplot(2, 3, 1)\n",
    "kmf = KaplanMeierFitter()\n",
    "\n",
    "draft1 = pd.read_csv('db\\\\Eclipse-RBRB_4.3.csv')\n",
    "\n",
    "\n",
    "draft3 = pd.read_csv('db\\\\Eclipse-RBRB_4.4.csv')\n",
    "\n",
    "draft5 = pd.read_csv('db\\\\Eclipse-RBRB_4.5.csv')\n",
    "\n",
    "draft7 = pd.read_csv('db\\\\Eclipse-RBRB_4.6.csv')\n",
    "\n",
    "draft9 = pd.read_csv('db\\\\Eclipse-RBRB_4.7.csv')\n",
    "\n",
    "T = draft2[\"diff\"]\n",
    "E = draft2[\"done\"]\n",
    "kmf.fit( T, E, label='4.3')\n",
    "kmf.survival_function_.plot(ax=ax)\n",
    "T = draft4[\"diff\"]\n",
    "E = draft4[\"done\"]\n",
    "kmf.fit( T, E, label='4.4')\n",
    "kmf.survival_function_.plot(ax=ax)\n",
    "T = draft6[\"diff\"]\n",
    "E = draft6[\"done\"]\n",
    "kmf.fit( T, E, label='4.5')\n",
    "kmf.survival_function_.plot(ax=ax)\n",
    "T = draft8[\"diff\"]\n",
    "E = draft8[\"done\"]\n",
    "kmf.fit( T, E, label='4.6')\n",
    "kmf.survival_function_.plot(ax=ax)\n",
    "T = draft10[\"diff\"]\n",
    "E = draft10[\"done\"]\n",
    "kmf.fit( T, E, label='4.7')\n",
    "kmf.survival_function_.plot(ax=ax)\n",
    "\n",
    "plt.title(version)\n",
    "plt.xlim(0, 265)\n",
    "  \n",
    "plt.ylabel('triaging time over releases')\n",
    "plt.tight_layout()\n"
   ]
  },
  {
   "cell_type": "code",
   "execution_count": 68,
   "metadata": {},
   "outputs": [],
   "source": [
    "\n",
    "#results.print_summary()"
   ]
  },
  {
   "cell_type": "code",
   "execution_count": 93,
   "metadata": {},
   "outputs": [
    {
     "name": "stderr",
     "output_type": "stream",
     "text": [
      "C:\\Users\\zeinab\\Anaconda3\\lib\\site-packages\\ipykernel_launcher.py:5: SettingWithCopyWarning: \n",
      "A value is trying to be set on a copy of a slice from a DataFrame.\n",
      "Try using .loc[row_indexer,col_indexer] = value instead\n",
      "\n",
      "See the caveats in the documentation: http://pandas.pydata.org/pandas-docs/stable/indexing.html#indexing-view-versus-copy\n",
      "  \"\"\"\n",
      "C:\\Users\\zeinab\\Anaconda3\\lib\\site-packages\\ipykernel_launcher.py:24: SettingWithCopyWarning: \n",
      "A value is trying to be set on a copy of a slice from a DataFrame.\n",
      "Try using .loc[row_indexer,col_indexer] = value instead\n",
      "\n",
      "See the caveats in the documentation: http://pandas.pydata.org/pandas-docs/stable/indexing.html#indexing-view-versus-copy\n"
     ]
    }
   ],
   "source": [
    "for index, row in tData.iterrows():\n",
    "    df3=df[df.bug_id.isin(row['id_RBRB'])]\n",
    "   # print(len(row['id_RAFA']))\n",
    "    version=row['version']\n",
    "    df3['keep']=df3.apply(lambda x : keepVal2(x['activity']), axis=1)\n",
    "    df3 = df3[df3['keep']==1]\n",
    "    df3 = df3[['When', 'activity', 'bug_id']]\n",
    "\n",
    "    df3['When']=pd.to_datetime(df3['When'])\n",
    "    #print (df3.groupby('bug_id').groups)\n",
    "    df3=df3.groupby(['bug_id','activity'])['When'].min().reset_index()\n",
    "    df3['diff'] = df3.groupby('bug_id')['When'].transform(lambda x: (x.max()-x.min()).days)\n",
    "    df3=df3.groupby('bug_id').first().reset_index()\n",
    "    df3= df3[['bug_id',\n",
    "     'When',\n",
    "     'diff']]\n",
    "    df3['done'] = '1'\n",
    "    df3.to_csv('db\\\\FEclipse-RBRB_'+str(version)+'.csv',index=False)\n",
    "    \n",
    "    \n",
    "    \n",
    "    df4=df[df.bug_id.isin(row['id_RARA'])]\n",
    "   # print(len(row['id_RAFA']))\n",
    "    df4['keep']=df4.apply(lambda x : keepVal2(x['activity']), axis=1)\n",
    "    df4 = df4[df4['keep']==1]\n",
    "    df4 = df4[['When', 'activity', 'bug_id']]\n",
    "\n",
    "    df4['When']=pd.to_datetime(df4['When'])\n",
    "    #print (df3.groupby('bug_id').groups)\n",
    "    df4=df4.groupby(['bug_id','activity'])['When'].min().reset_index()\n",
    "    df4['diff'] = df4.groupby('bug_id')['When'].transform(lambda x: (x.max()-x.min()).days)\n",
    "    df4=df4.groupby('bug_id').first().reset_index()\n",
    "    df4= df4[['bug_id',\n",
    "     'When',\n",
    "     'diff']]\n",
    "    df4['done'] = '1'\n",
    "    df4.to_csv('db\\\\FEclipse-RARA_'+str(version)+'.csv',index=False)\n",
    "    \n",
    "   # print (row['id_RAFA'], row['id_RARA'])\n",
    "    #break\n",
    "\n",
    "#fg=tData[0]"
   ]
  },
  {
   "cell_type": "code",
   "execution_count": 94,
   "metadata": {},
   "outputs": [
    {
     "data": {
      "image/png": "[encoded data removed]",
      "text/plain": [
       "<matplotlib.figure.Figure at 0x1db02756278>"
      ]
     },
     "metadata": {
      "needs_background": "light"
     },
     "output_type": "display_data"
    }
   ],
   "source": [
    "kmf = KaplanMeierFitter()\n",
    "\n",
    "draft1 = pd.read_csv('db\\\\FEclipse-RBRB_4.3.csv')\n",
    "draft2 = pd.read_csv('db\\\\FEclipse-RARA_4.3.csv')\n",
    "data1=['4.3',draft1,draft2]\n",
    "draft3 = pd.read_csv('db\\\\FEclipse-RBRB_4.4.csv')\n",
    "draft4 = pd.read_csv('db\\\\FEclipse-RARA_4.4.csv')\n",
    "data2=['4.4',draft3,draft4]\n",
    "draft5 = pd.read_csv('db\\\\FEclipse-RBRB_4.5.csv')\n",
    "draft6 = pd.read_csv('db\\\\FEclipse-RARA_4.5.csv')\n",
    "data3=['4.5',draft5,draft6]\n",
    "draft7 = pd.read_csv('db\\\\FEclipse-RBRB_4.6.csv')\n",
    "draft8 = pd.read_csv('db\\\\FEclipse-RARA_4.6.csv')\n",
    "data4=['4.6',draft7,draft8]\n",
    "draft9 = pd.read_csv('db\\\\FEclipse-RBRB_4.7.csv')\n",
    "draft10 = pd.read_csv('db\\\\FEclipse-RARA_4.7.csv')\n",
    "data5=['4.7',draft9,draft10]\n",
    "draft11 = pd.read_csv('db\\\\FEclipse-RBRB_4.8.csv')\n",
    "draft12 = pd.read_csv('db\\\\FEclipse-RARA_4.8.csv')\n",
    "data6=['4.8',draft11,draft12]\n",
    "allf=[data1,data2,data3,data4,data5,data6]\n",
    "time=['RBRB','RARA']\n",
    "for i,file in enumerate(allf):\n",
    "    ax = plt.subplot(2, 3, i+1)\n",
    "    for j,dat in enumerate(file):\n",
    "        if j==0:\n",
    "            version=dat\n",
    "        else:\n",
    "            T = dat[\"diff\"]\n",
    "            E = dat[\"done\"]\n",
    "            kmf.fit( T, E, label=time[j-1])\n",
    "            kmf.plot(ax=ax, ci_force_lines=True)\n",
    "    plt.title(version)\n",
    "    plt.xlim(0, 265)\n",
    "    if i==0:\n",
    "        plt.ylabel('fixing time over releases')\n",
    "plt.tight_layout()"
   ]
  },
  {
   "cell_type": "code",
   "execution_count": 66,
   "metadata": {},
   "outputs": [
    {
     "name": "stdout",
     "output_type": "stream",
     "text": [
      "4.3\n",
      "4.4\n",
      "4.5\n",
      "4.6\n",
      "4.7\n"
     ]
    }
   ],
   "source": [
    "allf=[data1,data2,data3,data4,data5]\n",
    "pData=pd.DataFrame()\n",
    "T=[None] * 2\n",
    "E=[None] * 2\n",
    "results=[None] * 5\n",
    "for i,file in enumerate(allf):\n",
    "    k=0\n",
    "    for j,dat in enumerate(file):\n",
    "        if j==0:\n",
    "            version=dat\n",
    "        else:\n",
    "            T[k] = dat[\"diff\"]\n",
    "            E[k] = dat[\"done\"]\n",
    "            k=k+1\n",
    "    results[i] = logrank_test(T[0], T[1], E[0], E[1], alpha=.95).p_value\n",
    "    pDat=pd.DataFrame({'version': [version] , 'p':[results[i]] })\n",
    "\n",
    "    #print(version)\n",
    "    pData=pData.append(pDat)"
   ]
  },
  {
   "cell_type": "code",
   "execution_count": 67,
   "metadata": {},
   "outputs": [
    {
     "data": {
      "text/html": [
       "<div>\n",
       "<style scoped>\n",
       "    .dataframe tbody tr th:only-of-type {\n",
       "        vertical-align: middle;\n",
       "    }\n",
       "\n",
       "    .dataframe tbody tr th {\n",
       "        vertical-align: top;\n",
       "    }\n",
       "\n",
       "    .dataframe thead th {\n",
       "        text-align: right;\n",
       "    }\n",
       "</style>\n",
       "<table border=\"1\" class=\"dataframe\">\n",
       "  <thead>\n",
       "    <tr style=\"text-align: right;\">\n",
       "      <th></th>\n",
       "      <th>p</th>\n",
       "      <th>version</th>\n",
       "    </tr>\n",
       "  </thead>\n",
       "  <tbody>\n",
       "    <tr>\n",
       "      <th>0</th>\n",
       "      <td>6.024401e-16</td>\n",
       "      <td>4.3</td>\n",
       "    </tr>\n",
       "    <tr>\n",
       "      <th>0</th>\n",
       "      <td>6.116043e-13</td>\n",
       "      <td>4.4</td>\n",
       "    </tr>\n",
       "    <tr>\n",
       "      <th>0</th>\n",
       "      <td>9.586046e-31</td>\n",
       "      <td>4.5</td>\n",
       "    </tr>\n",
       "    <tr>\n",
       "      <th>0</th>\n",
       "      <td>2.656289e-04</td>\n",
       "      <td>4.6</td>\n",
       "    </tr>\n",
       "    <tr>\n",
       "      <th>0</th>\n",
       "      <td>8.573584e-01</td>\n",
       "      <td>4.7</td>\n",
       "    </tr>\n",
       "  </tbody>\n",
       "</table>\n",
       "</div>"
      ],
      "text/plain": [
       "              p version\n",
       "0  6.024401e-16     4.3\n",
       "0  6.116043e-13     4.4\n",
       "0  9.586046e-31     4.5\n",
       "0  2.656289e-04     4.6\n",
       "0  8.573584e-01     4.7"
      ]
     },
     "execution_count": 67,
     "metadata": {},
     "output_type": "execute_result"
    }
   ],
   "source": [
    "pData"
   ]
  },
  {
   "cell_type": "code",
   "execution_count": 136,
   "metadata": {},
   "outputs": [],
   "source": [
    "#df['keep']=df.apply(lambda x : keepVal(x['activity']), axis=1)\n",
    "#df = df[df['keep']==1]\n",
    "#df = df[['When', 'activity', 'bug_id']]"
   ]
  },
  {
   "cell_type": "code",
   "execution_count": null,
   "metadata": {},
   "outputs": [],
   "source": []
  },
  {
   "cell_type": "code",
   "execution_count": null,
   "metadata": {},
   "outputs": [],
   "source": []
  }
 ],
 "metadata": {
  "kernelspec": {
   "display_name": "Python 3",
   "language": "python",
   "name": "python3"
  },
  "language_info": {
   "codemirror_mode": {
    "name": "ipython",
    "version": 3
   },
   "file_extension": ".py",
   "mimetype": "text/x-python",
   "name": "python",
   "nbconvert_exporter": "python",
   "pygments_lexer": "ipython3",
   "version": "3.6.8"
  }
 },
 "nbformat": 4,
 "nbformat_minor": 2
}
