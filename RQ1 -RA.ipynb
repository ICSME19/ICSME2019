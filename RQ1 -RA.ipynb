{
 "cells": [
  {
   "cell_type": "code",
   "execution_count": 82,
   "metadata": {},
   "outputs": [],
   "source": [
    "#the statistics of the eclipse data"
   ]
  },
  {
   "cell_type": "code",
   "execution_count": 83,
   "metadata": {},
   "outputs": [],
   "source": [
    "import pandas as pd\n",
    "import os\n",
    "import json\n",
    "import csv\n",
    "from flatten_json import flatten\n",
    "import re, datetime\n",
    "import matplotlib.pyplot as plt\n",
    "import seaborn as sns\n",
    "from datetime import date, timedelta\n",
    "from lifelines import KaplanMeierFitter"
   ]
  },
  {
   "cell_type": "code",
   "execution_count": 84,
   "metadata": {},
   "outputs": [],
   "source": [
    "def keepVal(activity):\n",
    "    if activity=='NEW'or activity=='FIXED':\n",
    "        return 1\n",
    "    return 0"
   ]
  },
  {
   "cell_type": "code",
   "execution_count": 85,
   "metadata": {},
   "outputs": [],
   "source": [
    "#keep only changes in status\n",
    "def keep(value,status):\n",
    "    if status!='Resolution':\n",
    "        return 1\n",
    "    if value=='---':\n",
    "        return 0\n",
    "    return 1\n",
    "\n"
   ]
  },
  {
   "cell_type": "code",
   "execution_count": 86,
   "metadata": {},
   "outputs": [],
   "source": [
    "#return the activity\n",
    "def return_val(x):\n",
    "    if x['What']=='Status':\n",
    "        if x['Added']=='ASSIGNED':\n",
    "            return 'Assignee'\n",
    "        return x['Added']\n",
    "        \n",
    "    if x['What']=='Assignee':\n",
    "        return x['What']\n",
    "    if x['What']=='Resolution':\n",
    "        return x['Added']\n",
    "    "
   ]
  },
  {
   "cell_type": "code",
   "execution_count": 87,
   "metadata": {},
   "outputs": [],
   "source": [
    "df=pd.read_csv('db\\\\ECF.csv')"
   ]
  },
  {
   "cell_type": "code",
   "execution_count": 88,
   "metadata": {},
   "outputs": [],
   "source": [
    "dfu=df\n",
    "dfg=df"
   ]
  },
  {
   "cell_type": "code",
   "execution_count": 89,
   "metadata": {},
   "outputs": [],
   "source": [
    "\n",
    "df['creation_ts'] = pd.to_datetime(df['creation_ts'])\n",
    "df['When'] = pd.to_datetime(df['When'])"
   ]
  },
  {
   "cell_type": "code",
   "execution_count": null,
   "metadata": {},
   "outputs": [],
   "source": []
  },
  {
   "cell_type": "code",
   "execution_count": 90,
   "metadata": {},
   "outputs": [],
   "source": [
    "dict1={\n",
    "  \"4.2\" : \"2012-6-27 00:00:00\" ,  \n",
    "\"4.3\" : \"2013-6-26 20:00:00\" ,\n",
    "\"4.4\" :  \"2014-6-25 12:15:00\" ,\n",
    "\"4.5\" : \"2015-6-24 20:00:00\" ,\n",
    "\"4.6\" :\"2016-6-22 11:00:00\",\n",
    "\"4.7\" :  \"2017-6-28 09:50:00\",\n",
    "\"4.8\" :  \"2018-6-27 00:00:00\"\n",
    "\n",
    "}"
   ]
  },
  {
   "cell_type": "code",
   "execution_count": null,
   "metadata": {},
   "outputs": [],
   "source": []
  },
  {
   "cell_type": "code",
   "execution_count": 91,
   "metadata": {},
   "outputs": [],
   "source": [
    "arr=[\n",
    "    \"4.3\" ,\n",
    "\"4.4\" ,\n",
    "\"4.5\" ,\n",
    "\"4.6\"  ,\n",
    "\"4.7\",\n",
    "\"4.8\",\n",
    " \"4.9\"   \n",
    "]\n",
    "dates=[\n",
    "    \"26-6-2013 20:00:00\" ,\n",
    " \"25-6-2014 12:15:00\" ,\n",
    " \"24-6-2015 20:00:00\" ,\n",
    "\"22-6-2016 11:00:00\",\n",
    "  \"28-6-2017 09:50:00\",\n",
    "  \"27-6-2018 00:00:00\",\n",
    " \"27-6-2019 00:00:00\"\n",
    "]\n",
    "Bdates=[\n",
    "    \"22-6-2011 20:00:00\" ,\n",
    "    \"27-6-2012 00:00:00\",\n",
    "    \"26-6-2013 20:00:00\" ,\n",
    " \"25-6-2014 12:15:00\" ,\n",
    " \"24-6-2015 20:00:00\" ,\n",
    "\"22-6-2016 11:00:00\",\n",
    "  \"28-6-2017 09:50:00\",\n",
    "  \"27-6-2018 00:00:00\",\n",
    "]"
   ]
  },
  {
   "cell_type": "code",
   "execution_count": 92,
   "metadata": {},
   "outputs": [],
   "source": [
    "arr1=[\n",
    "    4.2 ,\n",
    "    4.3 ,\n",
    "4.4 ,\n",
    "4.5 ,\n",
    "4.6  ,\n",
    "4.7,\n",
    "4.8 \n",
    "]"
   ]
  },
  {
   "cell_type": "code",
   "execution_count": 96,
   "metadata": {},
   "outputs": [],
   "source": [
    "#allD"
   ]
  },
  {
   "cell_type": "code",
   "execution_count": 97,
   "metadata": {},
   "outputs": [],
   "source": [
    "tData=pd.DataFrame()\n",
    "id_before_release=0\n",
    "id_after_release=0\n",
    "id_RBRB=0\n",
    "id_RBFB=0\n",
    "id_RBRA=0\n",
    "id_RBFA=0\n",
    "id_RARA=0\n",
    "id_RAFA=0\n",
    "c=0\n",
    "for x in dict1:\n",
    "    data=pd.DataFrame()\n",
    "    data1=pd.DataFrame()\n",
    "    #print(dict[x])\n",
    "    start_date = dict1[x]\n",
    "    end_date = '25-09-2014 12:00:00'\n",
    "    versionD= x\n",
    "    version='^'+versionD\n",
    "    date_time_obj = datetime.datetime.strptime(start_date, '%Y-%m-%d %H:%M:%S')\n",
    "    \n",
    "\n",
    "          \n",
    "    #the bug before release \n",
    "    mask8 = (df.version.str.contains(version, regex=True)) & (df['creation_ts'] > Bdates[c] ) & (df['creation_ts'] <= start_date)  & (((\"RESOLVED\"==df['activity']) & (df['When'] >start_date )) |  (df['resolution'].isnull()))\n",
    "\n",
    "         \n",
    "     \n",
    "    dff8 = df.loc[mask8]\n",
    " \n",
    "    BRA=len(dff8.bug_id.unique())\n",
    "    c=c+1\n",
    "\n",
    "            #print(after_release,ratio5)\n",
    "    data=pd.DataFrame({\"version\": [versionD] , \n",
    "                       \"nbra\": [BRA]\n",
    "   })\n",
    "            \n",
    "    \n",
    "\n",
    "    tData=tData.append(data)\n",
    "    "
   ]
  },
  {
   "cell_type": "code",
   "execution_count": 28,
   "metadata": {},
   "outputs": [],
   "source": [
    "colu=tData['nbra'].tolist()"
   ]
  },
  {
   "cell_type": "code",
   "execution_count": null,
   "metadata": {},
   "outputs": [],
   "source": []
  },
  {
   "cell_type": "code",
   "execution_count": 75,
   "metadata": {},
   "outputs": [],
   "source": [
    "#rate resolved after release each month\n",
    "tData=pd.DataFrame()\n",
    "id_before_release=0\n",
    "id_after_release=0\n",
    "id_RBRB=0\n",
    "id_RBFB=0\n",
    "id_RBRA=0\n",
    "id_RBFA=0\n",
    "id_RARA=0\n",
    "id_RAFA=0\n",
    "m=0\n",
    "for x in dict1:\n",
    "    data=pd.DataFrame()\n",
    "    data1=pd.DataFrame()\n",
    "    #print(dict[x])\n",
    "    start_date = dict1[x]\n",
    "    end_date = '25-09-2014 12:00:00'\n",
    "    versionD= x\n",
    "    version='^'+versionD\n",
    "    date_time_obj = datetime.datetime.strptime(start_date, '%Y-%m-%d %H:%M:%S')\n",
    "    rem=[colu[m]]\n",
    "    m=m+1\n",
    "    for i in range(12):\n",
    "        \n",
    "            k=date_time_obj + timedelta(30*i)\n",
    "            l=date_time_obj + timedelta(30*(i+1))\n",
    "           # mask= (df.version.str.contains(version, regex=True))  \n",
    "     #the bug before release \n",
    "            mask8 = (df.version.str.contains(version, regex=True))  & (df['creation_ts'] <= start_date)  & (((\"RESOLVED\"==df['activity']) & (df['When'] >start_date )) |  (df['resolution'].isnull()))\n",
    "\n",
    "    #the bug after release \n",
    "            maskpp = (df.version.str.contains(version, regex=True))  & (df['creation_ts'] >= k)  & (df['creation_ts'] < l)\n",
    "\n",
    " \n",
    "    #the bug created after release  and resolved\n",
    "            mask5 = (df.version.str.contains(version, regex=True))  & (df['When'] >= k) & (\"RESOLVED\"==df['activity']) & (df['When'] <l )\n",
    "              #the bug created after release  and not rresolved \n",
    "            mask7 = (df.version.str.contains(version, regex=True))  & (df['creation_ts'] >= k)  & (df['creation_ts'] < l) & (((\"RESOLVED\"==df['activity']) & (df['When'] >l )) |  (df['resolution'].isnull()))\n",
    "\n",
    "         \n",
    "            dffpp = df.loc[maskpp]\n",
    "            dff5 = df.loc[mask5]\n",
    "            dff7 = df.loc[mask7]\n",
    "            dff8 = df.loc[mask8]\n",
    "            after_release=len(dffpp.bug_id.unique())\n",
    "        \n",
    "           # RBFA=len(dff4.bug_id.unique())\n",
    "            RARA=len(dff5.bug_id.unique())\n",
    "            BRA=len(dff8.bug_id.unique())\n",
    "      \n",
    "            #RANRA=len(dff7.bug_id.unique())\n",
    "        \n",
    "            if after_release!=0 and RARA!=0:\n",
    "                    ratio5=RARA/(after_release+rem[i])\n",
    "            rem.insert(i+1, after_release+rem[i]-RARA) \n",
    "            #print(after_release,ratio5)\n",
    "            data=pd.DataFrame({\"version\": [versionD] , \n",
    "                       'reported_bugs':[after_release],\n",
    "    'RARA':[RARA]\n",
    "             , 'Ratio_R_A':[ratio5], \"month\":i+1 , \"nbra\": [BRA]\n",
    "   })\n",
    "            \n",
    "    \n",
    "\n",
    "            tData=tData.append(data)\n",
    "    "
   ]
  },
  {
   "cell_type": "code",
   "execution_count": 77,
   "metadata": {},
   "outputs": [],
   "source": [
    "#tData\n",
    "tData.to_csv('RQ1\\\\Aevol1.csv',index=False)"
   ]
  },
  {
   "cell_type": "code",
   "execution_count": 78,
   "metadata": {},
   "outputs": [],
   "source": [
    "#data = pd.read_csv('RQ1\\\\evol1.csv')"
   ]
  },
  {
   "cell_type": "code",
   "execution_count": 79,
   "metadata": {},
   "outputs": [],
   "source": [
    "#data"
   ]
  },
  {
   "cell_type": "code",
   "execution_count": 98,
   "metadata": {},
   "outputs": [
    {
     "data": {
      "image/png": "[encoded data removed]",
      "text/plain": [
       "<Figure size 432x288 with 1 Axes>"
      ]
     },
     "metadata": {
      "needs_background": "light"
     },
     "output_type": "display_data"
    }
   ],
   "source": [
    "import matplotlib.pyplot as plt\n",
    "import pandas as pd\n",
    "data = pd.read_csv('RQ1\\\\Aevol1.csv')\n",
    "ci=0\n",
    "colors=['red','green','blue','black','orange','pink','yellow']\n",
    "for v in arr1:\n",
    "# gca stands for 'get current axis'\n",
    "    \n",
    "    ax = plt.gca()\n",
    "    value=data[data['version']==v]\n",
    "    value.plot(kind='line',x='month',y='Ratio_R_A', color=colors[ci],ax=ax, label=v)\n",
    "    ci=ci+1\n",
    "    #df.plot(kind='line',x='name',y='num_pets', color='red', ax=ax)\n",
    "plt.xlabel('months after release')\n",
    "plt.ylabel('rate of resolved bugs')\n",
    "#plt.ylim(0,1)\n",
    "#plt.title('Resolving rate of bugs in a specific version over months just after its release')\n",
    "#plt.savefig('rq1a.pdf')\n",
    "plt.show()\n"
   ]
  },
  {
   "cell_type": "code",
   "execution_count": null,
   "metadata": {},
   "outputs": [],
   "source": []
  },
  {
   "cell_type": "code",
   "execution_count": 68,
   "metadata": {},
   "outputs": [],
   "source": [
    "#rate fixed after release each month\n",
    "\n",
    "tData=pd.DataFrame()\n",
    "\n",
    "c=0\n",
    "for x in dict1:\n",
    "    data=pd.DataFrame()\n",
    "\n",
    "    #print(dict[x])\n",
    "    start_date = dict1[x]\n",
    "    versionD= x\n",
    "    version='^'+versionD\n",
    "    date_time_obj = datetime.datetime.strptime(start_date, '%Y-%m-%d %H:%M:%S')\n",
    "    c=c+1\n",
    "    rem=[0]\n",
    "    for i in range(12):\n",
    "        \n",
    "            k=date_time_obj + timedelta(30*i)\n",
    "            l=date_time_obj + timedelta(30*(i+1))\n",
    "           \n",
    " \n",
    "            #the bug reported in this month\n",
    "            mask = (df.version.str.contains(version, regex=True))  & (df['creation_ts'] >= k)  & (df['creation_ts'] < l)\n",
    "\n",
    "\n",
    "            #the bug resolved in this month\n",
    "            mask1 =  (df.version.str.contains(version, regex=True))  & (df['When'] >= k) & (\"RESOLVED\"==df['activity']) & (df['When'] <l ) \n",
    "   \n",
    "           #the bug created before release and fixed after release \n",
    "            mask2 = (df.version.str.contains(version, regex=True)) & (df['When'] >= k) & (df['When'] < l) &   (\"RESOLVED\"==df['activity']) & (\"FIXED\"==df['resolution']) \n",
    "            #the bug created after release  and resolved\n",
    "            mask3 = (df.version.str.contains(version, regex=True)) & (\"RESOLVED\"==df['activity']) & (df['When'] <l )\n",
    "    \n",
    "\n",
    "            dff = df.loc[mask]\n",
    "            dff1 = df.loc[mask1]\n",
    "            dff2 = df.loc[mask2]\n",
    "            #dff3 = df.loc[mask3]\n",
    "      \n",
    "     \n",
    "            RARA=len(dff1.bug_id.unique())\n",
    "            RAFA=len(dff2.bug_id.unique())\n",
    "      \n",
    "\n",
    "            if RAFA!=0 and RARA!=0:\n",
    "                    ratio5=RAFA/RARA\n",
    "            else:\n",
    "                    ratio5=0\n",
    "          \n",
    "            data=pd.DataFrame({\"version\": [versionD] , 'RAFA':[RAFA], \n",
    "                       \n",
    "    'RARA':[RARA]\n",
    "             , 'Ratio_F_A':[ratio5], \"month\":i+1 \n",
    "   })\n",
    "            \n",
    "    \n",
    "\n",
    "            tData=tData.append(data)"
   ]
  },
  {
   "cell_type": "code",
   "execution_count": 70,
   "metadata": {},
   "outputs": [],
   "source": [
    "tData.to_csv('RQ1\\\\Aevol2.csv',index=False)"
   ]
  },
  {
   "cell_type": "code",
   "execution_count": 73,
   "metadata": {},
   "outputs": [
    {
     "data": {
      "image/png": "[encoded data removed]",
      "text/plain": [
       "<Figure size 432x288 with 1 Axes>"
      ]
     },
     "metadata": {
      "needs_background": "light"
     },
     "output_type": "display_data"
    }
   ],
   "source": [
    "data = pd.read_csv('RQ1\\\\Aevol2.csv')\n",
    "ci=0\n",
    "colors=['red','green','blue','black','orange','pink','yellow']\n",
    "for v in arr1:\n",
    "# gca stands for 'get current axis'\n",
    "    \n",
    "    ax = plt.gca()\n",
    "    value=data[data['version']==v]\n",
    "    #print(v)\n",
    "    value.plot(kind='line',x='month',y='Ratio_F_A', color=colors[ci],ax=ax, label=v)\n",
    "    ci=ci+1\n",
    "    #df.plot(kind='line',x='name',y='num_pets', color='red', ax=ax)\n",
    "plt.xlabel('months after release')\n",
    "plt.ylabel('rate of FIXED bugs')\n",
    "#plt.ylim(0,1)\n",
    "#plt.title('Resolving rate of bugs in a specific version over months just after its release')\n",
    "plt.savefig('rq1b.pdf')\n",
    "plt.show()\n"
   ]
  },
  {
   "cell_type": "code",
   "execution_count": null,
   "metadata": {},
   "outputs": [],
   "source": []
  }
 ],
 "metadata": {
  "kernelspec": {
   "display_name": "Python 3",
   "language": "python",
   "name": "python3"
  },
  "language_info": {
   "codemirror_mode": {
    "name": "ipython",
    "version": 3
   },
   "file_extension": ".py",
   "mimetype": "text/x-python",
   "name": "python",
   "nbconvert_exporter": "python",
   "pygments_lexer": "ipython3",
   "version": "3.6.8"
  }
 },
 "nbformat": 4,
 "nbformat_minor": 2
}
