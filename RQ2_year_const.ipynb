{
 "cells": [
  {
   "cell_type": "code",
   "execution_count": null,
   "metadata": {},
   "outputs": [],
   "source": [
    "#the difference between version 1 and 2 is that version 2 considers only 1 year before and after "
   ]
  },
  {
   "cell_type": "code",
   "execution_count": 7,
   "metadata": {},
   "outputs": [],
   "source": [
    "import pandas as pd\n",
    "import os\n",
    "import json\n",
    "import csv\n",
    "import re, datetime\n",
    "import matplotlib.pyplot as plt\n",
    "import seaborn as sns\n",
    "from datetime import date, timedelta\n",
    "from lifelines.statistics import logrank_test\n",
    "from lifelines import KaplanMeierFitter\n",
    "import ast\n",
    "from datetime import datetime\n",
    "\n",
    "from global_functions import *"
   ]
  },
  {
   "cell_type": "code",
   "execution_count": 8,
   "metadata": {},
   "outputs": [],
   "source": [
    "release_creation_ts_all = get_release_dates()\n",
    "\n",
    "yearly_releases = get_yearly_releases()\n",
    "\n",
    "release_creation_ts_rolling = get_rolling_releases()\n",
    "rolling_releases=get_rolling_releases()"
   ]
  },
  {
   "cell_type": "code",
   "execution_count": 9,
   "metadata": {},
   "outputs": [],
   "source": [
    "def version_successor(release):\n",
    "    if release=='4.8':\n",
    "        return '4.9'\n",
    "    return yearly_releases[yearly_releases.index(release)+1]\n",
    "def version_successor_rolling(release):\n",
    "    if release=='4.10':\n",
    "        return '4.11'\n",
    "    return rolling_releases[rolling_releases.index(release)+1]\n",
    "   \n",
    "def version_predecessor(release):\n",
    "    return yearly_releases[yearly_releases.index(release)-1]    \n",
    "     \n",
    "    "
   ]
  },
  {
   "cell_type": "code",
   "execution_count": 10,
   "metadata": {},
   "outputs": [],
   "source": [
    "def attach_severity_priority_to_dataframe(df):\n",
    "    sev_info = pd.read_csv('.'+os.sep+'data'+os.sep+'bugs_full.zip',index_col=False,compression='zip',\n",
    "                      dtype={'version':str})\n",
    "    sev_info = sev_info[['id','severity','priority']]\n",
    "\n",
    "    df = pd.merge(df,sev_info,on=['id'],how='left')\n",
    "    return df\n"
   ]
  },
  {
   "cell_type": "code",
   "execution_count": 11,
   "metadata": {},
   "outputs": [
    {
     "name": "stderr",
     "output_type": "stream",
     "text": [
      "C:\\Users\\zeinab\\Anaconda3\\lib\\site-packages\\IPython\\core\\interactiveshell.py:3185: DtypeWarning: Columns (17) have mixed types. Specify dtype option on import or set low_memory=False.\n",
      "  if (yield from self.run_code(code, result)):\n"
     ]
    },
    {
     "data": {
      "text/html": [
       "<div>\n",
       "<style scoped>\n",
       "    .dataframe tbody tr th:only-of-type {\n",
       "        vertical-align: middle;\n",
       "    }\n",
       "\n",
       "    .dataframe tbody tr th {\n",
       "        vertical-align: top;\n",
       "    }\n",
       "\n",
       "    .dataframe thead th {\n",
       "        text-align: right;\n",
       "    }\n",
       "</style>\n",
       "<table border=\"1\" class=\"dataframe\">\n",
       "  <thead>\n",
       "    <tr style=\"text-align: right;\">\n",
       "      <th></th>\n",
       "      <th>id</th>\n",
       "      <th>release</th>\n",
       "      <th>Product</th>\n",
       "      <th>creation_time</th>\n",
       "      <th>version</th>\n",
       "      <th>resolution</th>\n",
       "      <th>is_assigned</th>\n",
       "      <th>is_resolved</th>\n",
       "      <th>is_fixed</th>\n",
       "      <th>first_assignment_date</th>\n",
       "      <th>...</th>\n",
       "      <th>last_fixed_date</th>\n",
       "      <th>time_assign_diff</th>\n",
       "      <th>time_resolve_diff</th>\n",
       "      <th>time_fix_diff</th>\n",
       "      <th>min_release</th>\n",
       "      <th>max_release</th>\n",
       "      <th>min_release_before_version_field</th>\n",
       "      <th>min_release_after_version_field</th>\n",
       "      <th>severity</th>\n",
       "      <th>priority</th>\n",
       "    </tr>\n",
       "  </thead>\n",
       "  <tbody>\n",
       "    <tr>\n",
       "      <th>0</th>\n",
       "      <td>475361</td>\n",
       "      <td>4.5</td>\n",
       "      <td>Platform</td>\n",
       "      <td>2015-08-19 10:50:25</td>\n",
       "      <td>4.5</td>\n",
       "      <td>FIXED</td>\n",
       "      <td>0</td>\n",
       "      <td>1</td>\n",
       "      <td>1</td>\n",
       "      <td>NaT</td>\n",
       "      <td>...</td>\n",
       "      <td>2015-08-19 11:53:03</td>\n",
       "      <td></td>\n",
       "      <td>0</td>\n",
       "      <td>0</td>\n",
       "      <td>4.5</td>\n",
       "      <td>4.5</td>\n",
       "      <td>False</td>\n",
       "      <td>False</td>\n",
       "      <td>normal</td>\n",
       "      <td>P3</td>\n",
       "    </tr>\n",
       "    <tr>\n",
       "      <th>1</th>\n",
       "      <td>475365</td>\n",
       "      <td>4.6</td>\n",
       "      <td>Platform</td>\n",
       "      <td>2015-08-19 11:34:37</td>\n",
       "      <td>4.6</td>\n",
       "      <td>FIXED</td>\n",
       "      <td>0</td>\n",
       "      <td>1</td>\n",
       "      <td>1</td>\n",
       "      <td>NaT</td>\n",
       "      <td>...</td>\n",
       "      <td>2015-08-26 14:29:30</td>\n",
       "      <td></td>\n",
       "      <td>0</td>\n",
       "      <td>0</td>\n",
       "      <td>4.6</td>\n",
       "      <td>4.6</td>\n",
       "      <td>False</td>\n",
       "      <td>False</td>\n",
       "      <td>minor</td>\n",
       "      <td>P3</td>\n",
       "    </tr>\n",
       "  </tbody>\n",
       "</table>\n",
       "<p>2 rows × 24 columns</p>\n",
       "</div>"
      ],
      "text/plain": [
       "       id release   Product       creation_time version resolution  \\\n",
       "0  475361     4.5  Platform 2015-08-19 10:50:25     4.5      FIXED   \n",
       "1  475365     4.6  Platform 2015-08-19 11:34:37     4.6      FIXED   \n",
       "\n",
       "   is_assigned  is_resolved  is_fixed first_assignment_date    ...     \\\n",
       "0            0            1         1                   NaT    ...      \n",
       "1            0            1         1                   NaT    ...      \n",
       "\n",
       "      last_fixed_date time_assign_diff time_resolve_diff time_fix_diff  \\\n",
       "0 2015-08-19 11:53:03                                  0             0   \n",
       "1 2015-08-26 14:29:30                                  0             0   \n",
       "\n",
       "  min_release max_release min_release_before_version_field  \\\n",
       "0         4.5         4.5                            False   \n",
       "1         4.6         4.6                            False   \n",
       "\n",
       "  min_release_after_version_field  severity  priority  \n",
       "0                           False    normal        P3  \n",
       "1                           False     minor        P3  \n",
       "\n",
       "[2 rows x 24 columns]"
      ]
     },
     "execution_count": 11,
     "metadata": {},
     "output_type": "execute_result"
    }
   ],
   "source": [
    "#Load data\n",
    "df_all = pd.read_csv('.'+os.sep+'data'+os.sep+'bugs_info.zip',index_col=False,compression='zip',dtype={'release':str,'version':str})\n",
    "df_all = df_all.fillna('')\n",
    "df_all = trans_to_datetime(df_all,['creation_time','first_assignment_date','last_assignment_date',\n",
    "                          'first_resolved_date','last_resolved_date',\n",
    "                           'first_fixed_date','last_fixed_date'])\n",
    "df_all=attach_severity_priority_to_dataframe(df_all)\n",
    "df_all.head(n=2)"
   ]
  },
  {
   "cell_type": "code",
   "execution_count": 12,
   "metadata": {},
   "outputs": [],
   "source": [
    "#all expect these in rolling releases\n",
    "df=df_all[(df_all['release']!='4.9') & (df_all['release']!='4.10')]\n",
    "#bugs in rolling release\n",
    "df_rolling=df_all[(df_all['release']=='4.9') | (df_all['release']=='4.10')]"
   ]
  },
  {
   "cell_type": "raw",
   "metadata": {},
   "source": [
    "|----------|-----------|----------|----------|\n",
    "|Metric    | REPORTED  | ASSIGNED | RESOLVED | \n",
    "|----------|-----------|----------|----------|\n",
    "|RBAB      | BEFORE    | BEFORE   | -        |\n",
    "|RBAA      | BEFORE    | AFTER    | -        |\n",
    "|RAAA      | AFTER     | AFTER    | -        |\n",
    "|RANA      | AFTER     | AFTER next release  |\n",
    "|----------|-----------|----------|----------|\n"
   ]
  },
  {
   "cell_type": "code",
   "execution_count": 13,
   "metadata": {},
   "outputs": [],
   "source": [
    "def get_triaging_statistics_per_release(df_w,assignedFirst,resolvedFirst):\n",
    "    #Calculate traiging time per release\n",
    "    df_ret=pd.DataFrame()\n",
    "    df_w['release'] = df_w['release'].astype(str)\n",
    "    \n",
    "    if assignedFirst:\n",
    "        assingment_column = 'first_assignment_date'\n",
    "    else:\n",
    "        assingment_column = 'last_assignment_date'\n",
    "        \n",
    "        \n",
    "    if resolvedFirst:\n",
    "        resolve_column = 'first_resolved_date'\n",
    "    else:\n",
    "        resolve_column = 'last_resolved_date'\n",
    "        \n",
    "        \n",
    "    for version in df_w.release.unique():\n",
    "        start_date = release_creation_ts_all[version]\n",
    "        start_date = pd.to_datetime(start_date)\n",
    "        if version=='3.0':\n",
    "            end_date_before=addYears(start_date,-1)\n",
    "            #print(release_creation_ts_all[version_successor(version)])\n",
    "            end_date_after=datetime.strptime(release_creation_ts_all[version_successor(version)], '%Y-%m-%d %H:%M:%S')\n",
    "        else:\n",
    "            end_date_before=datetime.strptime(release_creation_ts_all[version_predecessor(version)], '%Y-%m-%d %H:%M:%S')\n",
    "            end_date_after=datetime.strptime(release_creation_ts_all[version_successor(version)], '%Y-%m-%d %H:%M:%S')                \n",
    "        \n",
    "        #print('version: ',version, 'start_date: ',start_date,'end_date_before: ',end_date_before,'end_date_after: ',end_date_after)\n",
    "\n",
    "        #Fetch the bugs of this version\n",
    "        version_bugs = df_w[df_w['release']==version]\n",
    "        version_bugs = trans_to_datetime(version_bugs,\n",
    "                                        ['creation_time','first_assignment_date',\n",
    "       'last_assignment_date', 'first_resolved_date', 'last_resolved_date',\n",
    "       'first_fixed_date', 'last_fixed_date'])\n",
    "\n",
    "        #the bug before release \n",
    "        bugs_before_release = version_bugs[(version_bugs['creation_time']<start_date) & (version_bugs['creation_time']>=end_date_before) ]\n",
    "        \n",
    "        #the bug after release \n",
    "        bugs_after_release = version_bugs[(version_bugs['creation_time']>= start_date) & (version_bugs['creation_time']< end_date_after)]\n",
    "        \n",
    "        #the bug created and assigned & before release \n",
    "        bugs_created_assigned_before_release = (\n",
    "            version_bugs[(version_bugs['id'].isin(bugs_before_release.id.unique())) &\n",
    "                        (version_bugs[assingment_column]<start_date)]\n",
    "        )   \n",
    "   \n",
    "\n",
    "        #the bug created before release and assigned  after release \n",
    "        bugs_created_before_assigned_after_release = (\n",
    "            version_bugs[(version_bugs['id'].isin(bugs_before_release.id.unique())) &\n",
    "                        (version_bugs[assingment_column] >= start_date )]\n",
    "        )\n",
    "\n",
    "\n",
    "\n",
    "        #the bug created after release  and assigned\n",
    "        bugs_created_after_release_assigned = (\n",
    "            version_bugs[(version_bugs['id'].isin(bugs_after_release.id.unique())) &\n",
    "                        (version_bugs['is_assigned'] > 0)  &  (version_bugs[assingment_column] <= end_date_after )]\n",
    "        )\n",
    "                #the bug created after release  and assigned\n",
    "        bugs_created_after_release_not_assigned = (\n",
    "            version_bugs[(version_bugs['id'].isin(bugs_after_release.id.unique())) &\n",
    "                        (version_bugs['is_assigned'] > 0) &  (version_bugs[assingment_column] > end_date_after )]\n",
    "        )\n",
    "\n",
    " #& (version_bugs[assingment_column] < end_date_after)\n",
    "     \n",
    "        before_release = len(bugs_before_release.id.unique())\n",
    "        RBAB= bugs_created_assigned_before_release.id.unique().tolist()\n",
    "        RBAA =  bugs_created_before_assigned_after_release.id.unique().tolist()\n",
    "        after_release = len(bugs_after_release.id.unique())\n",
    "        RAAA = bugs_created_after_release_assigned.id.unique().tolist()\n",
    "        RANA = bugs_created_after_release_not_assigned.id.unique().tolist()\n",
    "       \n",
    "  \n",
    "        df_ret=df_ret.append({\"version\": version , \n",
    "                           \"total\": len(version_bugs.id.unique()) ,\n",
    "                           'before_release': before_release, \n",
    "                           'after_release':after_release, \n",
    "                           'RBAB':RBAB, \n",
    "                           'RBAA':RBAA, \n",
    "                           'RAAA':RAAA,\n",
    "                           'RANA':RANA\n",
    "                            },ignore_index=True)\n",
    "    return df_ret"
   ]
  },
  {
   "cell_type": "code",
   "execution_count": 14,
   "metadata": {
    "scrolled": true
   },
   "outputs": [
    {
     "name": "stderr",
     "output_type": "stream",
     "text": [
      "C:\\Users\\zeinab\\Anaconda3\\lib\\site-packages\\ipykernel_launcher.py:4: SettingWithCopyWarning: \n",
      "A value is trying to be set on a copy of a slice from a DataFrame.\n",
      "Try using .loc[row_indexer,col_indexer] = value instead\n",
      "\n",
      "See the caveats in the documentation: http://pandas.pydata.org/pandas-docs/stable/indexing.html#indexing-view-versus-copy\n",
      "  after removing the cwd from sys.path.\n",
      "C:\\Users\\zeinab\\Papers\\26-3-2019\\msr2019\\rep-pack\\global_functions.py:14: SettingWithCopyWarning: \n",
      "A value is trying to be set on a copy of a slice from a DataFrame.\n",
      "Try using .loc[row_indexer,col_indexer] = value instead\n",
      "\n",
      "See the caveats in the documentation: http://pandas.pydata.org/pandas-docs/stable/indexing.html#indexing-view-versus-copy\n",
      "  dd[col] = pd.to_datetime(dd[col])\n"
     ]
    },
    {
     "data": {
      "text/html": [
       "<div>\n",
       "<style scoped>\n",
       "    .dataframe tbody tr th:only-of-type {\n",
       "        vertical-align: middle;\n",
       "    }\n",
       "\n",
       "    .dataframe tbody tr th {\n",
       "        vertical-align: top;\n",
       "    }\n",
       "\n",
       "    .dataframe thead th {\n",
       "        text-align: right;\n",
       "    }\n",
       "</style>\n",
       "<table border=\"1\" class=\"dataframe\">\n",
       "  <thead>\n",
       "    <tr style=\"text-align: right;\">\n",
       "      <th></th>\n",
       "      <th>version</th>\n",
       "      <th>RAAA</th>\n",
       "      <th>RANA</th>\n",
       "      <th>RBAA</th>\n",
       "      <th>RBAB</th>\n",
       "      <th>after_release</th>\n",
       "      <th>before_release</th>\n",
       "      <th>total</th>\n",
       "    </tr>\n",
       "  </thead>\n",
       "  <tbody>\n",
       "    <tr>\n",
       "      <th>0</th>\n",
       "      <td>3.0</td>\n",
       "      <td>[101046, 101423, 101428, 101447, 101634, 82564...</td>\n",
       "      <td>[101500, 101894, 82801, 82863, 83375, 83496, 8...</td>\n",
       "      <td>[64613, 64643, 64682, 64686, 64707, 64742, 647...</td>\n",
       "      <td>[64617, 64621, 64626, 64627, 64628, 64629, 646...</td>\n",
       "      <td>6534.0</td>\n",
       "      <td>17758.0</td>\n",
       "      <td>24937.0</td>\n",
       "    </tr>\n",
       "    <tr>\n",
       "      <th>1</th>\n",
       "      <td>3.1</td>\n",
       "      <td>[101968, 102001, 102019, 102033, 102081, 10208...</td>\n",
       "      <td>[102297, 102570, 102584, 102813, 102879, 10288...</td>\n",
       "      <td>[100816, 100835, 100843, 100845, 100853, 10086...</td>\n",
       "      <td>[100814, 100822, 100825, 100826, 100829, 10088...</td>\n",
       "      <td>5264.0</td>\n",
       "      <td>12168.0</td>\n",
       "      <td>17908.0</td>\n",
       "    </tr>\n",
       "    <tr>\n",
       "      <th>2</th>\n",
       "      <td>3.2</td>\n",
       "      <td>[183822, 184304, 184932, 185556, 185668, 18574...</td>\n",
       "      <td>[183675, 183922, 184345, 184413, 184933, 18521...</td>\n",
       "      <td>[103650, 139837, 139876, 139945, 139949, 13995...</td>\n",
       "      <td>[102024, 103299, 103380, 103710, 104078, 10489...</td>\n",
       "      <td>4771.0</td>\n",
       "      <td>10334.0</td>\n",
       "      <td>15834.0</td>\n",
       "    </tr>\n",
       "    <tr>\n",
       "      <th>3</th>\n",
       "      <td>3.3</td>\n",
       "      <td>[236637, 237449, 237613, 237830, 237949, 23808...</td>\n",
       "      <td>[236613, 237610, 237612, 237621, 237837, 23798...</td>\n",
       "      <td>[183762, 183773, 183778, 183789, 183791, 18380...</td>\n",
       "      <td>[183607, 183610, 183621, 183640, 183732, 18376...</td>\n",
       "      <td>4141.0</td>\n",
       "      <td>8050.0</td>\n",
       "      <td>12642.0</td>\n",
       "    </tr>\n",
       "    <tr>\n",
       "      <th>4</th>\n",
       "      <td>3.4</td>\n",
       "      <td>[244396, 244397, 244407, 244425, 244428, 24446...</td>\n",
       "      <td>[244409, 244918, 244965, 245601, 245766, 24594...</td>\n",
       "      <td>[236617, 236638, 236855, 236879, 236888, 23712...</td>\n",
       "      <td>[236612, 236634, 236669, 236724, 236735, 23676...</td>\n",
       "      <td>3908.0</td>\n",
       "      <td>7891.0</td>\n",
       "      <td>12510.0</td>\n",
       "    </tr>\n",
       "  </tbody>\n",
       "</table>\n",
       "</div>"
      ],
      "text/plain": [
       "  version                                               RAAA  \\\n",
       "0     3.0  [101046, 101423, 101428, 101447, 101634, 82564...   \n",
       "1     3.1  [101968, 102001, 102019, 102033, 102081, 10208...   \n",
       "2     3.2  [183822, 184304, 184932, 185556, 185668, 18574...   \n",
       "3     3.3  [236637, 237449, 237613, 237830, 237949, 23808...   \n",
       "4     3.4  [244396, 244397, 244407, 244425, 244428, 24446...   \n",
       "\n",
       "                                                RANA  \\\n",
       "0  [101500, 101894, 82801, 82863, 83375, 83496, 8...   \n",
       "1  [102297, 102570, 102584, 102813, 102879, 10288...   \n",
       "2  [183675, 183922, 184345, 184413, 184933, 18521...   \n",
       "3  [236613, 237610, 237612, 237621, 237837, 23798...   \n",
       "4  [244409, 244918, 244965, 245601, 245766, 24594...   \n",
       "\n",
       "                                                RBAA  \\\n",
       "0  [64613, 64643, 64682, 64686, 64707, 64742, 647...   \n",
       "1  [100816, 100835, 100843, 100845, 100853, 10086...   \n",
       "2  [103650, 139837, 139876, 139945, 139949, 13995...   \n",
       "3  [183762, 183773, 183778, 183789, 183791, 18380...   \n",
       "4  [236617, 236638, 236855, 236879, 236888, 23712...   \n",
       "\n",
       "                                                RBAB  after_release  \\\n",
       "0  [64617, 64621, 64626, 64627, 64628, 64629, 646...         6534.0   \n",
       "1  [100814, 100822, 100825, 100826, 100829, 10088...         5264.0   \n",
       "2  [102024, 103299, 103380, 103710, 104078, 10489...         4771.0   \n",
       "3  [183607, 183610, 183621, 183640, 183732, 18376...         4141.0   \n",
       "4  [236612, 236634, 236669, 236724, 236735, 23676...         3908.0   \n",
       "\n",
       "   before_release    total  \n",
       "0         17758.0  24937.0  \n",
       "1         12168.0  17908.0  \n",
       "2         10334.0  15834.0  \n",
       "3          8050.0  12642.0  \n",
       "4          7891.0  12510.0  "
      ]
     },
     "execution_count": 14,
     "metadata": {},
     "output_type": "execute_result"
    }
   ],
   "source": [
    "tfile = 'data'+os.sep+'RQ2'+os.sep+'year_releases_yearly_stats_first_assign-v2.zip'\n",
    "\n",
    "if not os.path.exists(tfile):\n",
    "    df_yearly_stats_first = get_triaging_statistics_per_release(df,assignedFirst=True,resolvedFirst=False)\n",
    "    df_yearly_stats_first.to_csv(tfile,index=False,compression='zip')\n",
    "else:\n",
    "    df_yearly_stats_first = pd.read_csv(tfile,index_col=False,compression='zip',\n",
    "                                       dtype={'version': str,'release':str})\n",
    "    df_yearly_stats_first[\"RAAA\"]  = df_yearly_stats_first[\"RAAA\"].apply(ast.literal_eval)\n",
    "    df_yearly_stats_first[\"RBAA\"]  = df_yearly_stats_first[\"RBAA\"].apply(ast.literal_eval)\n",
    "    df_yearly_stats_first[\"RBAB\"]  = df_yearly_stats_first[\"RBAB\"].apply(ast.literal_eval)\n",
    "    df_yearly_stats_first[\"RANA\"]  = df_yearly_stats_first[\"RANA\"].apply(ast.literal_eval)\n",
    "    \n",
    "df_yearly_stats_first['version'] = df_yearly_stats_first['version'].astype(str)\n",
    "df_yearly_stats_first = sort_df(df_yearly_stats_first,'version')\n",
    "df_yearly_stats_first.head()"
   ]
  },
  {
   "cell_type": "code",
   "execution_count": 15,
   "metadata": {
    "scrolled": true
   },
   "outputs": [
    {
     "name": "stderr",
     "output_type": "stream",
     "text": [
      "C:\\Users\\zeinab\\Anaconda3\\lib\\site-packages\\ipykernel_launcher.py:16: SettingWithCopyWarning: \n",
      "A value is trying to be set on a copy of a slice from a DataFrame.\n",
      "Try using .loc[row_indexer,col_indexer] = value instead\n",
      "\n",
      "See the caveats in the documentation: http://pandas.pydata.org/pandas-docs/stable/indexing.html#indexing-view-versus-copy\n",
      "  app.launch_new_instance()\n",
      "C:\\Users\\zeinab\\Anaconda3\\lib\\site-packages\\ipykernel_launcher.py:29: SettingWithCopyWarning: \n",
      "A value is trying to be set on a copy of a slice from a DataFrame.\n",
      "Try using .loc[row_indexer,col_indexer] = value instead\n",
      "\n",
      "See the caveats in the documentation: http://pandas.pydata.org/pandas-docs/stable/indexing.html#indexing-view-versus-copy\n",
      "C:\\Users\\zeinab\\Anaconda3\\lib\\site-packages\\ipykernel_launcher.py:42: SettingWithCopyWarning: \n",
      "A value is trying to be set on a copy of a slice from a DataFrame.\n",
      "Try using .loc[row_indexer,col_indexer] = value instead\n",
      "\n",
      "See the caveats in the documentation: http://pandas.pydata.org/pandas-docs/stable/indexing.html#indexing-view-versus-copy\n",
      "C:\\Users\\zeinab\\Anaconda3\\lib\\site-packages\\ipykernel_launcher.py:56: SettingWithCopyWarning: \n",
      "A value is trying to be set on a copy of a slice from a DataFrame.\n",
      "Try using .loc[row_indexer,col_indexer] = value instead\n",
      "\n",
      "See the caveats in the documentation: http://pandas.pydata.org/pandas-docs/stable/indexing.html#indexing-view-versus-copy\n"
     ]
    }
   ],
   "source": [
    "#traiging_time_RBAB=pd.DataFrame()\n",
    "traiging_time_RB=pd.DataFrame()\n",
    "traiging_time_RA=pd.DataFrame()\n",
    "for index, row in df_yearly_stats_first.iterrows():\n",
    "    #the bug created and assigned & before release  \n",
    "   # print(type(row['RBAB']))\n",
    "   # print(row['RBAB'])\n",
    "    release=str(row['version'])\n",
    "    \n",
    "    df_b=df_all[df_all.id.isin(row['RBAB'])]\n",
    "    if len(df_b)>0:\n",
    "\n",
    "            \n",
    "\n",
    "        df_b=trans_to_datetime(df_b,['creation_time','first_assignment_date'])\n",
    "        df_b['triaging_time'] =df_b.apply(lambda x : (x['first_assignment_date']-x['creation_time']).days, axis=1)\n",
    "        df_b= df_b[['id',\n",
    "         'first_assignment_date',\n",
    "         'triaging_time' ,'release' ]]\n",
    "        df_b['done'] = '1'\n",
    "        traiging_time_RB=traiging_time_RB.append(df_b)\n",
    "    #the bug created before and assigned after release  \n",
    "    df_b=df_all[df_all.id.isin(row['RBAA'])]\n",
    "    if len(df_b)>0:\n",
    "   \n",
    "        df_b=trans_to_datetime(df_b,['creation_time','first_assignment_date'])\n",
    "\n",
    "        date=datetime.strptime(release_creation_ts_all[release], '%Y-%m-%d %H:%M:%S')\n",
    "        df_b['triaging_time'] =df_b.apply(lambda x : (date-x['creation_time']).days, axis=1)\n",
    "        df_b= df_b[['id',\n",
    "         'first_assignment_date',\n",
    "         'triaging_time' ,'release' ]]\n",
    "        df_b['done'] = '0'\n",
    "        traiging_time_RB=traiging_time_RB.append(df_b)\n",
    "    \n",
    "    \n",
    "    #the bug created and assigned & after release \n",
    "    df_a=df_all[df_all.id.isin(row['RAAA'])]\n",
    "    if len(df_a)>0:\n",
    "\n",
    "        df_a=trans_to_datetime(df_a,['creation_time','first_assignment_date']) \n",
    "        df_a['triaging_time'] =df_a.apply(lambda x : (x['first_assignment_date']-x['creation_time']).days, axis=1)\n",
    "\n",
    "        df_a= df_a[['id',\n",
    "         'first_assignment_date',\n",
    "         'triaging_time',\n",
    "            'release']]\n",
    "        df_a['done'] = '1'\n",
    "        traiging_time_RA=traiging_time_RA.append(df_a)\n",
    "     #the bug created after release and not assigned within 1 year\n",
    "    df_a=df_all[df_all.id.isin(row['RANA'])]\n",
    "    if len(df_a)>0:\n",
    "        date=datetime.strptime(release_creation_ts_all[version_successor(release)], '%Y-%m-%d %H:%M:%S')\n",
    "\n",
    "        df_a=trans_to_datetime(df_a,['creation_time','first_assignment_date']) \n",
    "        df_a['triaging_time'] =df_a.apply(lambda x : (date-x['creation_time']).days, axis=1)\n",
    "\n",
    "        df_a= df_a[['id',\n",
    "         'first_assignment_date',\n",
    "         'triaging_time',\n",
    "            'release']]\n",
    "        df_a['done'] = '0'\n",
    "        traiging_time_RA=traiging_time_RA.append(df_a)\n",
    "   \n",
    "    #\n",
    "traiging_time_RB.to_csv('data'+os.sep+'RQ2'+os.sep+'Eclipse-RB-v2.zip',index=False,compression='zip')    \n",
    "traiging_time_RA.to_csv('data'+os.sep+'RQ2'+os.sep+'Eclipse-RA-v2.zip',index=False,compression='zip')"
   ]
  },
  {
   "cell_type": "code",
   "execution_count": null,
   "metadata": {},
   "outputs": [],
   "source": []
  },
  {
   "cell_type": "code",
   "execution_count": 16,
   "metadata": {
    "scrolled": true
   },
   "outputs": [
    {
     "data": {
      "image/png": "[encoded data removed]",
      "text/plain": [
       "<Figure size 432x288 with 1 Axes>"
      ]
     },
     "metadata": {
      "needs_background": "light"
     },
     "output_type": "display_data"
    },
    {
     "data": {
      "image/png": "[encoded data removed]",
      "text/plain": [
       "<Figure size 432x288 with 1 Axes>"
      ]
     },
     "metadata": {
      "needs_background": "light"
     },
     "output_type": "display_data"
    },
    {
     "data": {
      "image/png": "[encoded data removed]",
      "text/plain": [
       "<Figure size 432x288 with 1 Axes>"
      ]
     },
     "metadata": {
      "needs_background": "light"
     },
     "output_type": "display_data"
    },
    {
     "data": {
      "image/png": "[encoded data removed]",
      "text/plain": [
       "<Figure size 432x288 with 1 Axes>"
      ]
     },
     "metadata": {
      "needs_background": "light"
     },
     "output_type": "display_data"
    },
    {
     "data": {
      "image/png": "[encoded data removed]",
      "text/plain": [
       "<Figure size 432x288 with 1 Axes>"
      ]
     },
     "metadata": {
      "needs_background": "light"
     },
     "output_type": "display_data"
    },
    {
     "data": {
      "image/png": "[encoded data removed]",
      "text/plain": [
       "<Figure size 432x288 with 1 Axes>"
      ]
     },
     "metadata": {
      "needs_background": "light"
     },
     "output_type": "display_data"
    },
    {
     "data": {
      "image/png": "[encoded data removed]",
      "text/plain": [
       "<Figure size 432x288 with 1 Axes>"
      ]
     },
     "metadata": {
      "needs_background": "light"
     },
     "output_type": "display_data"
    },
    {
     "data": {
      "image/png": "[encoded data removed]",
      "text/plain": [
       "<Figure size 432x288 with 1 Axes>"
      ]
     },
     "metadata": {
      "needs_background": "light"
     },
     "output_type": "display_data"
    },
    {
     "data": {
      "image/png": "[encoded data removed]",
      "text/plain": [
       "<Figure size 432x288 with 1 Axes>"
      ]
     },
     "metadata": {
      "needs_background": "light"
     },
     "output_type": "display_data"
    },
    {
     "data": {
      "image/png": "[encoded data removed]",
      "text/plain": [
       "<Figure size 432x288 with 1 Axes>"
      ]
     },
     "metadata": {
      "needs_background": "light"
     },
     "output_type": "display_data"
    },
    {
     "data": {
      "image/png": "[encoded data removed]",
      "text/plain": [
       "<Figure size 432x288 with 1 Axes>"
      ]
     },
     "metadata": {
      "needs_background": "light"
     },
     "output_type": "display_data"
    },
    {
     "data": {
      "image/png": "[encoded data removed]",
      "text/plain": [
       "<Figure size 432x288 with 1 Axes>"
      ]
     },
     "metadata": {
      "needs_background": "light"
     },
     "output_type": "display_data"
    },
    {
     "data": {
      "image/png": "[encoded data removed]",
      "text/plain": [
       "<Figure size 432x288 with 1 Axes>"
      ]
     },
     "metadata": {
      "needs_background": "light"
     },
     "output_type": "display_data"
    },
    {
     "data": {
      "image/png": "[encoded data removed]",
      "text/plain": [
       "<Figure size 432x288 with 1 Axes>"
      ]
     },
     "metadata": {
      "needs_background": "light"
     },
     "output_type": "display_data"
    },
    {
     "data": {
      "image/png": "[encoded data removed]",
      "text/plain": [
       "<Figure size 432x288 with 1 Axes>"
      ]
     },
     "metadata": {
      "needs_background": "light"
     },
     "output_type": "display_data"
    }
   ],
   "source": [
    "kmf = KaplanMeierFitter()\n",
    "RBAB = pd.read_csv('data'+os.sep+'RQ2'+os.sep+'Eclipse-RB-v2.zip',index_col=False,compression='zip',dtype={'release':str})\n",
    "RAAA = pd.read_csv('data'+os.sep+'RQ2'+os.sep+'Eclipse-RA-v2.zip',index_col=False,compression='zip',dtype={'release':str})\n",
    "RBAB['release'] = RBAB['release'].astype(str)\n",
    "RAAA['release'] = RAAA['release'].astype(str)\n",
    "time=['Reported before release','Reported after release']\n",
    "\n",
    "for release in RBAB.release.unique():\n",
    "    ax = plt.subplot(1, 1,1)\n",
    "    file=[release,RBAB[RBAB['release']==release],RAAA[RAAA['release']==release]]\n",
    "    \n",
    "    for j,dat in enumerate(file):\n",
    "        if j==0:\n",
    "            version=dat\n",
    "        else:\n",
    "            T = dat[\"triaging_time\"]\n",
    "            E = dat[\"done\"]\n",
    "            kmf.fit( T, E, label=time[j-1])\n",
    "            kmf.plot(ax=ax, ci_force_lines=True)\n",
    "            ax.set_xlabel(\"delay (days)\")\n",
    "            ax.set_ylabel(\"probability\")\n",
    " \n",
    "    plt.title('release '+version)\n",
    "    plt.xlim(0, 365)\n",
    "\n",
    "    plt.savefig('../paper/temp_figs/survival_'+version.replace('.', '_')+'.pdf')\n",
    "    \n",
    "    plt.tight_layout( )\n",
    "    plt.show()\n"
   ]
  },
  {
   "cell_type": "code",
   "execution_count": 17,
   "metadata": {},
   "outputs": [],
   "source": [
    "#logrank test"
   ]
  },
  {
   "cell_type": "code",
   "execution_count": 19,
   "metadata": {},
   "outputs": [],
   "source": [
    "RBAB = pd.read_csv('data'+os.sep+'RQ2'+os.sep+'Eclipse-RB-v2.zip',index_col=False,compression='zip',dtype={'release':str})\n",
    "RAAA = pd.read_csv('data'+os.sep+'RQ2'+os.sep+'Eclipse-RA-v2.zip',index_col=False,compression='zip',dtype={'release':str})\n",
    "RBAB['release'] = RBAB['release'].astype(str)\n",
    "RAAA['release'] = RAAA['release'].astype(str)\n",
    "\n",
    "pData=pd.DataFrame()\n",
    "T=[None] * 2\n",
    "E=[None] * 2\n",
    "results=[None] * 7\n",
    "for release in RBAB.release.unique():\n",
    "    i=0\n",
    "    \n",
    "    file=[release,RBAB[RBAB['release']==release],RAAA[RAAA['release']==release]]\n",
    "    k=0\n",
    "    for j,dat in enumerate(file):\n",
    "        if j==0:\n",
    "            version=dat\n",
    "        else:\n",
    "            T[k] = dat[\"triaging_time\"]\n",
    "            E[k] = dat[\"done\"]\n",
    "            k=k+1\n",
    "    results[i] = logrank_test(T[0], T[1], E[0], E[1], alpha=.95).p_value\n",
    "    pDat=pd.DataFrame({'version': [release] , 'p':[results[i]] })\n",
    "\n",
    "    #print(version)\n",
    "    pData=pData.append(pDat)\n",
    " \n"
   ]
  },
  {
   "cell_type": "code",
   "execution_count": 20,
   "metadata": {},
   "outputs": [
    {
     "data": {
      "text/html": [
       "<div>\n",
       "<style scoped>\n",
       "    .dataframe tbody tr th:only-of-type {\n",
       "        vertical-align: middle;\n",
       "    }\n",
       "\n",
       "    .dataframe tbody tr th {\n",
       "        vertical-align: top;\n",
       "    }\n",
       "\n",
       "    .dataframe thead th {\n",
       "        text-align: right;\n",
       "    }\n",
       "</style>\n",
       "<table border=\"1\" class=\"dataframe\">\n",
       "  <thead>\n",
       "    <tr style=\"text-align: right;\">\n",
       "      <th></th>\n",
       "      <th>version</th>\n",
       "      <th>p</th>\n",
       "    </tr>\n",
       "  </thead>\n",
       "  <tbody>\n",
       "    <tr>\n",
       "      <th>0</th>\n",
       "      <td>3.0</td>\n",
       "      <td>1.725265e-16</td>\n",
       "    </tr>\n",
       "    <tr>\n",
       "      <th>0</th>\n",
       "      <td>3.1</td>\n",
       "      <td>7.282718e-49</td>\n",
       "    </tr>\n",
       "    <tr>\n",
       "      <th>0</th>\n",
       "      <td>3.2</td>\n",
       "      <td>9.228699e-23</td>\n",
       "    </tr>\n",
       "    <tr>\n",
       "      <th>0</th>\n",
       "      <td>3.3</td>\n",
       "      <td>1.957731e-16</td>\n",
       "    </tr>\n",
       "    <tr>\n",
       "      <th>0</th>\n",
       "      <td>3.4</td>\n",
       "      <td>8.328772e-01</td>\n",
       "    </tr>\n",
       "    <tr>\n",
       "      <th>0</th>\n",
       "      <td>3.5</td>\n",
       "      <td>4.563037e-01</td>\n",
       "    </tr>\n",
       "    <tr>\n",
       "      <th>0</th>\n",
       "      <td>3.6</td>\n",
       "      <td>9.452430e-05</td>\n",
       "    </tr>\n",
       "    <tr>\n",
       "      <th>0</th>\n",
       "      <td>3.7</td>\n",
       "      <td>8.346436e-03</td>\n",
       "    </tr>\n",
       "    <tr>\n",
       "      <th>0</th>\n",
       "      <td>4.2</td>\n",
       "      <td>9.533547e-05</td>\n",
       "    </tr>\n",
       "    <tr>\n",
       "      <th>0</th>\n",
       "      <td>4.3</td>\n",
       "      <td>2.994975e-03</td>\n",
       "    </tr>\n",
       "    <tr>\n",
       "      <th>0</th>\n",
       "      <td>4.4</td>\n",
       "      <td>8.886870e-02</td>\n",
       "    </tr>\n",
       "    <tr>\n",
       "      <th>0</th>\n",
       "      <td>4.5</td>\n",
       "      <td>1.109529e-03</td>\n",
       "    </tr>\n",
       "    <tr>\n",
       "      <th>0</th>\n",
       "      <td>4.6</td>\n",
       "      <td>1.910741e-04</td>\n",
       "    </tr>\n",
       "    <tr>\n",
       "      <th>0</th>\n",
       "      <td>4.7</td>\n",
       "      <td>1.456151e-01</td>\n",
       "    </tr>\n",
       "    <tr>\n",
       "      <th>0</th>\n",
       "      <td>4.8</td>\n",
       "      <td>1.453088e-01</td>\n",
       "    </tr>\n",
       "  </tbody>\n",
       "</table>\n",
       "</div>"
      ],
      "text/plain": [
       "  version             p\n",
       "0     3.0  1.725265e-16\n",
       "0     3.1  7.282718e-49\n",
       "0     3.2  9.228699e-23\n",
       "0     3.3  1.957731e-16\n",
       "0     3.4  8.328772e-01\n",
       "0     3.5  4.563037e-01\n",
       "0     3.6  9.452430e-05\n",
       "0     3.7  8.346436e-03\n",
       "0     4.2  9.533547e-05\n",
       "0     4.3  2.994975e-03\n",
       "0     4.4  8.886870e-02\n",
       "0     4.5  1.109529e-03\n",
       "0     4.6  1.910741e-04\n",
       "0     4.7  1.456151e-01\n",
       "0     4.8  1.453088e-01"
      ]
     },
     "execution_count": 20,
     "metadata": {},
     "output_type": "execute_result"
    }
   ],
   "source": [
    "pData= pData[['version' , 'p']]\n",
    "pData"
   ]
  },
  {
   "cell_type": "code",
   "execution_count": 21,
   "metadata": {},
   "outputs": [],
   "source": [
    "pData['H0'] = pData['p'].apply(lambda x: 'reject H0' if x <0.01 else 'can not reject H0')"
   ]
  },
  {
   "cell_type": "code",
   "execution_count": 22,
   "metadata": {},
   "outputs": [
    {
     "data": {
      "text/html": [
       "<div>\n",
       "<style scoped>\n",
       "    .dataframe tbody tr th:only-of-type {\n",
       "        vertical-align: middle;\n",
       "    }\n",
       "\n",
       "    .dataframe tbody tr th {\n",
       "        vertical-align: top;\n",
       "    }\n",
       "\n",
       "    .dataframe thead th {\n",
       "        text-align: right;\n",
       "    }\n",
       "</style>\n",
       "<table border=\"1\" class=\"dataframe\">\n",
       "  <thead>\n",
       "    <tr style=\"text-align: right;\">\n",
       "      <th></th>\n",
       "      <th>version</th>\n",
       "      <th>p</th>\n",
       "      <th>H0</th>\n",
       "    </tr>\n",
       "  </thead>\n",
       "  <tbody>\n",
       "    <tr>\n",
       "      <th>0</th>\n",
       "      <td>3.0</td>\n",
       "      <td>1.725265e-16</td>\n",
       "      <td>reject H0</td>\n",
       "    </tr>\n",
       "    <tr>\n",
       "      <th>0</th>\n",
       "      <td>3.1</td>\n",
       "      <td>7.282718e-49</td>\n",
       "      <td>reject H0</td>\n",
       "    </tr>\n",
       "    <tr>\n",
       "      <th>0</th>\n",
       "      <td>3.2</td>\n",
       "      <td>9.228699e-23</td>\n",
       "      <td>reject H0</td>\n",
       "    </tr>\n",
       "    <tr>\n",
       "      <th>0</th>\n",
       "      <td>3.3</td>\n",
       "      <td>1.957731e-16</td>\n",
       "      <td>reject H0</td>\n",
       "    </tr>\n",
       "    <tr>\n",
       "      <th>0</th>\n",
       "      <td>3.4</td>\n",
       "      <td>8.328772e-01</td>\n",
       "      <td>can not reject H0</td>\n",
       "    </tr>\n",
       "    <tr>\n",
       "      <th>0</th>\n",
       "      <td>3.5</td>\n",
       "      <td>4.563037e-01</td>\n",
       "      <td>can not reject H0</td>\n",
       "    </tr>\n",
       "    <tr>\n",
       "      <th>0</th>\n",
       "      <td>3.6</td>\n",
       "      <td>9.452430e-05</td>\n",
       "      <td>reject H0</td>\n",
       "    </tr>\n",
       "    <tr>\n",
       "      <th>0</th>\n",
       "      <td>3.7</td>\n",
       "      <td>8.346436e-03</td>\n",
       "      <td>reject H0</td>\n",
       "    </tr>\n",
       "    <tr>\n",
       "      <th>0</th>\n",
       "      <td>4.2</td>\n",
       "      <td>9.533547e-05</td>\n",
       "      <td>reject H0</td>\n",
       "    </tr>\n",
       "    <tr>\n",
       "      <th>0</th>\n",
       "      <td>4.3</td>\n",
       "      <td>2.994975e-03</td>\n",
       "      <td>reject H0</td>\n",
       "    </tr>\n",
       "    <tr>\n",
       "      <th>0</th>\n",
       "      <td>4.4</td>\n",
       "      <td>8.886870e-02</td>\n",
       "      <td>can not reject H0</td>\n",
       "    </tr>\n",
       "    <tr>\n",
       "      <th>0</th>\n",
       "      <td>4.5</td>\n",
       "      <td>1.109529e-03</td>\n",
       "      <td>reject H0</td>\n",
       "    </tr>\n",
       "    <tr>\n",
       "      <th>0</th>\n",
       "      <td>4.6</td>\n",
       "      <td>1.910741e-04</td>\n",
       "      <td>reject H0</td>\n",
       "    </tr>\n",
       "    <tr>\n",
       "      <th>0</th>\n",
       "      <td>4.7</td>\n",
       "      <td>1.456151e-01</td>\n",
       "      <td>can not reject H0</td>\n",
       "    </tr>\n",
       "    <tr>\n",
       "      <th>0</th>\n",
       "      <td>4.8</td>\n",
       "      <td>1.453088e-01</td>\n",
       "      <td>can not reject H0</td>\n",
       "    </tr>\n",
       "  </tbody>\n",
       "</table>\n",
       "</div>"
      ],
      "text/plain": [
       "  version             p                 H0\n",
       "0     3.0  1.725265e-16          reject H0\n",
       "0     3.1  7.282718e-49          reject H0\n",
       "0     3.2  9.228699e-23          reject H0\n",
       "0     3.3  1.957731e-16          reject H0\n",
       "0     3.4  8.328772e-01  can not reject H0\n",
       "0     3.5  4.563037e-01  can not reject H0\n",
       "0     3.6  9.452430e-05          reject H0\n",
       "0     3.7  8.346436e-03          reject H0\n",
       "0     4.2  9.533547e-05          reject H0\n",
       "0     4.3  2.994975e-03          reject H0\n",
       "0     4.4  8.886870e-02  can not reject H0\n",
       "0     4.5  1.109529e-03          reject H0\n",
       "0     4.6  1.910741e-04          reject H0\n",
       "0     4.7  1.456151e-01  can not reject H0\n",
       "0     4.8  1.453088e-01  can not reject H0"
      ]
     },
     "execution_count": 22,
     "metadata": {},
     "output_type": "execute_result"
    }
   ],
   "source": [
    "pData"
   ]
  },
  {
   "cell_type": "code",
   "execution_count": 23,
   "metadata": {},
   "outputs": [],
   "source": [
    "pData.to_csv('data'+os.sep+'RQ2'+os.sep+'logrank_test-v2.zip',index=False,compression='zip')"
   ]
  },
  {
   "cell_type": "code",
   "execution_count": null,
   "metadata": {},
   "outputs": [],
   "source": []
  },
  {
   "cell_type": "markdown",
   "metadata": {},
   "source": [
    "# rolling release"
   ]
  },
  {
   "cell_type": "code",
   "execution_count": 25,
   "metadata": {},
   "outputs": [],
   "source": [
    "      temp_rolling={  \"4.9\"  : \"2018-09-19 00:00:00\",\n",
    "        \"4.10\" : \"2018-12-19 00:00:00\",\n",
    "        \"4.11\" : \"2019-03-20 00:00:00\"}"
   ]
  },
  {
   "cell_type": "code",
   "execution_count": 26,
   "metadata": {},
   "outputs": [],
   "source": [
    "def get_triaging_statistics_per_release_rolling(df_w,assignedFirst,resolvedFirst):\n",
    "    #Calculate traiging time per release\n",
    "    df_ret=pd.DataFrame()\n",
    "    df_w['release'] = df_w['release'].astype(str)\n",
    "    \n",
    "    if assignedFirst:\n",
    "        assingment_column = 'first_assignment_date'\n",
    "    else:\n",
    "        assingment_column = 'last_assignment_date'\n",
    "        \n",
    "        \n",
    "    if resolvedFirst:\n",
    "        resolve_column = 'first_resolved_date'\n",
    "    else:\n",
    "        resolve_column = 'last_resolved_date'\n",
    "        \n",
    "        \n",
    "    for version in df_w.release.unique():\n",
    "        start_date = release_creation_ts_all[version]\n",
    "        start_date = pd.to_datetime(start_date)\n",
    "        \n",
    "        end_date_before=addYears(start_date,-1)\n",
    "        end_date_after=datetime.strptime(temp_rolling[version_successor_rolling(version)], '%Y-%m-%d %H:%M:%S')\n",
    "\n",
    "        #Fetch the bugs of this version\n",
    "        version_bugs = df_w[df_w['release']==version]\n",
    "        \n",
    "        version_bugs = trans_to_datetime(version_bugs,\n",
    "                                        ['creation_time','first_assignment_date',\n",
    "       'last_assignment_date', 'first_resolved_date', 'last_resolved_date',\n",
    "       'first_fixed_date', 'last_fixed_date'])\n",
    "\n",
    "        #the bug before release \n",
    "        bugs_before_release = version_bugs[(version_bugs['creation_time']<start_date) & (version_bugs['creation_time']>=end_date_before) ]\n",
    "        \n",
    "        #the bug after release \n",
    "        bugs_after_release = version_bugs[(version_bugs['creation_time']>= start_date) & (version_bugs['creation_time']< end_date_after)]\n",
    "        \n",
    "        #the bug created and assigned & before release \n",
    "        bugs_created_assigned_before_release = (\n",
    "            version_bugs[(version_bugs['id'].isin(bugs_before_release.id.unique())) &\n",
    "                        (version_bugs[assingment_column]<start_date)]\n",
    "        )   \n",
    "   \n",
    "\n",
    "        #the bug created before release and assigned  after release \n",
    "        bugs_created_before_assigned_after_release = (\n",
    "            version_bugs[(version_bugs['id'].isin(bugs_before_release.id.unique())) &\n",
    "                        (version_bugs[assingment_column] > start_date )]\n",
    "        )\n",
    "\n",
    "\n",
    "\n",
    "        #the bug created after release  and assigned\n",
    "        bugs_created_after_release_assigned = (\n",
    "            version_bugs[(version_bugs['id'].isin(bugs_after_release.id.unique())) &\n",
    "                        (version_bugs['is_assigned'] > 0)  &  (version_bugs[assingment_column] <= end_date_after )]\n",
    "        )\n",
    "                #the bug created after release  and assigned\n",
    "        bugs_created_after_release_not_assigned = (\n",
    "            version_bugs[(version_bugs['id'].isin(bugs_after_release.id.unique())) &\n",
    "                        (version_bugs['is_assigned'] > 0) &  (version_bugs[assingment_column] > end_date_after )]\n",
    "        )\n",
    "\n",
    " #& (version_bugs[assingment_column] < end_date_after)\n",
    "     \n",
    "        before_release = len(bugs_before_release.id.unique())\n",
    "        RBAB= bugs_created_assigned_before_release.id.unique().tolist()\n",
    "        RBAA = bugs_created_before_assigned_after_release.id.unique().tolist()\n",
    "        after_release = len(bugs_after_release.id.unique())\n",
    "        RAAA = bugs_created_after_release_assigned.id.unique().tolist()\n",
    "        RANA = bugs_created_after_release_not_assigned.id.unique().tolist()\n",
    "       \n",
    "  \n",
    "        df_ret=df_ret.append({\"version\": version , \n",
    "                           \"total\": len(version_bugs.id.unique()) ,\n",
    "                           'before_release': before_release, \n",
    "                           'after_release':after_release, \n",
    "                           'RBAB':RBAB, \n",
    "                           'RBAA':RBAA, \n",
    "                           'RAAA':RAAA,\n",
    "                           'RANA':RANA\n",
    "                            },ignore_index=True)\n",
    "    return df_ret"
   ]
  },
  {
   "cell_type": "code",
   "execution_count": 27,
   "metadata": {},
   "outputs": [
    {
     "name": "stderr",
     "output_type": "stream",
     "text": [
      "C:\\Users\\zeinab\\Anaconda3\\lib\\site-packages\\ipykernel_launcher.py:4: SettingWithCopyWarning: \n",
      "A value is trying to be set on a copy of a slice from a DataFrame.\n",
      "Try using .loc[row_indexer,col_indexer] = value instead\n",
      "\n",
      "See the caveats in the documentation: http://pandas.pydata.org/pandas-docs/stable/indexing.html#indexing-view-versus-copy\n",
      "  after removing the cwd from sys.path.\n"
     ]
    },
    {
     "data": {
      "text/html": [
       "<div>\n",
       "<style scoped>\n",
       "    .dataframe tbody tr th:only-of-type {\n",
       "        vertical-align: middle;\n",
       "    }\n",
       "\n",
       "    .dataframe tbody tr th {\n",
       "        vertical-align: top;\n",
       "    }\n",
       "\n",
       "    .dataframe thead th {\n",
       "        text-align: right;\n",
       "    }\n",
       "</style>\n",
       "<table border=\"1\" class=\"dataframe\">\n",
       "  <thead>\n",
       "    <tr style=\"text-align: right;\">\n",
       "      <th></th>\n",
       "      <th>version</th>\n",
       "      <th>RAAA</th>\n",
       "      <th>RANA</th>\n",
       "      <th>RBAA</th>\n",
       "      <th>RBAB</th>\n",
       "      <th>after_release</th>\n",
       "      <th>before_release</th>\n",
       "      <th>total</th>\n",
       "    </tr>\n",
       "  </thead>\n",
       "  <tbody>\n",
       "    <tr>\n",
       "      <th>0</th>\n",
       "      <td>4.9</td>\n",
       "      <td>[539232, 539274, 539308, 539331, 539392, 53940...</td>\n",
       "      <td>[539414, 539706, 539707, 539869, 540817, 54247...</td>\n",
       "      <td>[539191, 536193, 537642, 538199, 538240, 53838...</td>\n",
       "      <td>[535977, 535992, 536027, 536168, 536185, 53620...</td>\n",
       "      <td>341.0</td>\n",
       "      <td>392.0</td>\n",
       "      <td>791.0</td>\n",
       "    </tr>\n",
       "    <tr>\n",
       "      <th>1</th>\n",
       "      <td>4.10</td>\n",
       "      <td>[542946, 543219, 543245, 543609, 543629, 54364...</td>\n",
       "      <td>[]</td>\n",
       "      <td>[540478, 540482, 541232, 541473, 541862, 54254...</td>\n",
       "      <td>[540097, 540200, 540260, 540474, 540580, 54069...</td>\n",
       "      <td>179.0</td>\n",
       "      <td>389.0</td>\n",
       "      <td>572.0</td>\n",
       "    </tr>\n",
       "  </tbody>\n",
       "</table>\n",
       "</div>"
      ],
      "text/plain": [
       "  version                                               RAAA  \\\n",
       "0     4.9  [539232, 539274, 539308, 539331, 539392, 53940...   \n",
       "1    4.10  [542946, 543219, 543245, 543609, 543629, 54364...   \n",
       "\n",
       "                                                RANA  \\\n",
       "0  [539414, 539706, 539707, 539869, 540817, 54247...   \n",
       "1                                                 []   \n",
       "\n",
       "                                                RBAA  \\\n",
       "0  [539191, 536193, 537642, 538199, 538240, 53838...   \n",
       "1  [540478, 540482, 541232, 541473, 541862, 54254...   \n",
       "\n",
       "                                                RBAB  after_release  \\\n",
       "0  [535977, 535992, 536027, 536168, 536185, 53620...          341.0   \n",
       "1  [540097, 540200, 540260, 540474, 540580, 54069...          179.0   \n",
       "\n",
       "   before_release  total  \n",
       "0           392.0  791.0  \n",
       "1           389.0  572.0  "
      ]
     },
     "execution_count": 27,
     "metadata": {},
     "output_type": "execute_result"
    }
   ],
   "source": [
    "tfile = 'data'+os.sep+'RQ2'+os.sep+'rolling_releases_yearly_stats_first_assign-v2.zip'\n",
    "if not os.path.exists(tfile):\n",
    "    df_yearly_stats_first_rolling = get_triaging_statistics_per_release_rolling(df_rolling,assignedFirst=True,resolvedFirst=False)\n",
    "    df_yearly_stats_first_rolling.to_csv(tfile,index=False,compression='zip')\n",
    "else:\n",
    "    df_yearly_stats_first_rolling = pd.read_csv(tfile,index_col=False,compression='zip',\n",
    "                                       dtype={'version': str,'release':str})\n",
    "    df_yearly_stats_first_rolling[\"RAAA\"]  = df_yearly_stats_first_rolling[\"RAAA\"].apply(ast.literal_eval)\n",
    "    df_yearly_stats_first_rolling[\"RBAA\"]  = df_yearly_stats_first_rolling[\"RBAA\"].apply(ast.literal_eval)\n",
    "    df_yearly_stats_first_rolling[\"RBAB\"]  = df_yearly_stats_first_rolling[\"RBAB\"].apply(ast.literal_eval)\n",
    "    df_yearly_stats_first_rolling[\"RANA\"]  = df_yearly_stats_first_rolling[\"RANA\"].apply(ast.literal_eval)\n",
    "    \n",
    "df_yearly_stats_first_rolling['version'] = df_yearly_stats_first_rolling['version'].astype(str)\n",
    "df_yearly_stats_first_rolling = sort_df(df_yearly_stats_first_rolling,'version')\n",
    "df_yearly_stats_first_rolling.head()"
   ]
  },
  {
   "cell_type": "code",
   "execution_count": 28,
   "metadata": {},
   "outputs": [
    {
     "name": "stderr",
     "output_type": "stream",
     "text": [
      "C:\\Users\\zeinab\\Anaconda3\\lib\\site-packages\\ipykernel_launcher.py:16: SettingWithCopyWarning: \n",
      "A value is trying to be set on a copy of a slice from a DataFrame.\n",
      "Try using .loc[row_indexer,col_indexer] = value instead\n",
      "\n",
      "See the caveats in the documentation: http://pandas.pydata.org/pandas-docs/stable/indexing.html#indexing-view-versus-copy\n",
      "  app.launch_new_instance()\n",
      "C:\\Users\\zeinab\\Anaconda3\\lib\\site-packages\\ipykernel_launcher.py:30: SettingWithCopyWarning: \n",
      "A value is trying to be set on a copy of a slice from a DataFrame.\n",
      "Try using .loc[row_indexer,col_indexer] = value instead\n",
      "\n",
      "See the caveats in the documentation: http://pandas.pydata.org/pandas-docs/stable/indexing.html#indexing-view-versus-copy\n",
      "C:\\Users\\zeinab\\Anaconda3\\lib\\site-packages\\ipykernel_launcher.py:43: SettingWithCopyWarning: \n",
      "A value is trying to be set on a copy of a slice from a DataFrame.\n",
      "Try using .loc[row_indexer,col_indexer] = value instead\n",
      "\n",
      "See the caveats in the documentation: http://pandas.pydata.org/pandas-docs/stable/indexing.html#indexing-view-versus-copy\n",
      "C:\\Users\\zeinab\\Anaconda3\\lib\\site-packages\\ipykernel_launcher.py:57: SettingWithCopyWarning: \n",
      "A value is trying to be set on a copy of a slice from a DataFrame.\n",
      "Try using .loc[row_indexer,col_indexer] = value instead\n",
      "\n",
      "See the caveats in the documentation: http://pandas.pydata.org/pandas-docs/stable/indexing.html#indexing-view-versus-copy\n"
     ]
    }
   ],
   "source": [
    "#traiging_time_RBAB=pd.DataFrame()\n",
    "traiging_time_RB=pd.DataFrame()\n",
    "traiging_time_RA=pd.DataFrame()\n",
    "for index, row in df_yearly_stats_first_rolling.iterrows():\n",
    "    #the bug created and assigned & before release  \n",
    "   # print(type(row['RBAB']))\n",
    "   # print(row['RBAB'])\n",
    "    release=str(row['version'])\n",
    "    \n",
    "    #print(release)\n",
    "    df_b=df_all[df_all.id.isin(row['RBAB'])]\n",
    "    #print(len(df_b))\n",
    "    if len(df_b)>0:\n",
    " \n",
    "        df_b=trans_to_datetime(df_b,['creation_time','first_assignment_date'])\n",
    "        df_b['triaging_time'] =df_b.apply(lambda x : (x['first_assignment_date']-x['creation_time']).days, axis=1)\n",
    "        df_b= df_b[['id',\n",
    "         'first_assignment_date',\n",
    "         'triaging_time' ,'release' ]]\n",
    "        df_b['done'] = '1'\n",
    "        traiging_time_RB=traiging_time_RB.append(df_b)\n",
    "    #the bug created before and assigned after release  \n",
    "    df_b=df_all[df_all.id.isin(row['RBAA'])]\n",
    "    if len(df_b)>0:\n",
    "\n",
    "   \n",
    "        df_b=trans_to_datetime(df_b,['creation_time','first_assignment_date'])\n",
    "\n",
    "        date=datetime.strptime(release_creation_ts_all[release], '%Y-%m-%d %H:%M:%S')\n",
    "        df_b['triaging_time'] =df_b.apply(lambda x : (date-x['creation_time']).days, axis=1)\n",
    "        df_b= df_b[['id',\n",
    "         'first_assignment_date',\n",
    "         'triaging_time' ,'release' ]]\n",
    "        df_b['done'] = '0'\n",
    "        traiging_time_RB=traiging_time_RB.append(df_b)\n",
    "    \n",
    "    \n",
    "    #the bug created and assigned & after release \n",
    "    df_a=df_all[df_all.id.isin(row['RAAA'])]\n",
    "    if len(df_a)>0:\n",
    "\n",
    "        df_a=trans_to_datetime(df_a,['creation_time','first_assignment_date']) \n",
    "        df_a['triaging_time'] =df_a.apply(lambda x : (x['first_assignment_date']-x['creation_time']).days, axis=1)\n",
    "\n",
    "        df_a= df_a[['id',\n",
    "         'first_assignment_date',\n",
    "         'triaging_time',\n",
    "            'release']]\n",
    "        df_a['done'] = '1'\n",
    "        traiging_time_RA=traiging_time_RA.append(df_a)\n",
    "     #the bug created after release and not assigned within 1 year\n",
    "    df_a=df_all[df_all.id.isin(row['RANA'])]\n",
    "    if len(df_a)>0:\n",
    "        date=datetime.strptime(release_creation_ts_all[version_successor_rolling(release)], '%Y-%m-%d %H:%M:%S')\n",
    "\n",
    "        df_a=trans_to_datetime(df_a,['creation_time','first_assignment_date']) \n",
    "        df_a['triaging_time'] =df_a.apply(lambda x : (date-x['creation_time']).days, axis=1)\n",
    "\n",
    "        df_a= df_a[['id',\n",
    "         'first_assignment_date',\n",
    "         'triaging_time',\n",
    "            'release']]\n",
    "        df_a['done'] = '0'\n",
    "        traiging_time_RA=traiging_time_RA.append(df_a)\n",
    "   \n",
    "    #\n",
    "traiging_time_RB.to_csv('data'+os.sep+'RQ2'+os.sep+'rolling_Eclipse-RB-v2.zip',index=False,compression='zip')    \n",
    "traiging_time_RA.to_csv('data'+os.sep+'RQ2'+os.sep+'rolling_Eclipse-RA-v2.zip',index=False,compression='zip')"
   ]
  },
  {
   "cell_type": "code",
   "execution_count": 29,
   "metadata": {},
   "outputs": [
    {
     "data": {
      "image/png": "[encoded data removed]",
      "text/plain": [
       "<Figure size 432x288 with 1 Axes>"
      ]
     },
     "metadata": {
      "needs_background": "light"
     },
     "output_type": "display_data"
    },
    {
     "data": {
      "image/png": "[encoded data removed]",
      "text/plain": [
       "<Figure size 432x288 with 1 Axes>"
      ]
     },
     "metadata": {
      "needs_background": "light"
     },
     "output_type": "display_data"
    }
   ],
   "source": [
    "kmf = KaplanMeierFitter()\n",
    "RBAB = pd.read_csv('data'+os.sep+'RQ2'+os.sep+'rolling_Eclipse-RB-v2.zip',index_col=False,compression='zip',dtype={'release':str})\n",
    "RAAA = pd.read_csv('data'+os.sep+'RQ2'+os.sep+'rolling_Eclipse-RA-v2.zip',index_col=False,compression='zip',dtype={'release':str})\n",
    "RBAB['release'] = RBAB['release'].astype(str)\n",
    "RAAA['release'] = RAAA['release'].astype(str)\n",
    "time=['Reported before release','Reported after release']\n",
    "\n",
    "for release in RBAB.release.unique():\n",
    "    ax = plt.subplot(1, 1,1)\n",
    "    file=[release,RBAB[RBAB['release']==release],RAAA[RAAA['release']==release]]\n",
    "    \n",
    "    for j,dat in enumerate(file):\n",
    "        if j==0:\n",
    "            version=dat\n",
    "        else:\n",
    "            T = dat[\"triaging_time\"]\n",
    "            E = dat[\"done\"]\n",
    "            kmf.fit( T, E, label=time[j-1])\n",
    "            kmf.plot(ax=ax, ci_force_lines=True)\n",
    "            ax.set_xlabel(\"delay (days)\")\n",
    "            ax.set_ylabel(\"probability\")\n",
    " \n",
    "    plt.title('release '+version)\n",
    "    plt.xlim(0, 365)\n",
    "\n",
    "    plt.savefig('../paper/temp_figs/survival_'+version.replace('.', '_')+'.pdf')\n",
    "    \n",
    "    plt.tight_layout( )\n",
    "    plt.show()\n"
   ]
  },
  {
   "cell_type": "code",
   "execution_count": 30,
   "metadata": {},
   "outputs": [],
   "source": [
    "RBAB = pd.read_csv('data'+os.sep+'RQ2'+os.sep+'rolling_Eclipse-RB-v2.zip',index_col=False,compression='zip',dtype={'release':str})\n",
    "RAAA = pd.read_csv('data'+os.sep+'RQ2'+os.sep+'rolling_Eclipse-RA-v2.zip',index_col=False,compression='zip',dtype={'release':str})\n",
    "RBAB['release'] = RBAB['release'].astype(str)\n",
    "RAAA['release'] = RAAA['release'].astype(str)\n",
    "\n",
    "pData=pd.DataFrame()\n",
    "T=[None] * 2\n",
    "E=[None] * 2\n",
    "results=[None] * 7\n",
    "for release in RBAB.release.unique():\n",
    "    i=0\n",
    "    \n",
    "    file=[release,RBAB[RBAB['release']==release],RAAA[RAAA['release']==release]]\n",
    "    k=0\n",
    "    for j,dat in enumerate(file):\n",
    "        if j==0:\n",
    "            version=dat\n",
    "        else:\n",
    "            T[k] = dat[\"triaging_time\"]\n",
    "            E[k] = dat[\"done\"]\n",
    "            k=k+1\n",
    "    results[i] = logrank_test(T[0], T[1], E[0], E[1], alpha=.95).p_value\n",
    "    pDat=pd.DataFrame({'version': [release] , 'p':[results[i]] })\n",
    "\n",
    "    #print(version)\n",
    "    pData=pData.append(pDat)\n",
    " \n"
   ]
  },
  {
   "cell_type": "code",
   "execution_count": 31,
   "metadata": {},
   "outputs": [
    {
     "data": {
      "text/html": [
       "<div>\n",
       "<style scoped>\n",
       "    .dataframe tbody tr th:only-of-type {\n",
       "        vertical-align: middle;\n",
       "    }\n",
       "\n",
       "    .dataframe tbody tr th {\n",
       "        vertical-align: top;\n",
       "    }\n",
       "\n",
       "    .dataframe thead th {\n",
       "        text-align: right;\n",
       "    }\n",
       "</style>\n",
       "<table border=\"1\" class=\"dataframe\">\n",
       "  <thead>\n",
       "    <tr style=\"text-align: right;\">\n",
       "      <th></th>\n",
       "      <th>version</th>\n",
       "      <th>p</th>\n",
       "    </tr>\n",
       "  </thead>\n",
       "  <tbody>\n",
       "    <tr>\n",
       "      <th>0</th>\n",
       "      <td>4.9</td>\n",
       "      <td>0.862668</td>\n",
       "    </tr>\n",
       "    <tr>\n",
       "      <th>0</th>\n",
       "      <td>4.10</td>\n",
       "      <td>0.499516</td>\n",
       "    </tr>\n",
       "  </tbody>\n",
       "</table>\n",
       "</div>"
      ],
      "text/plain": [
       "  version         p\n",
       "0     4.9  0.862668\n",
       "0    4.10  0.499516"
      ]
     },
     "execution_count": 31,
     "metadata": {},
     "output_type": "execute_result"
    }
   ],
   "source": [
    "pData= pData[['version' , 'p']]\n",
    "pData"
   ]
  },
  {
   "cell_type": "code",
   "execution_count": 32,
   "metadata": {},
   "outputs": [],
   "source": [
    "pData['H0'] = pData['p'].apply(lambda x: 'reject H0' if x <0.01 else 'can not reject H0')"
   ]
  },
  {
   "cell_type": "code",
   "execution_count": 33,
   "metadata": {},
   "outputs": [
    {
     "data": {
      "text/html": [
       "<div>\n",
       "<style scoped>\n",
       "    .dataframe tbody tr th:only-of-type {\n",
       "        vertical-align: middle;\n",
       "    }\n",
       "\n",
       "    .dataframe tbody tr th {\n",
       "        vertical-align: top;\n",
       "    }\n",
       "\n",
       "    .dataframe thead th {\n",
       "        text-align: right;\n",
       "    }\n",
       "</style>\n",
       "<table border=\"1\" class=\"dataframe\">\n",
       "  <thead>\n",
       "    <tr style=\"text-align: right;\">\n",
       "      <th></th>\n",
       "      <th>version</th>\n",
       "      <th>p</th>\n",
       "      <th>H0</th>\n",
       "    </tr>\n",
       "  </thead>\n",
       "  <tbody>\n",
       "    <tr>\n",
       "      <th>0</th>\n",
       "      <td>4.9</td>\n",
       "      <td>0.862668</td>\n",
       "      <td>can not reject H0</td>\n",
       "    </tr>\n",
       "    <tr>\n",
       "      <th>0</th>\n",
       "      <td>4.10</td>\n",
       "      <td>0.499516</td>\n",
       "      <td>can not reject H0</td>\n",
       "    </tr>\n",
       "  </tbody>\n",
       "</table>\n",
       "</div>"
      ],
      "text/plain": [
       "  version         p                 H0\n",
       "0     4.9  0.862668  can not reject H0\n",
       "0    4.10  0.499516  can not reject H0"
      ]
     },
     "execution_count": 33,
     "metadata": {},
     "output_type": "execute_result"
    }
   ],
   "source": [
    "pData"
   ]
  },
  {
   "cell_type": "code",
   "execution_count": null,
   "metadata": {},
   "outputs": [],
   "source": []
  }
 ],
 "metadata": {
  "kernelspec": {
   "display_name": "Python 3",
   "language": "python",
   "name": "python3"
  },
  "language_info": {
   "codemirror_mode": {
    "name": "ipython",
    "version": 3
   },
   "file_extension": ".py",
   "mimetype": "text/x-python",
   "name": "python",
   "nbconvert_exporter": "python",
   "pygments_lexer": "ipython3",
   "version": "3.6.8"
  }
 },
 "nbformat": 4,
 "nbformat_minor": 2
}
